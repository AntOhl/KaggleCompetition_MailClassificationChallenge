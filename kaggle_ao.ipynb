{
 "cells": [
  {
   "cell_type": "code",
   "execution_count": 102,
   "metadata": {},
   "outputs": [],
   "source": [
    "import pandas as pd\n",
    "from datetime import datetime\n",
    "\n",
    "from sklearn.preprocessing import OneHotEncoder, LabelEncoder\n",
    "from sklearn.neighbors import KNeighborsClassifier\n",
    "\n",
    "from sklearn.metrics import accuracy_score\n"
   ]
  },
  {
   "cell_type": "markdown",
   "metadata": {},
   "source": [
    "### TO DO:\n",
    "- Analyse of NaN with distribution plots\n",
    "- Correlation Matrix to see which features are important\n",
    "- "
   ]
  },
  {
   "cell_type": "markdown",
   "metadata": {},
   "source": [
    "Retours :\n",
    "\n",
    "- Covariate shift : AUC, s’il arrive a distinguer qu’une feature appartient plus à du train que du test (70%) on supprime la feature.\n",
    "- Poids de similarité : si une observation du train est proche d’une observation du test —> pondérer\n",
    "- Ensemble learning : predict_proba, mettre un seuil sur la probabilité !!\n",
    "- Faire du sample_weights "
   ]
  },
  {
   "cell_type": "code",
   "execution_count": 2,
   "metadata": {},
   "outputs": [],
   "source": [
    "## Read csvs\n",
    "train_df = pd.read_csv('train.csv', index_col=0)\n",
    "train_x = train_df[['date', 'org', 'tld', 'ccs', 'bcced', 'mail_type', 'images', 'urls',\n",
    "       'salutations', 'designation', 'chars_in_subject', 'chars_in_body',]]\n",
    "train_y = train_df[['label']]\n",
    "test_x = pd.read_csv('test.csv', index_col=0)"
   ]
  },
  {
   "cell_type": "code",
   "execution_count": 91,
   "metadata": {},
   "outputs": [
    {
     "name": "stdout",
     "output_type": "stream",
     "text": [
      "Size of the training set  (24840, 13)\n",
      "Size of the testing set  (10647, 12)\n"
     ]
    }
   ],
   "source": [
    "print('Size of the training set ', train_df.shape)\n",
    "print('Size of the testing set ', test_x.shape)"
   ]
  },
  {
   "cell_type": "code",
   "execution_count": 85,
   "metadata": {},
   "outputs": [],
   "source": [
    "## Handle missing values with median\n",
    "train_x.fillna('median', inplace=True)\n",
    "test_x.fillna('median', inplace=True)"
   ]
  },
  {
   "cell_type": "code",
   "execution_count": 86,
   "metadata": {},
   "outputs": [],
   "source": [
    "def date_to_datetime_format(date):\n",
    "    str_days = ['Mon', 'Tue', 'Wed', 'Thu', 'Fri', 'Sat', 'Sun']\n",
    "    first_int = str(list(range(0,10)))\n",
    "    date = date.strip() #remove whitespaces around the hole date\n",
    "    \n",
    "    #Thu, 12 May 2016 18:54:03 +0530 or Thu, 07 Jul 2016 01:11:41 -0600\n",
    "    if (date[0:3] in str_days) & ((date[-5] == '+') | (date[-5] == '-')):\n",
    "        #case of wrong date Mon, 6 Apr 2015 22:49:45 +0580\n",
    "        if int(date[-2:]) > 60:\n",
    "            date = date[:-2] + '00'\n",
    "        return datetime.strptime(date.strip(), '%a, %d %b %Y %H:%M:%S %z')\n",
    "    \n",
    "    #Wed, 01 May 2019 09:09:26 +0000 (UTC) or 'Tue, 23 May 2017 00:20:01 -0500 (CDT)'\n",
    "    elif (date[0:3] in str_days) & (date[-1] == ')') & (date[-5] == '('):\n",
    "        return datetime.strptime(date[0:-6], '%a, %d %b %Y %H:%M:%S %z')\n",
    "    \n",
    "    #27 Nov 2017 09:20:43 +0100 or 21 Aug 2017 09:36:56 -0400 \n",
    "    elif (date[0] in first_int) & ((date[-5] == '+') | (date[-5] == '-')):\n",
    "        return datetime.strptime(date, '%d %b %Y %H:%M:%S %z')\n",
    "    \n",
    "    #Thu, 31 Mar 2016 15:32:47 +0200 (CEST) or Wed, 25 Sep 2013 13:01:35 +0300 (EEST)\n",
    "    elif (date[0:3] in str_days) & (date[-6:] in ['(CEST)', '(EEST)']):\n",
    "        return datetime.strptime(date[0:-7], '%a, %d %b %Y %H:%M:%S %z')\n",
    "    \n",
    "    #2 Sep 2016 09:55:22 +0530\n",
    "    elif (date[0] in first_int) & ((date[-5] == '+') | (date[-5] == '-')):\n",
    "        return datetime.strptime(date, '%d %b %Y %H:%M:%S %z')\n",
    "    \n",
    "    #Wed, 23 Jan 2013 03:54:45 GMT\n",
    "    elif (date[0:3] in str_days) & (date[-3:]=='GMT'):\n",
    "        return datetime.strptime(date[:-4], '%a, %d %b %Y %H:%M:%S')\n",
    "    \n",
    "    #Thu, 20 Mar 2014 03:29:24 +0530 (GMT+05:30)\n",
    "    elif (date[0:3] in str_days) & (date[-11:-6]=='(GMT+'):\n",
    "        return datetime.strptime(date[:-12], '%a, %d %b %Y %H:%M:%S %z')\n",
    "    \n",
    "    #Thu, 31 Mar 2016 15:32:47 +0200 (INDIA)\n",
    "    elif (date[0:3] in str_days) & (date[-7:] == '(INDIA)'):\n",
    "        return datetime.strptime(date[0:-8], '%a, %d %b %Y %H:%M:%S %z')\n",
    "    \n",
    "    #11-MAR-2018 20:40:58\n",
    "    elif (date[0] in first_int) & (date[-1] in first_int) & (len(date) == 20):\n",
    "        return datetime.strptime(date, '%d-%b-%Y %H:%M:%S')\n",
    "    \n",
    "    #Mon, 8 Apr 2013 09:59:21\n",
    "    else:\n",
    "        return datetime.strptime(date, '%a, %d %b %Y %H:%M:%S')"
   ]
  },
  {
   "cell_type": "code",
   "execution_count": 87,
   "metadata": {},
   "outputs": [],
   "source": [
    "train_x['datetime'] = train_x.date.apply(lambda x : date_to_datetime_format(x))\n",
    "\n",
    "train_x['year'] = train_x['datetime'].apply(lambda x : x.year)\n",
    "train_x['month'] = train_x['datetime'].apply(lambda x : x.month)\n",
    "train_x['day'] = train_x['datetime'].apply(lambda x : x.day)\n",
    "train_x['hour'] = train_x['datetime'] .apply(lambda x : x.hour)"
   ]
  },
  {
   "cell_type": "code",
   "execution_count": 105,
   "metadata": {},
   "outputs": [],
   "source": [
    "# instantiate labelencoder object\n",
    "le = LabelEncoder()\n",
    "# apply le on categorical feature columns\n",
    "train_x[['org']] = train_x[['org']].apply(lambda col: le.fit_transform(col))"
   ]
  },
  {
   "cell_type": "code",
   "execution_count": 100,
   "metadata": {},
   "outputs": [],
   "source": [
    "feat_enc_org = OneHotEncoder()\n",
    "feat_enc_org.fit(train_x[['org']])\n",
    "train_x_featurized = feat_enc_org.transform(train_x[['org']])"
   ]
  },
  {
   "cell_type": "code",
   "execution_count": 4,
   "metadata": {},
   "outputs": [
    {
     "name": "stderr",
     "output_type": "stream",
     "text": [
      "/Users/antoineohleyer/miniconda3/envs/ipseite/lib/python3.7/site-packages/ipykernel_launcher.py:9: DataConversionWarning: A column-vector y was passed when a 1d array was expected. Please change the shape of y to (n_samples, ), for example using ravel().\n",
      "  if __name__ == '__main__':\n"
     ]
    }
   ],
   "source": [
    "## Do one hot encoding of categorical feature\n",
    "feat_enc = OneHotEncoder()\n",
    "feat_enc.fit(train_x)\n",
    "train_x_featurized = feat_enc.transform(train_x)\n",
    "test_x_featurized = feat_enc.transform(test_x)\n",
    "\n",
    "## Train a simple KNN classifier using featurized data\n",
    "neigh = KNeighborsClassifier(n_neighbors=3)\n",
    "neigh.fit(train_x_featurized, train_y)\n",
    "pred_y = neigh.predict(test_x_featurized)"
   ]
  },
  {
   "cell_type": "code",
   "execution_count": 5,
   "metadata": {},
   "outputs": [],
   "source": [
    "pred_df = pd.DataFrame(pred_y, columns=['label'])\n",
    "pred_df.to_csv(\"knn_sample_submission.csv\", index=True, index_label='Id')"
   ]
  }
 ],
 "metadata": {
  "kernelspec": {
   "display_name": "Python 3",
   "language": "python",
   "name": "python3"
  },
  "language_info": {
   "codemirror_mode": {
    "name": "ipython",
    "version": 3
   },
   "file_extension": ".py",
   "mimetype": "text/x-python",
   "name": "python",
   "nbconvert_exporter": "python",
   "pygments_lexer": "ipython3",
   "version": "3.7.4"
  }
 },
 "nbformat": 4,
 "nbformat_minor": 2
}
