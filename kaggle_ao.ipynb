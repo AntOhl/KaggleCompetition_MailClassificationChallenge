{
 "cells": [
  {
   "cell_type": "code",
   "execution_count": 1,
   "metadata": {},
   "outputs": [],
   "source": [
    "import pandas as pd\n",
    "\n",
    "from sklearn.preprocessing import OneHotEncoder\n",
    "from sklearn.neighbors import KNeighborsClassifier\n",
    "\n",
    "from sklearn.metrics import accuracy_score\n"
   ]
  },
  {
   "cell_type": "markdown",
   "metadata": {},
   "source": [
    "### TO DO:\n",
    "- Analyse of NaN with distribution plots\n",
    "- Correlation Matrix to see which features are important\n",
    "- "
   ]
  },
  {
   "cell_type": "markdown",
   "metadata": {},
   "source": [
    "Retours :\n",
    "\n",
    "- Covariate shift : AUC, s’il arrive a distinguer qu’une feature appartient plus à du train que du test (70%) on supprime la feature.\n",
    "- Poids de similarité : si une observation du train est proche d’une observation du test —> pondérer\n",
    "- Ensemble learning : predict_proba, mettre un seuil sur la probabilité !!\n",
    "- Faire du sample_weights "
   ]
  },
  {
   "cell_type": "code",
   "execution_count": 18,
   "metadata": {},
   "outputs": [],
   "source": [
    "## Read csvs\n",
    "train_df = pd.read_csv('train.csv', index_col=0)\n",
    "train_x = train_df[['date', 'org', 'tld', 'ccs', 'bcced', 'mail_type', 'images', 'urls',\n",
    "       'salutations', 'designation', 'chars_in_subject', 'chars_in_body',]]\n",
    "train_y = train_df[['label']]\n",
    "test_x = pd.read_csv('test.csv', index_col=0)"
   ]
  },
  {
   "cell_type": "code",
   "execution_count": 35,
   "metadata": {},
   "outputs": [
    {
     "name": "stdout",
     "output_type": "stream",
     "text": [
      "Sun, 28 Aug 2016 00:17:44 +0000\n",
      "Mon, 13 Jun 2016 07:17:24 +0000 (UTC)\n",
      "Tue, 21 Nov 2017 05:03:34 -0800 (PST)\n",
      "Wed, 3 Aug 2016 12:22:52 +0530\n",
      "Thu, 14 Feb 2019 09:37:30 +0000\n",
      "Wed, 01 Mar 2017 08:55:26 +0000\n",
      "Sat, 5 Nov 2016 11:23:34 +0530\n",
      "Fri, 30 Mar 2018 11:08:49 -0500 (CDT)\n",
      "Wed, 26 Jun 2019 03:30:28 -0500 (CDT)\n",
      "Tue, 5 Apr 2016 03:13:53 +0800\n",
      "Wed, 19 Nov 2014 12:19:12 +0000\n",
      "Fri, 7 Oct 2016 12:28:34 +0530\n",
      "Sat, 30 Apr 2016 12:18:37 +0000\n",
      "Mon, 29 Oct 2018 03:31:44 -0500 (CDT)\n",
      "Fri, 1 Sep 2017 21:31:37 +0530\n",
      "Thu, 24 Mar 2016 19:17:57 +0530\n",
      "Fri, 24 Nov 2017 21:09:20 +0530\n",
      "Tue, 1 Dec 2015 10:10:24 +0000 (UTC)\n",
      "Fri, 17 Oct 2014 17:19:37 +0530\n",
      "Sun, 06 Mar 2016 06:18:47 +0000\n",
      "Wed, 28 Feb 2018 08:48:27 -0600\n",
      "Fri, 31 May 2019 14:46:08 +0000\n",
      "Tue, 18 Dec 2018 01:24:04 +0000\n",
      "Mon, 20 Oct 2014 18:09:40 +0000\n",
      "Wed, 4 Nov 2015 19:31:02 +0530\n",
      "Mon, 11 May 2015 21:49:23 +0530\n",
      "Tue, 19 Jul 2016 08:37:40 +0530\n",
      "Thu, 19 Apr 2018 00:52:01 +0000\n",
      "Wed, 28 Mar 2018 05:43:29 +0000 (UTC)\n",
      "Thu, 16 Jul 2015 05:45:25 +0000\n",
      "Wed, 25 May 2016 01:05:23 +0000 (UTC)\n",
      "Tue, 14 Aug 2018 13:27:04 +0530\n",
      "Wed, 2 Sep 2015 04:46:33 +0000 (UTC)\n",
      "Fri, 10 May 2019 23:47:13 -0700\n",
      "Fri, 9 Dec 2016 15:39:34 +0530\n",
      "Thu, 25 May 2017 08:53:11 +0530\n",
      "Wed, 17 Feb 2016 02:35:16 +0100 (CET)\n",
      "Mon, 14 Mar 2016 16:12:21 +0000\n",
      "Tue, 12 Jan 2016 19:45:01 +0530\n",
      "Sat, 27 Apr 2019 02:36:11 -0700\n",
      "Sun, 04 Sep 2016 03:44:03 +0000\n",
      "Fri, 11 Mar 2016 11:31:12 +0530\n",
      "Wed, 27 Feb 2019 08:39:08 -0600\n",
      "Tue, 19 Apr 2016 23:24:41 +0000\n",
      "Fri, 15 Jun 2018 04:30:28 +0000\n",
      "Sat, 5 Jan 2019 00:16:16 +0000\n",
      "Thu, 3 Mar 2016 05:27:16 -0000\n",
      "Mon, 27 Jan 2014 07:03:55 +0000\n",
      "Tue, 28 May 2019 00:46:40 -0700\n",
      "Sat, 24 Oct 2015 03:16:52 +0000\n"
     ]
    }
   ],
   "source": [
    "for i in range(0,50):\n",
    "    print(train_x[['date']].iloc[i,0])"
   ]
  },
  {
   "cell_type": "code",
   "execution_count": 16,
   "metadata": {},
   "outputs": [
    {
     "name": "stdout",
     "output_type": "stream",
     "text": [
      "Size of the training set  (24840, 13)\n",
      "Size of the testing set  (10647, 12)\n"
     ]
    }
   ],
   "source": [
    "print('Size of the training set ', train_df.shape)\n",
    "print('Size of the testing set ', test_df.shape)"
   ]
  },
  {
   "cell_type": "code",
   "execution_count": 13,
   "metadata": {},
   "outputs": [],
   "source": [
    "## Handle missing values with median\n",
    "train_x.fillna('median', inplace=True)\n",
    "test_df.fillna('median', inplace=True)\n",
    "\n",
    "## Filtering column \"mail_type\"\n",
    "train_x = train_df[['mail_type']]\n",
    "train_y = train_df[['label']]\n",
    "\n",
    "test_x = test_df[['mail_type']]"
   ]
  },
  {
   "cell_type": "code",
   "execution_count": 4,
   "metadata": {},
   "outputs": [
    {
     "name": "stderr",
     "output_type": "stream",
     "text": [
      "/Users/antoineohleyer/miniconda3/envs/ipseite/lib/python3.7/site-packages/ipykernel_launcher.py:9: DataConversionWarning: A column-vector y was passed when a 1d array was expected. Please change the shape of y to (n_samples, ), for example using ravel().\n",
      "  if __name__ == '__main__':\n"
     ]
    }
   ],
   "source": [
    "## Do one hot encoding of categorical feature\n",
    "feat_enc = OneHotEncoder()\n",
    "feat_enc.fit(train_x)\n",
    "train_x_featurized = feat_enc.transform(train_x)\n",
    "test_x_featurized = feat_enc.transform(test_x)\n",
    "\n",
    "## Train a simple KNN classifier using featurized data\n",
    "neigh = KNeighborsClassifier(n_neighbors=3)\n",
    "neigh.fit(train_x_featurized, train_y)\n",
    "pred_y = neigh.predict(test_x_featurized)"
   ]
  },
  {
   "cell_type": "code",
   "execution_count": 5,
   "metadata": {},
   "outputs": [],
   "source": [
    "pred_df = pd.DataFrame(pred_y, columns=['label'])\n",
    "pred_df.to_csv(\"knn_sample_submission.csv\", index=True, index_label='Id')"
   ]
  },
  {
   "cell_type": "code",
   "execution_count": 7,
   "metadata": {},
   "outputs": [
    {
     "data": {
      "text/plain": [
       "<24840x11 sparse matrix of type '<class 'numpy.float64'>'\n",
       "\twith 24840 stored elements in Compressed Sparse Row format>"
      ]
     },
     "execution_count": 7,
     "metadata": {},
     "output_type": "execute_result"
    }
   ],
   "source": []
  },
  {
   "cell_type": "code",
   "execution_count": 8,
   "metadata": {},
   "outputs": [
    {
     "data": {
      "text/html": [
       "<div>\n",
       "<style scoped>\n",
       "    .dataframe tbody tr th:only-of-type {\n",
       "        vertical-align: middle;\n",
       "    }\n",
       "\n",
       "    .dataframe tbody tr th {\n",
       "        vertical-align: top;\n",
       "    }\n",
       "\n",
       "    .dataframe thead th {\n",
       "        text-align: right;\n",
       "    }\n",
       "</style>\n",
       "<table border=\"1\" class=\"dataframe\">\n",
       "  <thead>\n",
       "    <tr style=\"text-align: right;\">\n",
       "      <th></th>\n",
       "      <th>mail_type</th>\n",
       "    </tr>\n",
       "  </thead>\n",
       "  <tbody>\n",
       "    <tr>\n",
       "      <td>0</td>\n",
       "      <td>multipart/mixed</td>\n",
       "    </tr>\n",
       "    <tr>\n",
       "      <td>1</td>\n",
       "      <td>multipart/alternative</td>\n",
       "    </tr>\n",
       "    <tr>\n",
       "      <td>2</td>\n",
       "      <td>multipart/alternative</td>\n",
       "    </tr>\n",
       "    <tr>\n",
       "      <td>3</td>\n",
       "      <td>multipart/alternative</td>\n",
       "    </tr>\n",
       "    <tr>\n",
       "      <td>4</td>\n",
       "      <td>multipart/alternative</td>\n",
       "    </tr>\n",
       "    <tr>\n",
       "      <td>...</td>\n",
       "      <td>...</td>\n",
       "    </tr>\n",
       "    <tr>\n",
       "      <td>24835</td>\n",
       "      <td>multipart/mixed</td>\n",
       "    </tr>\n",
       "    <tr>\n",
       "      <td>24836</td>\n",
       "      <td>multipart/alternative</td>\n",
       "    </tr>\n",
       "    <tr>\n",
       "      <td>24837</td>\n",
       "      <td>multipart/alternative</td>\n",
       "    </tr>\n",
       "    <tr>\n",
       "      <td>24838</td>\n",
       "      <td>multipart/alternative</td>\n",
       "    </tr>\n",
       "    <tr>\n",
       "      <td>24839</td>\n",
       "      <td>text/html</td>\n",
       "    </tr>\n",
       "  </tbody>\n",
       "</table>\n",
       "<p>24840 rows × 1 columns</p>\n",
       "</div>"
      ],
      "text/plain": [
       "                   mail_type\n",
       "0            multipart/mixed\n",
       "1      multipart/alternative\n",
       "2      multipart/alternative\n",
       "3      multipart/alternative\n",
       "4      multipart/alternative\n",
       "...                      ...\n",
       "24835        multipart/mixed\n",
       "24836  multipart/alternative\n",
       "24837  multipart/alternative\n",
       "24838  multipart/alternative\n",
       "24839              text/html\n",
       "\n",
       "[24840 rows x 1 columns]"
      ]
     },
     "execution_count": 8,
     "metadata": {},
     "output_type": "execute_result"
    }
   ],
   "source": [
    "train_x"
   ]
  },
  {
   "cell_type": "code",
   "execution_count": null,
   "metadata": {},
   "outputs": [],
   "source": []
  }
 ],
 "metadata": {
  "kernelspec": {
   "display_name": "Python 3",
   "language": "python",
   "name": "python3"
  },
  "language_info": {
   "codemirror_mode": {
    "name": "ipython",
    "version": 3
   },
   "file_extension": ".py",
   "mimetype": "text/x-python",
   "name": "python",
   "nbconvert_exporter": "python",
   "pygments_lexer": "ipython3",
   "version": "3.7.4"
  }
 },
 "nbformat": 4,
 "nbformat_minor": 2
}
