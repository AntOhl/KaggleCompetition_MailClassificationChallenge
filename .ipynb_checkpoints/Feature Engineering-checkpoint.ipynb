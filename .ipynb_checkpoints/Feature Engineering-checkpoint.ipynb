{
 "cells": [
  {
   "cell_type": "code",
   "execution_count": 1,
   "metadata": {
    "collapsed": true
   },
   "outputs": [],
   "source": [
    "import pandas as pd\n",
    "import numpy as np\n",
    "import dateparser"
   ]
  },
  {
   "cell_type": "code",
   "execution_count": 15,
   "metadata": {},
   "outputs": [],
   "source": [
    "#load the original data set\n",
    "df = pd.read_csv('train.csv', index_col = 0)\n",
    "#df = pd.read_csv('test.csv', index_col = 0)"
   ]
  },
  {
   "cell_type": "code",
   "execution_count": 16,
   "metadata": {
    "collapsed": true
   },
   "outputs": [],
   "source": [
    "#Obtain clean date\n",
    "\n",
    "#1. There are no missing values in the date column, but several formats exist:\n",
    "#(a) Sun, 28 Aug 2016 00:17:44 +0000\n",
    "#(b) 11-MAR-2018 20:40:58\n",
    "#(c) Mon, 8 Apr 2013 09:59:21\n",
    "#(d) 25 Apr 2019 07:13:43 -0400\n",
    "#...\n",
    "#2. There are also incorrect time zones values, '+0580', which I changed to '0530'\n",
    "\n",
    "df['date'] = df['date'].str.replace(r' \\(.*\\)', '')\n",
    "df['date'] = df['date'].str.rstrip()\n",
    "df['date'] = df['date'].str.replace('-0000', '+0000')\n",
    "df['date'] = df['date'].str.replace('0580', '0530')\n",
    "df['date'] = df['date'].apply(dateparser.parse, languages=['en'])"
   ]
  },
  {
   "cell_type": "code",
   "execution_count": 17,
   "metadata": {
    "collapsed": true
   },
   "outputs": [],
   "source": [
    "#Generate year, month, day, day of the week, hour, minute, second and timezone from date\n",
    "df['year'] = df['date'].apply(lambda x:x.year)\n",
    "df['month'] = df['date'].apply(lambda x:x.month)\n",
    "df['day'] = df['date'].apply(lambda x:x.day)\n",
    "df['hour'] = df['date'].apply(lambda x:x.hour)\n",
    "df['minute'] = df['date'].apply(lambda x:x.minute)\n",
    "df['second'] = df['date'].apply(lambda x:x.second)\n",
    "df['weekday'] = df['date'].apply(lambda x:x.weekday())\n",
    "df['timezone'] = df['date'].apply(lambda x:x.tzname())"
   ]
  },
  {
   "cell_type": "code",
   "execution_count": 18,
   "metadata": {
    "collapsed": true
   },
   "outputs": [],
   "source": [
    "#Merge all the upper case and lower case mailtype calsses by lowering-case the whole column\n",
    "#e.g. multipart/alternative and Multipart/Alternative\n",
    "df['mail_type'] = df['mail_type'].str.lower()"
   ]
  },
  {
   "cell_type": "code",
   "execution_count": 19,
   "metadata": {
    "collapsed": true
   },
   "outputs": [],
   "source": [
    "#Save df to train_clean.csv\n",
    "df.to_csv('train_clean.csv')\n",
    "#df.to_csv('test_clean.csv')"
   ]
  },
  {
   "cell_type": "code",
   "execution_count": null,
   "metadata": {},
   "outputs": [],
   "source": []
  },
  {
   "cell_type": "code",
   "execution_count": 21,
   "metadata": {},
   "outputs": [
    {
     "name": "stderr",
     "output_type": "stream",
     "text": [
      "C:\\ProgramData\\Anaconda3\\lib\\site-packages\\ipykernel\\__main__.py:9: FutureWarning: Sorting because non-concatenation axis is not aligned. A future version\n",
      "of pandas will change to not sort by default.\n",
      "\n",
      "To accept the future behavior, pass 'sort=False'.\n",
      "\n",
      "To retain the current behavior and silence the warning, pass 'sort=True'.\n",
      "\n"
     ]
    }
   ],
   "source": [
    "#A quick and dirty model before feature engineering\n",
    "\n",
    "#Read train_clean.csv and test_clean.csv\n",
    "df_train = pd.read_csv('train_clean.csv', index_col = 0)\n",
    "df_test = pd.read_csv('test_clean.csv', index_col = 0)\n",
    "\n",
    "#Create dummpy variables and split the data to X, y and X_test\n",
    "n = len(df_train)\n",
    "temp = pd.concat([df_train, df_test], axis=0).drop(['date', 'label'], axis=1)\n",
    "temp_with_dummies = pd.get_dummies(temp, drop_first=True)\n",
    "X = temp_with_dummies[:n]\n",
    "X_test = temp_with_dummies[n:]\n",
    "y = df_train['label']\n"
   ]
  },
  {
   "cell_type": "code",
   "execution_count": 27,
   "metadata": {},
   "outputs": [
    {
     "name": "stdout",
     "output_type": "stream",
     "text": [
      "{'fit_time': array([2.79915881, 2.74349189, 2.72964191, 2.66462827, 2.74367952]), 'score_time': array([0.08395147, 0.12191725, 0.08394647, 0.09393978, 0.08995247]), 'test_score': array([0.94104628, 0.9418277 , 0.94122383, 0.93941224, 0.93757551]), 'train_score': array([0.99969804, 0.99974839, 0.99974839, 0.99969807, 0.9996981 ])}\n"
     ]
    }
   ],
   "source": [
    "#Cross Validation\n",
    "\n",
    "from sklearn.model_selection import cross_validate\n",
    "from sklearn.ensemble import RandomForestClassifier\n",
    "\n",
    "model = RandomForestClassifier(n_estimators = 30)\n",
    "\n",
    "print(cross_validate(model, X, y, cv=5))"
   ]
  },
  {
   "cell_type": "code",
   "execution_count": 29,
   "metadata": {},
   "outputs": [
    {
     "data": {
      "text/plain": [
       "RandomForestClassifier(bootstrap=True, class_weight=None, criterion='gini',\n",
       "            max_depth=None, max_features='auto', max_leaf_nodes=None,\n",
       "            min_impurity_decrease=0.0, min_impurity_split=None,\n",
       "            min_samples_leaf=1, min_samples_split=2,\n",
       "            min_weight_fraction_leaf=0.0, n_estimators=30, n_jobs=None,\n",
       "            oob_score=False, random_state=None, verbose=0,\n",
       "            warm_start=False)"
      ]
     },
     "execution_count": 29,
     "metadata": {},
     "output_type": "execute_result"
    }
   ],
   "source": [
    "#Model Training\n",
    "model.fit(X, y)"
   ]
  },
  {
   "cell_type": "code",
   "execution_count": 36,
   "metadata": {},
   "outputs": [],
   "source": [
    "#Generate our predictions\n",
    "y_test = model.predict(X_test)\n",
    "res = pd.DataFrame({'ID': np.arange(len(y_test)),\n",
    "                    'label': y_test})\n",
    "res.to_csv('submission.csv', index=False)"
   ]
  }
 ],
 "metadata": {
  "kernelspec": {
   "display_name": "Python 3",
   "language": "python",
   "name": "python3"
  },
  "language_info": {
   "codemirror_mode": {
    "name": "ipython",
    "version": 3
   },
   "file_extension": ".py",
   "mimetype": "text/x-python",
   "name": "python",
   "nbconvert_exporter": "python",
   "pygments_lexer": "ipython3",
   "version": "3.6.8"
  }
 },
 "nbformat": 4,
 "nbformat_minor": 2
}
