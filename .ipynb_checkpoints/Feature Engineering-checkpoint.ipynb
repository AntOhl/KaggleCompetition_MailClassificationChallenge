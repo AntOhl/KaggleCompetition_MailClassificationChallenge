{
 "cells": [
  {
   "cell_type": "code",
   "execution_count": 1,
   "metadata": {
    "collapsed": true
   },
   "outputs": [],
   "source": [
    "import pandas as pd\n",
    "import numpy as np\n",
    "import dateparser"
   ]
  },
  {
   "cell_type": "code",
   "execution_count": 77,
   "metadata": {},
   "outputs": [],
   "source": [
    "#load the data set\n",
    "df = pd.read_csv('train_clean.csv', index_col = 0)"
   ]
  },
  {
   "cell_type": "code",
   "execution_count": 78,
   "metadata": {},
   "outputs": [],
   "source": [
    "#Obtain clean date\n",
    "\n",
    "#1. There are no missing values in the date column, but several formats exist:\n",
    "#(a) Sun, 28 Aug 2016 00:17:44 +0000\n",
    "#(b) 11-MAR-2018 20:40:58\n",
    "#(c) Mon, 8 Apr 2013 09:59:21\n",
    "#(d) 25 Apr 2019 07:13:43 -0400\n",
    "#...\n",
    "#2. There are also incorrect time zones values, '+0580', which I changed to '0530'\n",
    "\n",
    "df['date'] = df['date'].str.replace(r' \\(.*\\)', '')\n",
    "df['date'] = df['date'].str.rstrip()\n",
    "df['date'] = df['date'].str.replace('-0000', '+0000')\n",
    "df['date'] = df['date'].str.replace('0580', '0530')\n",
    "df['date'] = df['date'].apply(dateparser.parse, languages=['en'])"
   ]
  },
  {
   "cell_type": "code",
   "execution_count": 79,
   "metadata": {},
   "outputs": [],
   "source": [
    "#Generate year, month, day, day of the week, hour, minute, second and timezone from date\n",
    "df['year'] = df['date'].apply(lambda x:x.year)\n",
    "df['month'] = df['date'].apply(lambda x:x.month)\n",
    "df['day'] = df['date'].apply(lambda x:x.day)\n",
    "df['hour'] = df['date'].apply(lambda x:x.hour)\n",
    "df['minute'] = df['date'].apply(lambda x:x.minute)\n",
    "df['second'] = df['date'].apply(lambda x:x.second)\n",
    "df['weekday'] = df['date'].apply(lambda x:x.weekday())\n",
    "df['timezone'] = df['date'].apply(lambda x:x.tzname())"
   ]
  },
  {
   "cell_type": "code",
   "execution_count": 80,
   "metadata": {},
   "outputs": [],
   "source": [
    "#Merge all the upper case and lower case mailtype calsses by lowering-case the whole column\n",
    "#e.g. multipart/alternative and Multipart/Alternative\n",
    "df['mail_type'] = df['mail_type'].str.lower()"
   ]
  },
  {
   "cell_type": "code",
   "execution_count": 81,
   "metadata": {},
   "outputs": [],
   "source": [
    "#Save df to train_clean.csv\n",
    "df.to_csv('train_clean.csv')"
   ]
  },
  {
   "cell_type": "code",
   "execution_count": 83,
   "metadata": {},
   "outputs": [
    {
     "data": {
      "text/plain": [
       "date                2016-08-28 00:17:44+00:00\n",
       "org                                    amazon\n",
       "tld                                        in\n",
       "ccs                                         0\n",
       "bcced                                       0\n",
       "mail_type                     multipart/mixed\n",
       "images                                      0\n",
       "urls                                        0\n",
       "salutations                                 0\n",
       "designation                                 0\n",
       "chars_in_subject                          102\n",
       "chars_in_body                               4\n",
       "label                                       3\n",
       "year                                     2016\n",
       "month                                       8\n",
       "day                                        28\n",
       "hour                                        0\n",
       "minute                                     17\n",
       "second                                     44\n",
       "weekday                                     6\n",
       "timezone                           UTC\\+00:00\n",
       "Name: 0, dtype: object"
      ]
     },
     "execution_count": 83,
     "metadata": {},
     "output_type": "execute_result"
    }
   ],
   "source": []
  }
 ],
 "metadata": {
  "kernelspec": {
   "display_name": "Python 3",
   "language": "python",
   "name": "python3"
  },
  "language_info": {
   "codemirror_mode": {
    "name": "ipython",
    "version": 3
   },
   "file_extension": ".py",
   "mimetype": "text/x-python",
   "name": "python",
   "nbconvert_exporter": "python",
   "pygments_lexer": "ipython3",
   "version": "3.6.8"
  }
 },
 "nbformat": 4,
 "nbformat_minor": 2
}
