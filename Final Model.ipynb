{
 "cells": [
  {
   "cell_type": "code",
   "execution_count": 1,
   "metadata": {},
   "outputs": [],
   "source": [
    "import pandas as pd\n",
    "import numpy as np\n",
    "import dateparser\n",
    "import matplotlib.pyplot as plt\n",
    "from sklearn.preprocessing import MultiLabelBinarizer\n",
    "%matplotlib inline"
   ]
  },
  {
   "cell_type": "code",
   "execution_count": 2,
   "metadata": {},
   "outputs": [],
   "source": [
    "#Read train_clean.csv and test_clean.csv\n",
    "df_train = pd.read_csv('train_clean.csv', index_col = 0)\n",
    "df_test = pd.read_csv('test_clean.csv', index_col = 0)"
   ]
  },
  {
   "cell_type": "code",
   "execution_count": 3,
   "metadata": {},
   "outputs": [],
   "source": [
    "#Concatenate data together for feature engineering\n",
    "n = len(df_train)\n",
    "temp2 = pd.concat([df_train, df_test], axis=0, sort=False).drop(['label'], axis=1)\n",
    "temp = temp2\n",
    "\n",
    "#Seperate the 'mail_type' column\n",
    "temp['mail_type'] = temp['mail_type'].str.strip()\n",
    "temp['mail_type_1'] = temp['mail_type'].str.split('/',expand=True)[0]\n",
    "temp['mail_type_2'] = temp['mail_type'].str.split('/',expand=True)[1]\n",
    "temp = temp.drop('mail_type', axis=1)\n",
    "\n",
    "#Transform the 'org' and 'tld' columns\n",
    "temp['org_tld'] = temp['tld'] + '.' + temp['org']\n",
    "temp['org_tld'] = temp['org_tld'].str.strip()\n",
    "temp['org_tld'] = temp['org_tld'].str.lower()\n",
    "temp['org_tld'] = temp['org_tld'].str.split('.')\n",
    "temp = temp.drop(['org', 'tld'], axis =1)\n",
    "temp['org_tld'] = temp['org_tld'].fillna('N')\n",
    "\n",
    "mlb = MultiLabelBinarizer()\n",
    "res = pd.DataFrame(mlb.fit_transform(temp['org_tld']),\n",
    "                   columns=mlb.classes_,\n",
    "                   index=temp.index)\n",
    "\n",
    "temp = pd.concat([temp, res], axis=1)\n",
    "temp = temp.drop('org_tld', axis=1)\n",
    "\n",
    "#Add numerical labels\n",
    "catogorical = ['mail_type_1', 'mail_type_2', 'timezone']\n",
    "temp[catogorical] = temp[catogorical].apply(lambda x: pd.factorize(x)[0])\n",
    "\n",
    "#Add 'org_freq' and 'tld_freq' columns\n",
    "for col in catogorical:\n",
    "    encoding = temp.groupby(col).size()/len(temp)\n",
    "    temp[col + '_freq'] = temp[col].map(encoding)\n",
    "\n",
    "#Add the frequency of the 'tld' and 'org'\n",
    "freq = temp[temp.columns[19:-3]].sum(axis=1)\n",
    "temp = pd.concat([temp,freq], axis=1)\n",
    "\n",
    "#Drop apparently non-important features, and date\n",
    "drop_c = ['bcced', 'designation', 'salutations', 'date', 'mail_type_1_freq', 'mail_type_1']\n",
    "temp = temp.drop(drop_c, axis=1)\n",
    "\n",
    "#Drop features that have value 1 for only one row\n",
    "t1 = temp[:n].sum()\n",
    "t2 = temp[n:].sum()\n",
    "temp = temp.drop(set(t2[t2==0].index) | set(t1[t1==0].index), axis=1)\n",
    "\n",
    "#Drop duplicate columns in the training set\n",
    "col_non_dup = (temp[:n].T.drop_duplicates().T).columns\n",
    "temp = temp[col_non_dup]"
   ]
  },
  {
   "cell_type": "code",
   "execution_count": 4,
   "metadata": {},
   "outputs": [],
   "source": [
    "#Split the data to X, y and X_test\n",
    "\n",
    "X = temp[:n]\n",
    "X_test = temp[n:]\n",
    "y = df_train['label']"
   ]
  },
  {
   "cell_type": "code",
   "execution_count": 5,
   "metadata": {},
   "outputs": [
    {
     "name": "stdout",
     "output_type": "stream",
     "text": [
      "{'fit_time': array([54.96952987, 47.87690592, 45.09794831, 48.46701407, 46.00493383]), 'score_time': array([0.55400205, 0.45932221, 0.3886199 , 0.40511489, 0.38913417]), 'test_score': array([0.95542942, 0.95766601, 0.95357298, 0.95547597, 0.95325909]), 'train_score': array([1., 1., 1., 1., 1.])}\n"
     ]
    }
   ],
   "source": [
    "#Cross Validation\n",
    "\n",
    "from sklearn.model_selection import cross_validate\n",
    "from sklearn.ensemble import RandomForestClassifier\n",
    "\n",
    "#250 & 200 before droppinp duplicate columns\n",
    "#250 & 175 after droppinp duplicate columns\n",
    "model = RandomForestClassifier(n_estimators = 250, class_weight='balanced', max_features = 175)\n",
    "\n",
    "print(cross_validate(model, X, y, cv=5, scoring='f1_macro', return_train_score=True))"
   ]
  },
  {
   "cell_type": "code",
   "execution_count": 6,
   "metadata": {
    "scrolled": true
   },
   "outputs": [
    {
     "data": {
      "text/plain": [
       "RandomForestClassifier(bootstrap=True, ccp_alpha=0.0, class_weight='balanced',\n",
       "                       criterion='gini', max_depth=None, max_features=175,\n",
       "                       max_leaf_nodes=None, max_samples=None,\n",
       "                       min_impurity_decrease=0.0, min_impurity_split=None,\n",
       "                       min_samples_leaf=1, min_samples_split=2,\n",
       "                       min_weight_fraction_leaf=0.0, n_estimators=250,\n",
       "                       n_jobs=None, oob_score=False, random_state=None,\n",
       "                       verbose=0, warm_start=False)"
      ]
     },
     "execution_count": 6,
     "metadata": {},
     "output_type": "execute_result"
    }
   ],
   "source": [
    "#Model Training\n",
    "model.fit(X, y)"
   ]
  },
  {
   "cell_type": "code",
   "execution_count": 7,
   "metadata": {},
   "outputs": [],
   "source": [
    "#Generate our predictions\n",
    "y_test = model.predict(X_test).astype(int)\n",
    "res = pd.DataFrame({'ID': np.arange(len(y_test)),\n",
    "                    'label': y_test})\n",
    "res.to_csv('submission.csv', index=False)"
   ]
  }
 ],
 "metadata": {
  "kernelspec": {
   "display_name": "Python 3",
   "language": "python",
   "name": "python3"
  },
  "language_info": {
   "codemirror_mode": {
    "name": "ipython",
    "version": 3
   },
   "file_extension": ".py",
   "mimetype": "text/x-python",
   "name": "python",
   "nbconvert_exporter": "python",
   "pygments_lexer": "ipython3",
   "version": "3.7.6"
  }
 },
 "nbformat": 4,
 "nbformat_minor": 2
}
