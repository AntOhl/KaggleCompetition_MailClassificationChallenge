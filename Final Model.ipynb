{
 "cells": [
  {
   "cell_type": "code",
   "execution_count": 1,
   "metadata": {},
   "outputs": [],
   "source": [
    "import pandas as pd\n",
    "import numpy as np\n",
    "import dateparser\n",
    "import matplotlib.pyplot as plt\n",
    "from sklearn.preprocessing import MultiLabelBinarizer\n",
    "%matplotlib inline"
   ]
  },
  {
   "cell_type": "code",
   "execution_count": 2,
   "metadata": {},
   "outputs": [],
   "source": [
    "#Read train_clean.csv and test_clean.csv\n",
    "df_train = pd.read_csv('train_clean.csv', index_col = 0)\n",
    "df_test = pd.read_csv('test_clean.csv', index_col = 0)"
   ]
  },
  {
   "cell_type": "code",
   "execution_count": 86,
   "metadata": {},
   "outputs": [],
   "source": [
    "#Concatenate data together for feature engineering\n",
    "n = len(df_train)\n",
    "temp = pd.concat([df_train, df_test], axis=0, sort=False).drop(['label'], axis=1)\n",
    "\n",
    "#Seperate the 'mail_type' column\n",
    "temp['mail_type'] = temp['mail_type'].str.strip()\n",
    "temp['mail_type_1'] = temp['mail_type'].str.split('/',expand=True)[0]\n",
    "temp['mail_type_2'] = temp['mail_type'].str.split('/',expand=True)[1]\n",
    "temp = temp.drop('mail_type', axis=1)\n",
    "\n",
    "#Transform the 'org' and 'tld' columns\n",
    "temp['org_tld'] = temp['tld'] + '.' + temp['org']\n",
    "temp['org_tld'] = temp['org_tld'].str.strip()\n",
    "temp['org_tld'] = temp['org_tld'].str.lower()\n",
    "temp['org_tld'] = temp['org_tld'].str.split('.')\n",
    "temp = temp.drop(['org', 'tld'], axis =1)\n",
    "temp['org_tld'] = temp['org_tld'].fillna('Nan')\n",
    "\n",
    "mlb = MultiLabelBinarizer()\n",
    "res = pd.DataFrame(mlb.fit_transform(temp['org_tld']),\n",
    "                   columns=mlb.classes_,\n",
    "                   index=temp.index)\n",
    "\n",
    "temp = pd.concat([temp, res], axis=1)\n",
    "temp = temp.drop('org_tld', axis=1)\n",
    "\n",
    "#Add numerical labels\n",
    "catogorical = ['mail_type_1', 'mail_type_2', 'timezone']\n",
    "temp[catogorical] = temp[catogorical].apply(lambda x: pd.factorize(x)[0])\n",
    "\n",
    "#Add 'org_freq' and 'tld_freq' columns\n",
    "for col in catogorical:\n",
    "    encoding = temp.groupby(col).size()/len(temp)\n",
    "    temp[col + '_freq'] = temp[col].map(encoding)\n",
    "    \n",
    "#Drop apparently non-important features, and date\n",
    "drop_c = ['bcced', 'designation', 'salutations', 'date', 'mail_type_1_freq', 'mail_type_1']\n",
    "temp = temp.drop(drop_c, axis=1)\n",
    "\n",
    "#Drop features that have value 1 for only one row\n",
    "t = temp.sum()\n",
    "temp = temp.drop(t[t==1].index, axis=1)"
   ]
  },
  {
   "cell_type": "code",
   "execution_count": 87,
   "metadata": {},
   "outputs": [],
   "source": [
    "#Split the data to X, y and X_test\n",
    "\n",
    "X = temp[:n]\n",
    "X_test = temp[n:]\n",
    "y = df_train['label']"
   ]
  },
  {
   "cell_type": "code",
   "execution_count": 88,
   "metadata": {},
   "outputs": [
    {
     "name": "stdout",
     "output_type": "stream",
     "text": [
      "{'fit_time': array([6.82508755, 6.99499154, 6.67917228, 7.30579615, 7.12291861]), 'score_time': array([0.20388293, 0.16690469, 0.16490555, 0.1929028 , 0.16789842]), 'test_score': array([0.95367512, 0.95272775, 0.94964305, 0.95025944, 0.95100211]), 'train_score': array([1., 1., 1., 1., 1.])}\n"
     ]
    }
   ],
   "source": [
    "#Cross Validation\n",
    "\n",
    "from sklearn.model_selection import cross_validate\n",
    "from sklearn.ensemble import RandomForestClassifier\n",
    "\n",
    "model = RandomForestClassifier(n_estimators = 100)\n",
    "\n",
    "print(cross_validate(model, X, y, cv=5, scoring='f1_macro', return_train_score=True))"
   ]
  },
  {
   "cell_type": "code",
   "execution_count": 89,
   "metadata": {},
   "outputs": [
    {
     "data": {
      "text/plain": [
       "RandomForestClassifier(bootstrap=True, class_weight=None, criterion='gini',\n",
       "                       max_depth=None, max_features='auto', max_leaf_nodes=None,\n",
       "                       min_impurity_decrease=0.0, min_impurity_split=None,\n",
       "                       min_samples_leaf=1, min_samples_split=2,\n",
       "                       min_weight_fraction_leaf=0.0, n_estimators=100,\n",
       "                       n_jobs=None, oob_score=False, random_state=None,\n",
       "                       verbose=0, warm_start=False)"
      ]
     },
     "execution_count": 89,
     "metadata": {},
     "output_type": "execute_result"
    }
   ],
   "source": [
    "#Model Training\n",
    "model.fit(X, y)"
   ]
  },
  {
   "cell_type": "code",
   "execution_count": 91,
   "metadata": {},
   "outputs": [],
   "source": [
    "#Generate our predictions\n",
    "y_test = model.predict(X_test).astype(int)\n",
    "res = pd.DataFrame({'ID': np.arange(len(y_test)),\n",
    "                    'label': y_test})\n",
    "res.to_csv('submission.csv', index=False)"
   ]
  },
  {
   "cell_type": "code",
   "execution_count": null,
   "metadata": {},
   "outputs": [],
   "source": []
  },
  {
   "cell_type": "code",
   "execution_count": null,
   "metadata": {},
   "outputs": [],
   "source": []
  }
 ],
 "metadata": {
  "kernelspec": {
   "display_name": "Python 3",
   "language": "python",
   "name": "python3"
  },
  "language_info": {
   "codemirror_mode": {
    "name": "ipython",
    "version": 3
   },
   "file_extension": ".py",
   "mimetype": "text/x-python",
   "name": "python",
   "nbconvert_exporter": "python",
   "pygments_lexer": "ipython3",
   "version": "3.7.4"
  }
 },
 "nbformat": 4,
 "nbformat_minor": 2
}
