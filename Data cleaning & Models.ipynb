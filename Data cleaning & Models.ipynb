{
 "cells": [
  {
   "cell_type": "code",
   "execution_count": 2,
   "metadata": {},
   "outputs": [],
   "source": [
    "import pandas as pd\n",
    "import numpy as np\n",
    "import dateparser\n",
    "import matplotlib.pyplot as plt\n",
    "%matplotlib inline\n",
    "\n",
    "#Help functions for correcting the 'tld' and 'org' columns\n",
    "def get_tld(x):\n",
    "    if type(x) != list:\n",
    "        return np.nan\n",
    "    if x[-1] == 'in' and len(x) == 2 and x[-2] in ['ac', 'co']:\n",
    "        return x[-2] + '.' + 'in'\n",
    "    else:\n",
    "        return x[-1]\n",
    "def get_org(x):\n",
    "    if type(x) != list:\n",
    "        return np.nan\n",
    "    if len(x) == 1:\n",
    "        return np.nan\n",
    "    if x[-1] == 'in' and x[-2] in ['ac', 'co'] and len(x) == 3:\n",
    "        return x[-3]   \n",
    "    if x[-1] == 'in' and x[-2] in ['ac', 'co'] and len(x) == 2:\n",
    "        return np.nan   \n",
    "    return x[-2]"
   ]
  },
  {
   "cell_type": "markdown",
   "metadata": {},
   "source": [
    "# Data Preprocessing"
   ]
  },
  {
   "cell_type": "code",
   "execution_count": 4,
   "metadata": {},
   "outputs": [],
   "source": [
    "#load the original data set\n",
    "#df = pd.read_csv('train.csv', index_col = 0)\n",
    "#df = pd.read_csv('test.csv', index_col = 0)"
   ]
  },
  {
   "cell_type": "code",
   "execution_count": 9,
   "metadata": {},
   "outputs": [],
   "source": [
    "#Obtain clean date\n",
    "\n",
    "#1. There are no missing values in the date column, but several formats exist:\n",
    "#(a) Sun, 28 Aug 2016 00:17:44 +0000\n",
    "#(b) 11-MAR-2018 20:40:58\n",
    "#(c) Mon, 8 Apr 2013 09:59:21\n",
    "#(d) 25 Apr 2019 07:13:43 -0400\n",
    "#...\n",
    "#2. There are also incorrect time zones values, '+0580', which I changed to '0530'\n",
    "\n",
    "df['date'] = df['date'].str.replace(r' \\(.*\\)', '')\n",
    "df['date'] = df['date'].str.rstrip()\n",
    "df['date'] = df['date'].str.replace('-0000', '+0000')\n",
    "df['date'] = df['date'].str.replace('0580', '0530')\n",
    "df['date'] = df['date'].apply(dateparser.parse, languages=['en'])"
   ]
  },
  {
   "cell_type": "code",
   "execution_count": 10,
   "metadata": {},
   "outputs": [],
   "source": [
    "#Generate year, month, day, day of the week, hour, minute, second and timezone from date\n",
    "df['year'] = df['date'].apply(lambda x:x.year)\n",
    "df['month'] = df['date'].apply(lambda x:x.month)\n",
    "df['day'] = df['date'].apply(lambda x:x.day)\n",
    "df['hour'] = df['date'].apply(lambda x:x.hour)\n",
    "df['minute'] = df['date'].apply(lambda x:x.minute)\n",
    "df['second'] = df['date'].apply(lambda x:x.second)\n",
    "df['weekday'] = df['date'].apply(lambda x:x.weekday())\n",
    "df['timezone'] = df['date'].apply(lambda x:x.tzname())"
   ]
  },
  {
   "cell_type": "code",
   "execution_count": 11,
   "metadata": {},
   "outputs": [],
   "source": [
    "#Merge all the upper case and lower case mailtype calsses by lowering-case the whole column\n",
    "#e.g. multipart/alternative and Multipart/Alternative\n",
    "df['mail_type'] = df['mail_type'].str.lower()"
   ]
  },
  {
   "cell_type": "code",
   "execution_count": 26,
   "metadata": {},
   "outputs": [],
   "source": [
    "#Save df to train_clean.csv\n",
    "#df.to_csv('train_clean.csv')\n",
    "#df.to_csv('test_clean.csv')"
   ]
  },
  {
   "cell_type": "markdown",
   "metadata": {
    "collapsed": true
   },
   "source": [
    "# Feature Engineering"
   ]
  },
  {
   "cell_type": "code",
   "execution_count": 17,
   "metadata": {
    "scrolled": false
   },
   "outputs": [],
   "source": [
    "#Assumption: if a domain always sends a particular type of emails, then it will always send this type of emails.\n",
    "#Pairs is a table with such pair of orgs and labels\n",
    "\n",
    "df_org_label_count = df_train.groupby(['org', 'label']).count().iloc[:,0]\n",
    "df_org_label_count = df_org_label_count.to_frame().reset_index()\n",
    "pairs = df_org_label_count[df_org_label_count.groupby('org')['org'].transform(len) == 1]\n",
    "pairs.columns = ['org', 'label', 'count']\n",
    "pairs = dict(zip(pairs['org'], pairs['label']))"
   ]
  },
  {
   "cell_type": "code",
   "execution_count": 18,
   "metadata": {},
   "outputs": [],
   "source": [
    "#Holiday list\n",
    "\n",
    "from pandas.tseries.holiday import USFederalHolidayCalendar as calendar\n",
    "cal = calendar()\n",
    "holidays = cal.holidays()\n",
    "holidays = [x.strftime(\"%Y-%m-%d\") for x in holidays]"
   ]
  },
  {
   "cell_type": "code",
   "execution_count": 3,
   "metadata": {},
   "outputs": [],
   "source": [
    "#Read train_clean.csv and test_clean.csv\n",
    "df_train = pd.read_csv('train_clean.csv', index_col = 0)\n",
    "df_test = pd.read_csv('test_clean.csv', index_col = 0)"
   ]
  },
  {
   "cell_type": "code",
   "execution_count": 4,
   "metadata": {},
   "outputs": [],
   "source": [
    "#Concatenate data together for feature engineering\n",
    "\n",
    "n = len(df_train)\n",
    "temp = pd.concat([df_train, df_test], axis=0, sort=False).drop(['label'], axis=1)\n",
    "\n",
    "#Add 'org_freq' and 'tld_freq' columns\n",
    "for col in ['org', 'tld', 'mail_type', 'timezone']:\n",
    "    encoding = temp.groupby(col).size()/len(temp)\n",
    "    temp[col + '_freq'] = temp[col].map(encoding)\n",
    "\n",
    "#Onehot encode data\n",
    "catogorical = ['org', 'tld', 'mail_type', 'timezone']\n",
    "temp = pd.concat([temp, pd.get_dummies(temp[catogorical], drop_first=True)], axis=1)\n",
    "temp = temp.drop(catogorical, axis=1)\n",
    "\n",
    "#Drop apparently non-important features, and date\n",
    "temp = temp.drop(['bcced', 'designation', 'salutations', 'date'], axis=1)"
   ]
  },
  {
   "cell_type": "code",
   "execution_count": 5,
   "metadata": {},
   "outputs": [],
   "source": [
    "#Standarize data\n",
    "from sklearn.preprocessing import StandardScaler\n",
    "transformer = StandardScaler().fit(temp)\n",
    "temp = transformer.transform(temp)\n",
    "\n",
    "#Fill nan with -1\n",
    "temp = np.nan_to_num(temp, -1)"
   ]
  },
  {
   "cell_type": "code",
   "execution_count": 6,
   "metadata": {},
   "outputs": [],
   "source": [
    "#Split the data to X, y and X_test\n",
    "X = temp[:n]\n",
    "X_test = temp[n:]\n",
    "y = df_train['label']"
   ]
  },
  {
   "cell_type": "markdown",
   "metadata": {},
   "source": [
    "# PCA"
   ]
  },
  {
   "cell_type": "code",
   "execution_count": 7,
   "metadata": {},
   "outputs": [],
   "source": [
    "#Dimensionality Reduction\n",
    "from sklearn.decomposition import PCA\n",
    "import matplotlib.pyplot as plt\n",
    "from mpl_toolkits.mplot3d import Axes3D\n",
    "from matplotlib import pyplot\n",
    "%matplotlib inline  \n",
    "\n",
    "pca = PCA(n_components=500)\n",
    "pca.fit(X) \n",
    "X_pca = pca.transform(X)\n",
    "X_pca_test = pca.transform(X_test)"
   ]
  },
  {
   "cell_type": "code",
   "execution_count": 8,
   "metadata": {
    "scrolled": false
   },
   "outputs": [
    {
     "data": {
      "text/plain": [
       "<mpl_toolkits.mplot3d.art3d.Path3DCollection at 0x11ff58ed0>"
      ]
     },
     "execution_count": 8,
     "metadata": {},
     "output_type": "execute_result"
    },
    {
     "data": {
      "image/png": "[encoded data removed]",
      "text/plain": [
       "<Figure size 432x288 with 1 Axes>"
      ]
     },
     "metadata": {
      "needs_background": "light"
     },
     "output_type": "display_data"
    }
   ],
   "source": [
    "#Filter out outliners\n",
    "x1 = X_pca[:, 0]\n",
    "x2 = X_pca[:, 1]\n",
    "x3 = X_pca[:, 2]\n",
    "\n",
    "fig = pyplot.figure()\n",
    "ax = Axes3D(fig)\n",
    "ax.scatter(x1, x2, x3, c=y, alpha=0.8)"
   ]
  },
  {
   "cell_type": "markdown",
   "metadata": {
    "collapsed": true
   },
   "source": [
    "# SVM"
   ]
  },
  {
   "cell_type": "code",
   "execution_count": null,
   "metadata": {},
   "outputs": [],
   "source": [
    "#Cross Validation\n",
    "\n",
    "from sklearn.model_selection import cross_validate\n",
    "from sklearn.svm import SVC\n",
    "\n",
    "model = SVC()\n",
    "\n",
    "print(cross_validate(model, X, y, cv=5, scoring='f1_macro', n_jobs=-1))"
   ]
  },
  {
   "cell_type": "code",
   "execution_count": null,
   "metadata": {
    "collapsed": true
   },
   "outputs": [],
   "source": [
    "model = SVC(C=100, kernel='linear')\n",
    "model.fit(X[:20000], y[:20000])"
   ]
  },
  {
   "cell_type": "code",
   "execution_count": 262,
   "metadata": {},
   "outputs": [
    {
     "data": {
      "text/plain": [
       "0.9347107438016529"
      ]
     },
     "execution_count": 262,
     "metadata": {},
     "output_type": "execute_result"
    }
   ],
   "source": [
    "model.score(X[20000:], y[20000:])"
   ]
  },
  {
   "cell_type": "markdown",
   "metadata": {},
   "source": [
    "# Some explorations"
   ]
  },
  {
   "cell_type": "code",
   "execution_count": 62,
   "metadata": {},
   "outputs": [],
   "source": [
    "df_train = pd.read_csv('train_clean.csv', index_col = 0)\n",
    "df_test = pd.read_csv('test_clean.csv', index_col = 0)\n",
    "temp = pd.concat([df_train, df_test], axis=0, sort=False)"
   ]
  },
  {
   "cell_type": "code",
   "execution_count": 127,
   "metadata": {},
   "outputs": [
    {
     "data": {
      "text/plain": [
       "array(['ac.in', 'paypal.com', 'evernote.com', 'pytorch.org',\n",
       "       'iiitd.ac.in', 'xoom.com', 'netflix.com', 'sdconnect.in',\n",
       "       'cardekhomailer.com', 'intercom-mail.com', 'efinmail.com',\n",
       "       'emails-makemytrip.com', 'co.in', 'nvidia.com', 'gov.in',\n",
       "       'microsoft.com', 'instagram.com', 'foodpanda.in', 'jabong.com',\n",
       "       'skype.com', '4shared.com', 'grammarly.com', 'google.com',\n",
       "       'mpg.de', 'apple.com', 'findstay.in', 'hp.com',\n",
       "       'mail.coursera.org', 'bsnl.co.in', 'speakingtree.in',\n",
       "       'bookmyshow.com', 'itunes.com', 'ebay.in', 'ieee.org',\n",
       "       'goindigo.in', 'androidzoom.com', 'iitm.ac.in',\n",
       "       'hostingdepago.com', 'reliancegeneral.co.in', 'goodreads.com',\n",
       "       'vincerowatches.com', 'quikr.com', 'twitter.com', 'wix.com',\n",
       "       'pinterest.com', 'olacabs.com', 'mobikwik.com', 'linkedin.com',\n",
       "       'asana.com', 'join.me', 'asus.com', 'mailer.surveygizmo.com',\n",
       "       'paytm.com', 'cardekho.com', 'mail.intercom.io', 'godaddy.com',\n",
       "       'Apple.com', 'bird.co', 'caisse-epargne.fr',\n",
       "       'travel2-makemytrip.com', 'sonyentertainmentnetwork.com', 'org.in',\n",
       "       'payback.in', 'mozilla.org', 'change.org', 'freelancer.com',\n",
       "       'codeproject.com', 'social.saavn.com', 'newyorktimes.com',\n",
       "       'airtel.com', 'amerinoc.com', 'vnet.ibm.com', 'yahoo-inc.com',\n",
       "       'exhost4.secureserver.net', 'travel-makemytrip.com',\n",
       "       'notifications.atlassian.com', 'email.amazon.in',\n",
       "       'digitalglobe.com', 'wfp.org', 'tripadvisor.com', 'udacity.com',\n",
       "       'mathworks.com', 'quoramail.com', 'ibm.com', 'aramex.com',\n",
       "       'dropbox-mktg.com', 'iisc.ernet.in', 'icims.com', 'hobbyking.com',\n",
       "       'drdo.in', 'frankfurt-airport.news', 'booking.com', 'cisco.com',\n",
       "       'angel.co', 'BRASSRING.COM', 'glassdoor.com', 'ox.ac.uk',\n",
       "       'lescrous.fr', 'browsec.com', 'gouv.fr', 'zomato.com',\n",
       "       'imindmap.com', 'crazydomains.com', 'ubuntu.com', 'slack-core.com',\n",
       "       'nic.in', 'surveymonkey.com', 'classmates.com', 'altera.com',\n",
       "       'swiggy.in', 'supelec.fr', 'brassring.com', 'gopro.com',\n",
       "       'amazon.in', 'hsbc.fr', 'stanford.edu', 'etihad.com',\n",
       "       'elitmusmail.com', 'lumosity.com', 'amazon.fr', 'kotak.in',\n",
       "       'docker.com', 'ecp.fr', 'ibmmail.com', 'iitkgp.ac.in', 'atmel.com',\n",
       "       'ibmcloud.com', 'com.au', 'camscanner.com', 'aamaadmiparty.org',\n",
       "       'axisbankmail.com', 'auchan.net', 'uber.com', 'leetchi.com',\n",
       "       'tata-sky.in', 'amrita.edu', 'miscota.com', 'bitbucket.org',\n",
       "       'tran.saavn.com', 'thomascook.com', 'onedrive.com', 'uab.es',\n",
       "       'esa.int', 'last.fm', 'centralesupelec.fr', 'avature.net',\n",
       "       'eservices-laposte.fr', 'windows.com', 'email.amazon.com',\n",
       "       'scientific-direct.net', 'com.tw', 'logmein.com', 'play4free.com',\n",
       "       '33mail.com', 'sap.stampmail.in', 'utrans01.com', 'orkut.com',\n",
       "       'elitmus.biz', 'holidayiq.com', 'ac.uk', 'chtah.com', 'slack.com',\n",
       "       'icicibank.com', 'oneplus.com', 'prezi.com', 'cloudflare.com',\n",
       "       'facebook.com', 'foursquare.com', 'avast.com', 'ebay.com',\n",
       "       'barbequenation.com'], dtype=object)"
      ]
     },
     "execution_count": 127,
     "metadata": {},
     "output_type": "execute_result"
    }
   ],
   "source": [
    "temp['tld'][temp['tld'].str.contains('.', na=False, regex=False)].unique()"
   ]
  },
  {
   "cell_type": "code",
   "execution_count": 210,
   "metadata": {},
   "outputs": [],
   "source": [
    "#Concatenate data together for feature engineering\n",
    "\n",
    "#Encode labels to numerical values\n",
    "n = len(df_train)\n",
    "temp = pd.concat([df_train, df_test], axis=0, sort=False).drop(['label'], axis=1)\n",
    "\n",
    "#Correct the 'org' and 'tld' columns and lowercase them\n",
    "split_res = temp['tld'].str.split('.')\n",
    "true_tld = split_res.map(get_tld)\n",
    "true_org = split_res.map(get_org)\n",
    "temp['tld'] = true_tld.fillna(temp['tld']).str.lower()\n",
    "temp['org'] = true_org.fillna(temp['org']).str.lower()\n"
   ]
  },
  {
   "cell_type": "code",
   "execution_count": 217,
   "metadata": {},
   "outputs": [
    {
     "data": {
      "text/plain": [
       "array(['amazon', 'linkedin', 'quora', 'iiitd', 'paypal', 'twitter',\n",
       "       'nvidia', 'ieee', 'crazydomains', 'freshersworld', 'usebackpack',\n",
       "       'inoxmovies', 'statebankrewardz', 'piazza', 'geniecabs',\n",
       "       'fccashback', 'evernote', 'xprize', 'coursera', 'axisbank',\n",
       "       'pytorch', 'codalab', 'google', 'pvrcinemas', 'naaptoldeals',\n",
       "       'glassdoor', 'hackerrankmail', 'xoom', nan, 'netflix', 'sdconnect',\n",
       "       'cocubes', 'cardekhomailer', 'ndtvecommerce', 'datacamp',\n",
       "       'brilliant', 'projecteuler', 'udacity', 'paytm', 'intercom-mail',\n",
       "       'state', 'efinmail', 'mentor', 'researchgatemail', 'dailyspeak',\n",
       "       'ni', 'angel', 'centralesupelec', 'emails-makemytrip', 'youtube',\n",
       "       'spoj', 'phpclasses', 'brandshop', 'innerchef', 'ticket-airfrance',\n",
       "       'gov', 'codecademy', 'khanacademy', 'ruprr', 'microsoft',\n",
       "       'topcoder', 'repositoryhosting', 'htc', 'geeksforgeeks',\n",
       "       'hackerrank', 'flipkartletters', 'dropbox', 'slack', 'instagram',\n",
       "       'foodpanda', 'oneplus', 'jabong', 'cmsworkshops', 'skype',\n",
       "       '4shared', 'sbi', 'grammarly', 'github', 'facebookmail',\n",
       "       'coupondunia', 'mapbox', 'gmail', 'educationation',\n",
       "       'localcirclesmail', 'mpg', 'freecharge', 'whatpulse', 'apple',\n",
       "       'machinelearningmastery', 'redwolf', 'findstay', 'spotify',\n",
       "       'trello', 'kaggle', 'hackerearth', 'hp', 'duolingo',\n",
       "       'signalprocessingsociety', 'bsnl', 'speakingtree', 'codechef',\n",
       "       'rs-components', 'bookmyshow', 'springboard', 'airtable',\n",
       "       'magento', '365premium', 'bookmyforex', 'itunes', 'ebay',\n",
       "       'quadkopters', 'researchgate', 'splitwise', 'academia-mail',\n",
       "       'medium', 'goindigo', 'androidzoom', 'cleartrip', 'vito', 'iitm',\n",
       "       'surveysitemail', 'hackerrankforwork', 'franz', 'hostingdepago',\n",
       "       'overleaf', 'symless', 'reliancegeneral', 'teamviewer',\n",
       "       'bigbasket', 'twenty19', 'no-ip', 'indiatimes', 'awseducate',\n",
       "       'papersapp', 'goodreads', 'thomascook', 'zoomcybersense',\n",
       "       'facebookappmail', 'makemytrip', 'flipkart', 'vincerowatches',\n",
       "       'quikr', 'piazzacareers', 'ugcmailing', 'autodesk', 'connectifyme',\n",
       "       'wix', 'timespoints', 'truecaller', 'myntra', 'freshdesk',\n",
       "       'tufinawatches', 'pinterest', 'imdb', 'tatadocomo', 'primevideo',\n",
       "       'aamaadmiparty', 'olacabs', 'mobikwik', '000webhost', 'referhire',\n",
       "       'cloudns', 'deeplearning', 'change', 'inox', 'maptive', 'yahoo',\n",
       "       'edx', 'toptalent', 'mysliderule', 'arya', 'phonepe',\n",
       "       'monsterindia', 'asana', 'technolutions', 'oneplusstore', 'join',\n",
       "       'wooe', 'asus', 'surveygizmo', 'careers360', 'cardekho',\n",
       "       'paytmemail', 'iheartdogs-email', 'magoosh', 'intercom', 'godaddy',\n",
       "       'bird', 'caisse-epargne', 'virtuosos', 'travel2-makemytrip', 'ktj',\n",
       "       'sourced', 'mycalendarmail', 'internations',\n",
       "       'sonyentertainmentnetwork', 'zoomgroup', 'nic', 'kotak', 'org',\n",
       "       'neo4j', 'payback', 'mozilla', '3digiprints', 'freelancer',\n",
       "       'rechargeitnow', 'student-cs', 'codeproject', 'walkfree',\n",
       "       'oracle-mail', 'asusindiapromo', 'altera', 'justdial',\n",
       "       'googlegroups', 'onlinerti', 'crowdai', 'saavn', 'neptune', 'iit',\n",
       "       'hotmail', 'timespoint', 'imaginecup', 'lucifro', 'diux',\n",
       "       'stackoverflow', 'newyorktimes', 'aspiringminds',\n",
       "       'makemytripmails', 'clubvistara', 'unisys', 'vairdo',\n",
       "       'realtimeboard', 'zomato', 'airtel', 'getpostman', 'rapidapi',\n",
       "       'doodle', 'msr-cmt', 'amerinoc', 'freshworks', 'ibm',\n",
       "       'templatemonster', 'yahoo-inc', 'granular', 'myopportunity',\n",
       "       'eezyrent', 'inria', 'academia', 'secureserver', 'swiggy', 'irctc',\n",
       "       'foursquare', 'entropay', 'asuswebstorage', 'travel-makemytrip',\n",
       "       'dropboxmail', 'atlassian', 'supelec', 'cardekholetters',\n",
       "       'cambridge-intelligence', 'cromaretail', 'digitalglobe',\n",
       "       'flipkartmail', 'mashape', 'freedomrewardz', 'stockroom',\n",
       "       'codeschool', 'smtpmailbox', 'wfp', 'gaanamail', 'tripadvisor',\n",
       "       'dhingana', '2shared', 'causesmail', 'namomail', 'elitmusmail',\n",
       "       'mathworks', 'quoramail', 'studapart', 'flat', 'hobbyking',\n",
       "       'shining3d', 'codeanywhere', 'premiumjobalerts', 'airvistara',\n",
       "       'easychair', 'nobroker', 'creately', 'aramex', 'dropbox-mktg',\n",
       "       'codeship', 'rcbazaar', 'readcube', 'ernet', 'nvidiadeveloper',\n",
       "       'billhowell', 'techtud', 'icims', 'drdo', 'freekacharge',\n",
       "       'govivace', 'frankfurt-airport', 'dominosmails', 'booking',\n",
       "       'vodafone', 'binghamton', 'horosproject', 'interviewbit', 'olx',\n",
       "       'reddit', 'joytunes', 'leanpub', 'aicte-india', 'wolfram',\n",
       "       'policybazaar', 'vfshelpline', 'cisco', 'ebs', 'dfxnews', 'comet',\n",
       "       'rediffnotifications', 'smartystreets', 'atmel', 'steampowered',\n",
       "       'pivotaltracker', 'fraport', 'manuscriptcentral', 'avast',\n",
       "       'brassring', 'myworkday', 'qgraph', 'stanford', 'asvspoof',\n",
       "       'zooniverse', 'supsi', 'ac', 'docker', 'dominos', 'lescrous',\n",
       "       'eudyptula-challenge', 'flipkartpromotions', 'browsec', 'usgs',\n",
       "       'airindia', 'mu-sigma', 'gouv', 'incontrolproductions', 'zoom',\n",
       "       'cakewalk', 'naaptoldealz', 'thesignals', 'diydrones', 'joinux',\n",
       "       'your-freedom', 'lookout', 'thefork', 'neotechnology',\n",
       "       'box8letters', 'expertrating', 'applemusic', 'mbajunction',\n",
       "       'openreview', 'icloudhosting', 'rcgroups', 'getcu3er', 'imindmap',\n",
       "       'centrepompidou', 'mak', 'amadeus', 'fotor', 'commtrends',\n",
       "       'airpostmail', 'atcoder', 'indeed', 'spicejet', 'oneclass',\n",
       "       'housing-mailer', 'adultfriendfinder', 'eer', 'healthie',\n",
       "       'birthdayfb', 'funaster', 'sentinel-hub', 'time4education',\n",
       "       'paypal-customerfeedback', 'ubuntu', 'sharelatex', 'heroku',\n",
       "       'slack-core', 'iitkgp', 'magnemit', 'freecharge-offers', 'iiitb',\n",
       "       'eventbrite', 'izly', 'jeevansathi', 'shriramgi', 'layoutit',\n",
       "       '126', 'dialogflow', 'fedex', 'platip', 'dmrc', 'outernet',\n",
       "       'sketch', 'clippingmagic', 'opendns', 'youth4work', 'caltech',\n",
       "       'web-spicejet', 'ecp', 'globalfashion', 'agencenavigo',\n",
       "       'examcrazy', 'bitbucket', 'technophilia', 'surveymonkey', 'wufoo',\n",
       "       'collegeprachaar', 'telecomlead', 'astrospeak', 'zepass',\n",
       "       'classmates', 'freedns', 'dtdc', 'moneygram', 'mitacs',\n",
       "       'snapdeals', 'adum', 'limnu', 'peterengland', 'medimanage', 'iitk',\n",
       "       'm2i', 'zero13wireless', 'divx-newsletters', 'brandedme',\n",
       "       'impactathon', 'cinemax', 'gopro', 'ymail', 'cseindia', 'workast',\n",
       "       'acm', 'comma', 'produitsetservices-laposte', 'celestialsoftware',\n",
       "       'hsbc', 'blablacar', 'guide2research', 'swagshirts99', 'api',\n",
       "       'uber', 'infos-airfrance', 'etihad', 'alchemyapi', 'way2sms',\n",
       "       'logaster', 'softbankrobotics', 'planet', 'tikona',\n",
       "       'ieee-collabratec', 'lumosity', 'payumoney', 'careernet',\n",
       "       'stylusstudio', 'colorado', 'synergy-project', 'rit', 'payu',\n",
       "       'mailclues', 'surveymonkeyuser', 'grabhouse', 'stackexchange',\n",
       "       'flickr', 'techject', 'taxiforsure', 'gaanainfo', 'ibmmail',\n",
       "       'pornhub', 'sailcareers', 'wordpress', 'ibmcloud',\n",
       "       'paypal-exchanges', 'com', 'minglebox', 'pizza', 'account-nvidia',\n",
       "       'elastichosts', 'kivuto', 'camscanner', 'agencenavigoannuel',\n",
       "       'audible', 'klarkwrist', 'mysql', 'lama-app', 'codebreak',\n",
       "       'cinemasgaumontpathe', 'af3', 'gliffy', 'axisbankmail',\n",
       "       'gotowebinar', 'ups', 'airfrance', 'auchan', 'jmlr', 'esa',\n",
       "       'topresume', 'airserbia', 'thinkdigit', 'careerfolio', 'surtri',\n",
       "       'leetchi', 'tata-sky', 'dcoder', 'thehobbyshop', 'economictimes',\n",
       "       'qemailserver', 'bluemix', 'nitropdf', 'acmicpc', 'salesforce',\n",
       "       'mega', 'simbla', 'vfsglobal', 'barbeque-nation', 'faasos', 'iist',\n",
       "       'vrporn', 'amrita', 'rdio', 'citruspay', 'miscota', 'afraid',\n",
       "       'rediffmail', 'compbuzz', 'timelesslearntech', 'f6s', 'i-register',\n",
       "       'truelancr', 'snapfish', 'psycom', 'shriramgeneral',\n",
       "       'naylormarketing', 'payzippy', 'hobsons', 'onedrive', 'yatra',\n",
       "       'smartsheet', 'uab', 'last', 'einsteinathome', 'isical',\n",
       "       'murraystate', 'avature', 'autodesk360', 'synthia-dataset', 'plot',\n",
       "       'eservices-laposte', 'diguy', 'marmalademail', 'windows',\n",
       "       'myzapak', 'segpay', 'websitetemplatesonline', 'royalsundaram',\n",
       "       'rchobbyaddict', 'reglomobile', 'divx', 'chegg', 'htcdev',\n",
       "       'iitrpr', 'scientific-direct', 'connectedphotos', 'cbsnewsletter',\n",
       "       'uttyler', 'cinemaspathegaumont', 'ilogo', 'impartus', 'infosys',\n",
       "       'cloudhq', 'hindustancopper', '3dr', 'staqu', 'logmein',\n",
       "       'fortinet', 'barconlineexam', 'madeeasy', 'play4free',\n",
       "       'nobrokerletters', 'gaana', '33mail', 'stampmail', 'ace2three',\n",
       "       'doselect', 'skillpagesmail', 'utrans01', 'critical', 'fsmp',\n",
       "       'aptech', 'successfactors', 'ames-it-solutions', 'papercept',\n",
       "       'gotinder', 'cityscapes-dataset', 'orkut', 'dataquest', 'example',\n",
       "       'codefactor', 'elitmus', 'tatasky', 'yocket', 'wisdomjobs',\n",
       "       'vectormagic', 'olxemails', 'amdocs', 'hasteroc', 'zamzar',\n",
       "       'archive', 'infoaxe', 'holidayiq', 'dfxinfo', 'chtah', 'myamcat',\n",
       "       'readlang', 'uvpn', 'coronainsights', 'service-airfrance',\n",
       "       'wimpmail', 'plagscan', 'carwale', 'buyforexonline', 'projectfree',\n",
       "       'iheartdogs', 'interviewstreet', 'paytmoffers', 'icicibank',\n",
       "       'epoch', 'ampleclick', 'saavnletters', 'prezi', 'innovaccer',\n",
       "       'server4you', 'dyn', 'talisman-corporation', 'cloudflare',\n",
       "       'facebook', 'enti', 'buffalo', 'bntmailer', 'tapchief', 'ready4',\n",
       "       '3ding', 'gleam', 'socgen', 'barbequenation', 'olamoney'],\n",
       "      dtype=object)"
      ]
     },
     "execution_count": 217,
     "metadata": {},
     "output_type": "execute_result"
    }
   ],
   "source": [
    "temp['org'].unique()"
   ]
  },
  {
   "cell_type": "code",
   "execution_count": 216,
   "metadata": {
    "scrolled": true
   },
   "outputs": [
    {
     "data": {
      "text/html": [
       "<div>\n",
       "<style scoped>\n",
       "    .dataframe tbody tr th:only-of-type {\n",
       "        vertical-align: middle;\n",
       "    }\n",
       "\n",
       "    .dataframe tbody tr th {\n",
       "        vertical-align: top;\n",
       "    }\n",
       "\n",
       "    .dataframe thead th {\n",
       "        text-align: right;\n",
       "    }\n",
       "</style>\n",
       "<table border=\"1\" class=\"dataframe\">\n",
       "  <thead>\n",
       "    <tr style=\"text-align: right;\">\n",
       "      <th></th>\n",
       "      <th>date</th>\n",
       "      <th>org</th>\n",
       "      <th>tld</th>\n",
       "      <th>ccs</th>\n",
       "      <th>bcced</th>\n",
       "      <th>mail_type</th>\n",
       "      <th>images</th>\n",
       "      <th>urls</th>\n",
       "      <th>salutations</th>\n",
       "      <th>designation</th>\n",
       "      <th>chars_in_subject</th>\n",
       "      <th>chars_in_body</th>\n",
       "      <th>year</th>\n",
       "      <th>month</th>\n",
       "      <th>day</th>\n",
       "      <th>hour</th>\n",
       "      <th>minute</th>\n",
       "      <th>second</th>\n",
       "      <th>weekday</th>\n",
       "      <th>timezone</th>\n",
       "    </tr>\n",
       "  </thead>\n",
       "  <tbody>\n",
       "    <tr>\n",
       "      <td>14591</td>\n",
       "      <td>2018-09-03 19:36:17+00:00</td>\n",
       "      <td>esa</td>\n",
       "      <td>int</td>\n",
       "      <td>0</td>\n",
       "      <td>0</td>\n",
       "      <td>text/html</td>\n",
       "      <td>0</td>\n",
       "      <td>2</td>\n",
       "      <td>1</td>\n",
       "      <td>0</td>\n",
       "      <td>75</td>\n",
       "      <td>907</td>\n",
       "      <td>2018</td>\n",
       "      <td>9</td>\n",
       "      <td>3</td>\n",
       "      <td>19</td>\n",
       "      <td>36</td>\n",
       "      <td>17</td>\n",
       "      <td>0</td>\n",
       "      <td>UTC\\+00:00</td>\n",
       "    </tr>\n",
       "    <tr>\n",
       "      <td>18056</td>\n",
       "      <td>2017-09-28 20:11:34+00:00</td>\n",
       "      <td>copernicus</td>\n",
       "      <td>esa.int</td>\n",
       "      <td>0</td>\n",
       "      <td>0</td>\n",
       "      <td>multipart/mixed</td>\n",
       "      <td>0</td>\n",
       "      <td>1</td>\n",
       "      <td>1</td>\n",
       "      <td>0</td>\n",
       "      <td>31</td>\n",
       "      <td>498</td>\n",
       "      <td>2017</td>\n",
       "      <td>9</td>\n",
       "      <td>28</td>\n",
       "      <td>20</td>\n",
       "      <td>11</td>\n",
       "      <td>34</td>\n",
       "      <td>3</td>\n",
       "      <td>UTC\\+00:00</td>\n",
       "    </tr>\n",
       "    <tr>\n",
       "      <td>658</td>\n",
       "      <td>2018-06-05 08:04:26+00:00</td>\n",
       "      <td>esa</td>\n",
       "      <td>int</td>\n",
       "      <td>0</td>\n",
       "      <td>0</td>\n",
       "      <td>text/html</td>\n",
       "      <td>0</td>\n",
       "      <td>2</td>\n",
       "      <td>1</td>\n",
       "      <td>0</td>\n",
       "      <td>75</td>\n",
       "      <td>907</td>\n",
       "      <td>2018</td>\n",
       "      <td>6</td>\n",
       "      <td>5</td>\n",
       "      <td>8</td>\n",
       "      <td>4</td>\n",
       "      <td>26</td>\n",
       "      <td>1</td>\n",
       "      <td>UTC\\+00:00</td>\n",
       "    </tr>\n",
       "    <tr>\n",
       "      <td>1229</td>\n",
       "      <td>2017-09-28 11:17:19+00:00</td>\n",
       "      <td>copernicus</td>\n",
       "      <td>esa.int</td>\n",
       "      <td>0</td>\n",
       "      <td>0</td>\n",
       "      <td>multipart/mixed</td>\n",
       "      <td>0</td>\n",
       "      <td>1</td>\n",
       "      <td>1</td>\n",
       "      <td>0</td>\n",
       "      <td>30</td>\n",
       "      <td>382</td>\n",
       "      <td>2017</td>\n",
       "      <td>9</td>\n",
       "      <td>28</td>\n",
       "      <td>11</td>\n",
       "      <td>17</td>\n",
       "      <td>19</td>\n",
       "      <td>3</td>\n",
       "      <td>UTC\\+00:00</td>\n",
       "    </tr>\n",
       "    <tr>\n",
       "      <td>6652</td>\n",
       "      <td>2018-03-29 17:13:45+00:00</td>\n",
       "      <td>copernicus</td>\n",
       "      <td>esa.int</td>\n",
       "      <td>0</td>\n",
       "      <td>0</td>\n",
       "      <td>multipart/mixed</td>\n",
       "      <td>0</td>\n",
       "      <td>1</td>\n",
       "      <td>1</td>\n",
       "      <td>0</td>\n",
       "      <td>30</td>\n",
       "      <td>382</td>\n",
       "      <td>2018</td>\n",
       "      <td>3</td>\n",
       "      <td>29</td>\n",
       "      <td>17</td>\n",
       "      <td>13</td>\n",
       "      <td>45</td>\n",
       "      <td>3</td>\n",
       "      <td>UTC\\+00:00</td>\n",
       "    </tr>\n",
       "  </tbody>\n",
       "</table>\n",
       "</div>"
      ],
      "text/plain": [
       "                            date         org      tld  ccs  bcced  \\\n",
       "14591  2018-09-03 19:36:17+00:00         esa      int    0      0   \n",
       "18056  2017-09-28 20:11:34+00:00  copernicus  esa.int    0      0   \n",
       "658    2018-06-05 08:04:26+00:00         esa      int    0      0   \n",
       "1229   2017-09-28 11:17:19+00:00  copernicus  esa.int    0      0   \n",
       "6652   2018-03-29 17:13:45+00:00  copernicus  esa.int    0      0   \n",
       "\n",
       "             mail_type  images  urls  salutations  designation  \\\n",
       "14591        text/html       0     2            1            0   \n",
       "18056  multipart/mixed       0     1            1            0   \n",
       "658          text/html       0     2            1            0   \n",
       "1229   multipart/mixed       0     1            1            0   \n",
       "6652   multipart/mixed       0     1            1            0   \n",
       "\n",
       "       chars_in_subject  chars_in_body  year  month  day  hour  minute  \\\n",
       "14591                75            907  2018      9    3    19      36   \n",
       "18056                31            498  2017      9   28    20      11   \n",
       "658                  75            907  2018      6    5     8       4   \n",
       "1229                 30            382  2017      9   28    11      17   \n",
       "6652                 30            382  2018      3   29    17      13   \n",
       "\n",
       "       second  weekday    timezone  \n",
       "14591      17        0  UTC\\+00:00  \n",
       "18056      34        3  UTC\\+00:00  \n",
       "658        26        1  UTC\\+00:00  \n",
       "1229       19        3  UTC\\+00:00  \n",
       "6652       45        3  UTC\\+00:00  "
      ]
     },
     "execution_count": 216,
     "metadata": {},
     "output_type": "execute_result"
    }
   ],
   "source": [
    "temp2[temp['tld']=='int']"
   ]
  },
  {
   "cell_type": "code",
   "execution_count": null,
   "metadata": {},
   "outputs": [],
   "source": [
    "#Duplicates detection\n",
    "#There are duplicates within the train set, the test set and each between the train and test set!\n",
    "#Solution drop duplicate rows in the excel file"
   ]
  },
  {
   "cell_type": "code",
   "execution_count": 90,
   "metadata": {},
   "outputs": [
    {
     "name": "stdout",
     "output_type": "stream",
     "text": [
      "(24474, 967)\n",
      "(24840, 967)\n",
      "(10544, 967)\n",
      "(10647, 967)\n"
     ]
    }
   ],
   "source": [
    "print(np.unique(X, axis=0).shape)\n",
    "print(X.shape)\n",
    "print(np.unique(X_test, axis=0).shape)\n",
    "print(X_test.shape)"
   ]
  },
  {
   "cell_type": "markdown",
   "metadata": {},
   "source": [
    "# Neural Network"
   ]
  },
  {
   "cell_type": "code",
   "execution_count": 9,
   "metadata": {},
   "outputs": [],
   "source": [
    "#Read train_clean.csv and test_clean.csv\n",
    "df_train = pd.read_csv('train_clean.csv', index_col = 0)\n",
    "df_test = pd.read_csv('test_clean.csv', index_col = 0)"
   ]
  },
  {
   "cell_type": "code",
   "execution_count": 10,
   "metadata": {},
   "outputs": [],
   "source": [
    "#Concatenate data together for feature engineering\n",
    "\n",
    "n = len(df_train)\n",
    "temp = pd.concat([df_train, df_test], axis=0, sort=False).drop(['label'], axis=1)\n",
    "\n",
    "#Correct the 'org' and 'tld' columns and lowercase them\n",
    "split_res = temp['tld'].str.split('.')\n",
    "true_tld = split_res.map(get_tld)\n",
    "true_org = split_res.map(get_org)\n",
    "temp['tld'] = true_tld.fillna(temp['tld']).str.lower()\n",
    "temp['org'] = true_org.fillna(temp['org']).str.lower()\n",
    "\n",
    "#Take the log of 'chars_in_subject', 'chars_in_body' and 'urls' columns\n",
    "log = ['chars_in_subject', 'chars_in_body', 'urls']\n",
    "temp[log] = np.log(temp[log] + 1)\n",
    "\n",
    "#Add 'org_freq' and 'tld_freq' columns\n",
    "for col in ['org', 'tld', 'mail_type', 'timezone']:\n",
    "    encoding = temp.groupby(col).size()/len(temp)\n",
    "    temp[col + '_freq'] = temp[col].map(encoding)\n",
    "\n",
    "#Onehot encode data\n",
    "catogorical = ['org', 'tld', 'mail_type', 'timezone']\n",
    "temp = pd.concat([temp, pd.get_dummies(temp[catogorical], drop_first=True)], axis=1)\n",
    "temp = temp.drop(catogorical, axis=1)\n",
    "\n",
    "#Drop apparently non-important features, and date\n",
    "temp = temp.drop(['bcced', 'designation', 'salutations', 'date'], axis=1)"
   ]
  },
  {
   "cell_type": "code",
   "execution_count": 11,
   "metadata": {},
   "outputs": [],
   "source": [
    "#Standarize data\n",
    "from sklearn.preprocessing import StandardScaler\n",
    "transformer = StandardScaler().fit(temp)\n",
    "temp = transformer.transform(temp)\n",
    "\n",
    "#Fill nan with -1\n",
    "temp = np.nan_to_num(temp, -1)"
   ]
  },
  {
   "cell_type": "code",
   "execution_count": 12,
   "metadata": {},
   "outputs": [],
   "source": [
    "#Split the data to X, y and X_test\n",
    "X = temp[:n]\n",
    "X_test = temp[n:]\n",
    "y = df_train['label']"
   ]
  },
  {
   "cell_type": "code",
   "execution_count": 227,
   "metadata": {},
   "outputs": [],
   "source": [
    "#Onehot-encode y\n",
    "y = pd.get_dummies(y)"
   ]
  },
  {
   "cell_type": "code",
   "execution_count": 228,
   "metadata": {},
   "outputs": [
    {
     "name": "stderr",
     "output_type": "stream",
     "text": [
      "Using TensorFlow backend.\n"
     ]
    }
   ],
   "source": [
    "#NN\n",
    "from keras.layers import Input, Dense, Dropout\n",
    "from keras.models import Model\n",
    "from keras.callbacks import EarlyStopping\n",
    "\n",
    "n_features = X.shape[1]\n",
    "input_tensor = Input(shape=(n_features,))\n",
    "layer1 = Dense(100, activation='relu')(input_tensor)\n",
    "layer2 = Dense(100, activation='relu')(layer1)\n",
    "layer3 = Dense(100, activation='relu')(layer2)\n",
    "output_tensor = Dense(4, activation='sigmoid')(layer3)\n",
    "model = Model(input_tensor, output_tensor)\n",
    "\n",
    "es = EarlyStopping(monitor='val_loss', mode='min', verbose=1, patience=3)\n",
    "\n",
    "model.compile(optimizer='adam',loss='categorical_crossentropy',metrics=['accuracy'])"
   ]
  },
  {
   "cell_type": "code",
   "execution_count": 229,
   "metadata": {},
   "outputs": [
    {
     "name": "stdout",
     "output_type": "stream",
     "text": [
      "Train on 17388 samples, validate on 7452 samples\n",
      "Epoch 1/100\n",
      "17388/17388 [==============================] - 4s 205us/step - loss: 0.3346 - accuracy: 0.8670 - val_loss: 0.2578 - val_accuracy: 0.8936\n",
      "Epoch 2/100\n",
      "17388/17388 [==============================] - 4s 202us/step - loss: 0.2236 - accuracy: 0.9140 - val_loss: 0.2247 - val_accuracy: 0.9122\n",
      "Epoch 3/100\n",
      "17388/17388 [==============================] - 5s 294us/step - loss: 0.2005 - accuracy: 0.9217 - val_loss: 0.2156 - val_accuracy: 0.9157\n",
      "Epoch 4/100\n",
      "17388/17388 [==============================] - 4s 223us/step - loss: 0.1873 - accuracy: 0.9277 - val_loss: 0.2152 - val_accuracy: 0.9145\n",
      "Epoch 5/100\n",
      "17388/17388 [==============================] - 3s 174us/step - loss: 0.1790 - accuracy: 0.9302 - val_loss: 0.2281 - val_accuracy: 0.9185\n",
      "Epoch 6/100\n",
      "17388/17388 [==============================] - 3s 175us/step - loss: 0.1710 - accuracy: 0.9342 - val_loss: 0.2175 - val_accuracy: 0.9200\n",
      "Epoch 7/100\n",
      "17388/17388 [==============================] - 3s 187us/step - loss: 0.1668 - accuracy: 0.9370 - val_loss: 0.2041 - val_accuracy: 0.9250\n",
      "Epoch 8/100\n",
      "17388/17388 [==============================] - 3s 185us/step - loss: 0.1596 - accuracy: 0.9378 - val_loss: 0.2035 - val_accuracy: 0.9279\n",
      "Epoch 9/100\n",
      "17388/17388 [==============================] - 4s 215us/step - loss: 0.1557 - accuracy: 0.9392 - val_loss: 0.2067 - val_accuracy: 0.9266\n",
      "Epoch 10/100\n",
      "17388/17388 [==============================] - 3s 180us/step - loss: 0.1503 - accuracy: 0.9426 - val_loss: 0.2070 - val_accuracy: 0.9295\n",
      "Epoch 11/100\n",
      "17388/17388 [==============================] - 3s 173us/step - loss: 0.1466 - accuracy: 0.9427 - val_loss: 0.2316 - val_accuracy: 0.9277\n",
      "Epoch 00011: early stopping\n"
     ]
    },
    {
     "data": {
      "text/plain": [
       "<keras.callbacks.callbacks.History at 0x1eb81c85d88>"
      ]
     },
     "execution_count": 229,
     "metadata": {},
     "output_type": "execute_result"
    }
   ],
   "source": [
    "model.fit(X, y, validation_split=0.3, batch_size=16, epochs=100, callbacks=[es])"
   ]
  },
  {
   "cell_type": "code",
   "execution_count": 54,
   "metadata": {},
   "outputs": [
    {
     "name": "stdout",
     "output_type": "stream",
     "text": [
      "24840/24840 [==============================] - 1s 47us/step\n"
     ]
    },
    {
     "data": {
      "text/plain": [
       "[0.15909310742828772, 0.943719806763285]"
      ]
     },
     "execution_count": 54,
     "metadata": {},
     "output_type": "execute_result"
    }
   ],
   "source": [
    "model.evaluate(X, y)"
   ]
  },
  {
   "cell_type": "code",
   "execution_count": 19,
   "metadata": {
    "collapsed": true
   },
   "outputs": [],
   "source": [
    "y_test = model.predict(X_test).argmax(axis=1)\n",
    "res = pd.DataFrame({'ID': np.arange(len(y_test)),\n",
    "                    'label': y_test})\n",
    "res.to_csv('submission-NN.csv', index=False)"
   ]
  },
  {
   "cell_type": "markdown",
   "metadata": {
    "collapsed": true
   },
   "source": [
    "# Gradient Boosting"
   ]
  },
  {
   "cell_type": "code",
   "execution_count": 172,
   "metadata": {},
   "outputs": [
    {
     "name": "stdout",
     "output_type": "stream",
     "text": [
      "{'fit_time': array([29.98285484, 29.97687054, 26.86665082, 29.52052808, 29.64791417]), 'score_time': array([0.08495164, 0.08495569, 0.08595252, 0.09294653, 0.09092283]), 'test_score': array([0.94345937, 0.9444076 , 0.94413334, 0.94525616, 0.94328965]), 'train_score': array([0.95983127, 0.96006077, 0.9601345 , 0.95916251, 0.95950221])}\n"
     ]
    }
   ],
   "source": [
    "#Cross Validation\n",
    "\n",
    "from sklearn.model_selection import cross_validate\n",
    "from sklearn.ensemble import GradientBoostingClassifier\n",
    "\n",
    "model = GradientBoostingClassifier(n_estimators = 300)\n",
    "\n",
    "print(cross_validate(model, X, y, cv=5, scoring='f1_macro'))"
   ]
  },
  {
   "cell_type": "code",
   "execution_count": 69,
   "metadata": {},
   "outputs": [
    {
     "data": {
      "text/plain": [
       "GradientBoostingClassifier(criterion='friedman_mse', init=None,\n",
       "              learning_rate=0.1, loss='deviance', max_depth=3,\n",
       "              max_features=None, max_leaf_nodes=None,\n",
       "              min_impurity_decrease=0.0, min_impurity_split=None,\n",
       "              min_samples_leaf=1, min_samples_split=2,\n",
       "              min_weight_fraction_leaf=0.0, n_estimators=300,\n",
       "              n_iter_no_change=None, presort='auto', random_state=None,\n",
       "              subsample=1.0, tol=0.0001, validation_fraction=0.1,\n",
       "              verbose=0, warm_start=False)"
      ]
     },
     "execution_count": 69,
     "metadata": {},
     "output_type": "execute_result"
    }
   ],
   "source": [
    "#Model Training\n",
    "model = GradientBoostingClassifier(n_estimators = 300)\n",
    "model.fit(X, y)"
   ]
  },
  {
   "cell_type": "code",
   "execution_count": 70,
   "metadata": {
    "collapsed": true
   },
   "outputs": [],
   "source": [
    "#Generate our predictions\n",
    "y_test = model.predict(X).astype(int)\n",
    "res = pd.DataFrame({'ID': np.arange(len(y_test)),\n",
    "                    'label': y_test})\n",
    "res.to_csv('submission-GB.csv', index=False)"
   ]
  },
  {
   "cell_type": "code",
   "execution_count": 71,
   "metadata": {},
   "outputs": [
    {
     "data": {
      "text/plain": [
       "0.962842190016103"
      ]
     },
     "execution_count": 71,
     "metadata": {},
     "output_type": "execute_result"
    }
   ],
   "source": [
    "model.score(X, y)"
   ]
  },
  {
   "cell_type": "markdown",
   "metadata": {},
   "source": [
    "# Random Forest"
   ]
  },
  {
   "cell_type": "code",
   "execution_count": 17,
   "metadata": {},
   "outputs": [],
   "source": [
    "#Read train_clean.csv and test_clean.csv\n",
    "df_train = pd.read_csv('train_clean.csv', index_col = 0)\n",
    "df_test = pd.read_csv('test_clean.csv', index_col = 0)"
   ]
  },
  {
   "cell_type": "code",
   "execution_count": 19,
   "metadata": {},
   "outputs": [],
   "source": [
    "#Concatenate data together for feature engineering\n",
    "\n",
    "n = len(df_train)\n",
    "temp = pd.concat([df_train, df_test], axis=0, sort=False).drop(['label'], axis=1)\n",
    "\n",
    "#Seperate the 'mail_type' column\n",
    "temp['mail_type'] = temp['mail_type'].str.strip()\n",
    "temp['mail_type_1'] = temp['mail_type'].str.split('/',expand=True)[0]\n",
    "temp['mail_type_2'] = temp['mail_type'].str.split('/',expand=True)[1]\n",
    "\n",
    "#Correct the 'org' and 'tld' columns and lowercase them\n",
    "split_res = temp['tld'].str.split('.')\n",
    "true_tld = split_res.map(get_tld)\n",
    "true_org = split_res.map(get_org)\n",
    "temp['tld'] = true_tld.fillna(temp['tld']).str.lower()\n",
    "temp['org'] = true_org.fillna(temp['org']).str.lower()\n",
    "\n",
    "catogorical = ['org', 'tld', 'mail_type_1', 'mail_type_2', 'timezone']\n",
    "temp[catogorical] = temp[catogorical].apply(lambda x: pd.factorize(x)[0])\n",
    "\n",
    "#Add 'org_freq' and 'tld_freq' columns\n",
    "for col in catogorical:\n",
    "    encoding = temp.groupby(col).size()/len(temp)\n",
    "    temp[col + '_freq'] = temp[col].map(encoding)\n",
    "\n",
    "#Add 'is_holiday' columns - Doesn't seem to work\n",
    "#temp['is_holiday'] = temp['date'].apply(lambda x:x[:10]).isin(holidays)\n",
    "\n",
    "#Drop apparently non-important features, and date and mailtype\n",
    "drop_c = ['bcced', 'designation', 'salutations', 'date', 'mail_type', 'mail_type_1_freq', 'mail_type_1']\n",
    "temp = temp.drop(drop_c, axis=1)"
   ]
  },
  {
   "cell_type": "code",
   "execution_count": 20,
   "metadata": {},
   "outputs": [],
   "source": [
    "#Split the data to X, y and X_test\n",
    "X = temp[:n]\n",
    "X_test = temp[n:]\n",
    "y = df_train['label']"
   ]
  },
  {
   "cell_type": "code",
   "execution_count": 21,
   "metadata": {},
   "outputs": [
    {
     "name": "stdout",
     "output_type": "stream",
     "text": [
      "{'fit_time': array([2.21374273, 2.11776352, 2.10577703, 2.12479496, 2.06383014]), 'score_time': array([0.09894347, 0.09795475, 0.10994816, 0.09395003, 0.09693217]), 'test_score': array([0.95373432, 0.9515085 , 0.95137088, 0.95370636, 0.95064126]), 'train_score': array([1., 1., 1., 1., 1.])}\n"
     ]
    }
   ],
   "source": [
    "#Cross Validation\n",
    "\n",
    "from sklearn.model_selection import cross_validate\n",
    "from sklearn.ensemble import RandomForestClassifier\n",
    "\n",
    "model = RandomForestClassifier(n_estimators = 100)\n",
    "\n",
    "print(cross_validate(model, X, y, cv=5, scoring='f1_macro', return_train_score=True))"
   ]
  },
  {
   "cell_type": "code",
   "execution_count": 328,
   "metadata": {},
   "outputs": [
    {
     "data": {
      "text/plain": [
       "RandomForestClassifier(bootstrap=True, class_weight=None, criterion='gini',\n",
       "                       max_depth=None, max_features='auto', max_leaf_nodes=None,\n",
       "                       min_impurity_decrease=0.0, min_impurity_split=None,\n",
       "                       min_samples_leaf=1, min_samples_split=2,\n",
       "                       min_weight_fraction_leaf=0.0, n_estimators=200,\n",
       "                       n_jobs=None, oob_score=False, random_state=None,\n",
       "                       verbose=0, warm_start=False)"
      ]
     },
     "execution_count": 328,
     "metadata": {},
     "output_type": "execute_result"
    }
   ],
   "source": [
    "#Model Training\n",
    "model.fit(X, y)"
   ]
  },
  {
   "cell_type": "code",
   "execution_count": 329,
   "metadata": {},
   "outputs": [],
   "source": [
    "#Generate our predictions\n",
    "y_test = model.predict(X_test).astype(int)\n",
    "res = pd.DataFrame({'ID': np.arange(len(y_test)),\n",
    "                    'label': y_test})\n",
    "res.to_csv('submission.csv', index=False)"
   ]
  },
  {
   "cell_type": "code",
   "execution_count": 330,
   "metadata": {},
   "outputs": [
    {
     "data": {
      "text/plain": [
       "array([0.20147906, 0.13174169, 0.08412687, 0.07515236, 0.07283776,\n",
       "       0.06901138, 0.06378221, 0.05691535, 0.04718192, 0.03557186,\n",
       "       0.02418004, 0.02094048, 0.02047868, 0.01602045, 0.01589014,\n",
       "       0.01528764, 0.01493279, 0.01339131, 0.01075369, 0.01032434])"
      ]
     },
     "execution_count": 330,
     "metadata": {},
     "output_type": "execute_result"
    }
   ],
   "source": [
    "model.feature_importances_[model.feature_importances_.argsort()[::-1]]"
   ]
  },
  {
   "cell_type": "code",
   "execution_count": 331,
   "metadata": {},
   "outputs": [
    {
     "data": {
      "text/plain": [
       "Index(['org_freq', 'org', 'tld', 'urls', 'chars_in_body', 'images', 'year',\n",
       "       'tld_freq', 'ccs', 'chars_in_subject', 'timezone', 'hour',\n",
       "       'timezone_freq', 'second', 'day', 'month', 'minute', 'mail_type_2',\n",
       "       'mail_type_2_freq', 'weekday'],\n",
       "      dtype='object')"
      ]
     },
     "execution_count": 331,
     "metadata": {},
     "output_type": "execute_result"
    }
   ],
   "source": [
    "X.columns[model.feature_importances_.argsort()[::-1]]"
   ]
  },
  {
   "cell_type": "markdown",
   "metadata": {
    "collapsed": true
   },
   "source": [
    "# Majority Voter"
   ]
  },
  {
   "cell_type": "code",
   "execution_count": 235,
   "metadata": {},
   "outputs": [
    {
     "name": "stdout",
     "output_type": "stream",
     "text": [
      "{'fit_time': array([4.30760336, 4.3206048 , 4.32758403, 4.19048905, 4.0275867 ]), 'score_time': array([0.06297207, 0.10159349, 0.07697463, 0.12692881, 0.0969429 ]), 'test_score': array([0.94826636, 0.9464066 , 0.9473167 , 0.94927333, 0.94339472])}\n"
     ]
    }
   ],
   "source": [
    "from sklearn.ensemble import RandomForestClassifier\n",
    "from sklearn.svm import SVC\n",
    "from sklearn.ensemble import VotingClassifier\n",
    "from sklearn.ensemble import GradientBoostingClassifier\n",
    "from sklearn.model_selection import cross_validate\n",
    "from sklearn.ensemble import AdaBoostClassifier\n",
    "from sklearn.linear_model import LogisticRegression\n",
    "\n",
    "clf1 = RandomForestClassifier(n_estimators=20)\n",
    "clf2 = GradientBoostingClassifier(n_estimators=20)\n",
    "clf3 = AdaBoostClassifier(n_estimators=20)\n",
    "clfs = [('1', clf1), ('2', clf2), ('3', clf3)]\n",
    "\n",
    "model = VotingClassifier(estimators=clfs, voting='soft', weights=[4, 1, 1])\n",
    "print(cross_validate(model, X, y, cv=5, scoring='f1_macro', n_jobs=-1))"
   ]
  }
 ],
 "metadata": {
  "kernelspec": {
   "display_name": "Python 3",
   "language": "python",
   "name": "python3"
  },
  "language_info": {
   "codemirror_mode": {
    "name": "ipython",
    "version": 3
   },
   "file_extension": ".py",
   "mimetype": "text/x-python",
   "name": "python",
   "nbconvert_exporter": "python",
   "pygments_lexer": "ipython3",
   "version": "3.7.6"
  }
 },
 "nbformat": 4,
 "nbformat_minor": 2
}
