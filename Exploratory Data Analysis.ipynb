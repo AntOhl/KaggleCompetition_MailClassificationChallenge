{
 "cells": [
  {
   "cell_type": "code",
   "execution_count": 3,
   "metadata": {},
   "outputs": [],
   "source": [
    "import pandas as pd\n",
    "from datetime import datetime\n",
    "import dateparser\n",
    "import matplotlib.pyplot as plt\n",
    "import seaborn as sns\n",
    "from scipy import stats\n",
    "import numpy as np\n",
    "from sklearn.preprocessing import OneHotEncoder, LabelEncoder, MinMaxScaler\n",
    "from sklearn.neighbors import KNeighborsClassifier\n",
    "from sklearn.metrics import accuracy_score\n",
    "from sklearn.model_selection import cross_validate\n",
    "from sklearn.ensemble import RandomForestClassifier\n",
    "from xgboost import XGBClassifier\n",
    "from sklearn.ensemble import GradientBoostingClassifier\n",
    "from sklearn.model_selection import GridSearchCV\n",
    "from sklearn.preprocessing import MultiLabelBinarizer\n",
    "\n"
   ]
  },
  {
   "cell_type": "markdown",
   "metadata": {},
   "source": [
    "### TO DO:\n",
    "- Analyse of NaN with distribution plots\n",
    "- Correlation Matrix to see which features are important\n",
    "- Chi_2 score"
   ]
  },
  {
   "cell_type": "markdown",
   "metadata": {},
   "source": [
    "Retours :\n",
    "\n",
    "- Covariate shift : AUC, s’il arrive a distinguer qu’une feature appartient plus à du train que du test (70%) on supprime la feature.\n",
    "- Poids de similarité : si une observation du train est proche d’une observation du test —> pondérer\n",
    "- Ensemble learning : predict_proba, mettre un seuil sur la probabilité !!\n",
    "- Faire du sample_weights "
   ]
  },
  {
   "cell_type": "markdown",
   "metadata": {},
   "source": [
    "# Exploratory Data Analysis"
   ]
  },
  {
   "cell_type": "code",
   "execution_count": 10,
   "metadata": {},
   "outputs": [],
   "source": [
    "# Read csvs\n",
    "train_df = pd.read_csv('train.csv', index_col=0)\n",
    "train_x = train_df[['date', 'org', 'tld', 'ccs', 'bcced', 'mail_type', 'images', 'urls',\n",
    "       'salutations', 'designation', 'chars_in_subject', 'chars_in_body',]]\n",
    "train_y = train_df[['label']]\n",
    "test_x = pd.read_csv('test.csv', index_col=0)"
   ]
  },
  {
   "cell_type": "code",
   "execution_count": 11,
   "metadata": {},
   "outputs": [
    {
     "name": "stdout",
     "output_type": "stream",
     "text": [
      "Size of the training set  (24840, 13)\n",
      "Size of the testing set  (10647, 12)\n"
     ]
    }
   ],
   "source": [
    "print('Size of the training set ', train_df.shape)\n",
    "print('Size of the testing set ', test_x.shape)"
   ]
  },
  {
   "cell_type": "code",
   "execution_count": 12,
   "metadata": {},
   "outputs": [],
   "source": [
    "l_bin_var = ['salutations', 'designation', 'bcced']\n",
    "l_cont_var = ['ccs', 'images', 'urls', 'chars_in_subject', 'chars_in_body']\n",
    "l_cat_var = ['org', 'tld', 'mail_type']"
   ]
  },
  {
   "cell_type": "code",
   "execution_count": 13,
   "metadata": {
    "scrolled": true
   },
   "outputs": [
    {
     "data": {
      "image/png": "[encoded data removed]",
      "text/plain": [
       "<Figure size 432x288 with 1 Axes>"
      ]
     },
     "metadata": {
      "needs_background": "light"
     },
     "output_type": "display_data"
    }
   ],
   "source": [
    "sns.countplot(train_df['label'])\n",
    "plt.show()"
   ]
  },
  {
   "cell_type": "code",
   "execution_count": 14,
   "metadata": {},
   "outputs": [
    {
     "data": {
      "text/html": [
       "<div>\n",
       "<style scoped>\n",
       "    .dataframe tbody tr th:only-of-type {\n",
       "        vertical-align: middle;\n",
       "    }\n",
       "\n",
       "    .dataframe tbody tr th {\n",
       "        vertical-align: top;\n",
       "    }\n",
       "\n",
       "    .dataframe thead th {\n",
       "        text-align: right;\n",
       "    }\n",
       "</style>\n",
       "<table border=\"1\" class=\"dataframe\">\n",
       "  <thead>\n",
       "    <tr style=\"text-align: right;\">\n",
       "      <th></th>\n",
       "      <th>date</th>\n",
       "      <th>org</th>\n",
       "      <th>tld</th>\n",
       "      <th>ccs</th>\n",
       "      <th>bcced</th>\n",
       "      <th>mail_type</th>\n",
       "      <th>images</th>\n",
       "      <th>urls</th>\n",
       "      <th>salutations</th>\n",
       "      <th>designation</th>\n",
       "      <th>chars_in_subject</th>\n",
       "      <th>chars_in_body</th>\n",
       "    </tr>\n",
       "    <tr>\n",
       "      <th>label</th>\n",
       "      <th></th>\n",
       "      <th></th>\n",
       "      <th></th>\n",
       "      <th></th>\n",
       "      <th></th>\n",
       "      <th></th>\n",
       "      <th></th>\n",
       "      <th></th>\n",
       "      <th></th>\n",
       "      <th></th>\n",
       "      <th></th>\n",
       "      <th></th>\n",
       "    </tr>\n",
       "  </thead>\n",
       "  <tbody>\n",
       "    <tr>\n",
       "      <th>0</th>\n",
       "      <td>42.113527</td>\n",
       "      <td>37.403382</td>\n",
       "      <td>37.403382</td>\n",
       "      <td>42.113527</td>\n",
       "      <td>42.113527</td>\n",
       "      <td>41.827697</td>\n",
       "      <td>42.113527</td>\n",
       "      <td>42.113527</td>\n",
       "      <td>42.113527</td>\n",
       "      <td>42.113527</td>\n",
       "      <td>42.113527</td>\n",
       "      <td>42.113527</td>\n",
       "    </tr>\n",
       "    <tr>\n",
       "      <th>1</th>\n",
       "      <td>14.408213</td>\n",
       "      <td>14.408213</td>\n",
       "      <td>14.408213</td>\n",
       "      <td>14.408213</td>\n",
       "      <td>14.408213</td>\n",
       "      <td>14.408213</td>\n",
       "      <td>14.408213</td>\n",
       "      <td>14.408213</td>\n",
       "      <td>14.408213</td>\n",
       "      <td>14.408213</td>\n",
       "      <td>14.408213</td>\n",
       "      <td>14.408213</td>\n",
       "    </tr>\n",
       "    <tr>\n",
       "      <th>2</th>\n",
       "      <td>19.621578</td>\n",
       "      <td>19.259259</td>\n",
       "      <td>19.259259</td>\n",
       "      <td>19.621578</td>\n",
       "      <td>19.621578</td>\n",
       "      <td>19.621578</td>\n",
       "      <td>19.621578</td>\n",
       "      <td>19.621578</td>\n",
       "      <td>19.621578</td>\n",
       "      <td>19.621578</td>\n",
       "      <td>19.621578</td>\n",
       "      <td>19.621578</td>\n",
       "    </tr>\n",
       "    <tr>\n",
       "      <th>3</th>\n",
       "      <td>23.856683</td>\n",
       "      <td>23.788245</td>\n",
       "      <td>23.788245</td>\n",
       "      <td>23.856683</td>\n",
       "      <td>23.856683</td>\n",
       "      <td>23.856683</td>\n",
       "      <td>23.856683</td>\n",
       "      <td>23.856683</td>\n",
       "      <td>23.856683</td>\n",
       "      <td>23.856683</td>\n",
       "      <td>23.856683</td>\n",
       "      <td>23.856683</td>\n",
       "    </tr>\n",
       "  </tbody>\n",
       "</table>\n",
       "</div>"
      ],
      "text/plain": [
       "            date        org        tld        ccs      bcced  mail_type  \\\n",
       "label                                                                     \n",
       "0      42.113527  37.403382  37.403382  42.113527  42.113527  41.827697   \n",
       "1      14.408213  14.408213  14.408213  14.408213  14.408213  14.408213   \n",
       "2      19.621578  19.259259  19.259259  19.621578  19.621578  19.621578   \n",
       "3      23.856683  23.788245  23.788245  23.856683  23.856683  23.856683   \n",
       "\n",
       "          images       urls  salutations  designation  chars_in_subject  \\\n",
       "label                                                                     \n",
       "0      42.113527  42.113527    42.113527    42.113527         42.113527   \n",
       "1      14.408213  14.408213    14.408213    14.408213         14.408213   \n",
       "2      19.621578  19.621578    19.621578    19.621578         19.621578   \n",
       "3      23.856683  23.856683    23.856683    23.856683         23.856683   \n",
       "\n",
       "       chars_in_body  \n",
       "label                 \n",
       "0          42.113527  \n",
       "1          14.408213  \n",
       "2          19.621578  \n",
       "3          23.856683  "
      ]
     },
     "execution_count": 14,
     "metadata": {},
     "output_type": "execute_result"
    }
   ],
   "source": [
    "train_df.groupby('label').count() / len(train_df) *100"
   ]
  },
  {
   "cell_type": "code",
   "execution_count": 15,
   "metadata": {},
   "outputs": [
    {
     "data": {
      "text/plain": [
       "[{0: 42, 1: 14}, {0: 42, 1: 5}, {0: 42, 1: 1}, {0: 42, 1: 1}]"
      ]
     },
     "execution_count": 15,
     "metadata": {},
     "output_type": "execute_result"
    }
   ],
   "source": [
    "[{0: 42, 1: 14}, {0: 42, 1: 5}, {0: 42, 1: 1}, {0: 42, 1: 1}] "
   ]
  },
  {
   "cell_type": "markdown",
   "metadata": {},
   "source": [
    "### NaN Analysis"
   ]
  },
  {
   "cell_type": "code",
   "execution_count": 16,
   "metadata": {
    "scrolled": true
   },
   "outputs": [
    {
     "data": {
      "text/plain": [
       "date                0.000000\n",
       "org                 5.140902\n",
       "tld                 5.140902\n",
       "ccs                 0.000000\n",
       "bcced               0.000000\n",
       "mail_type           0.285829\n",
       "images              0.000000\n",
       "urls                0.000000\n",
       "salutations         0.000000\n",
       "designation         0.000000\n",
       "chars_in_subject    0.000000\n",
       "chars_in_body       0.000000\n",
       "label               0.000000\n",
       "dtype: float64"
      ]
     },
     "execution_count": 16,
     "metadata": {},
     "output_type": "execute_result"
    }
   ],
   "source": [
    "train_df.isna().sum() / 24840 * 100"
   ]
  },
  {
   "cell_type": "code",
   "execution_count": 17,
   "metadata": {},
   "outputs": [
    {
     "data": {
      "text/plain": [
       "date                0.000000\n",
       "org                 5.475721\n",
       "tld                 5.475721\n",
       "ccs                 0.000000\n",
       "bcced               0.000000\n",
       "mail_type           0.272377\n",
       "images              0.000000\n",
       "urls                0.000000\n",
       "salutations         0.000000\n",
       "designation         0.000000\n",
       "chars_in_subject    0.000000\n",
       "chars_in_body       0.000000\n",
       "dtype: float64"
      ]
     },
     "execution_count": 17,
     "metadata": {},
     "output_type": "execute_result"
    }
   ],
   "source": [
    "test_x.isna().sum() / 10647 * 100"
   ]
  },
  {
   "cell_type": "markdown",
   "metadata": {},
   "source": [
    "We only have Nan in categorical values, and it seems that when there is a Nan in orgit entails a Nan in tld <br>\n",
    "For __org__ and __tld__ it represents more than 5%, so we need to handle with that. It's less important for __mail_type__. At the beggining, we can fill missing values by the string \"missing\""
   ]
  },
  {
   "cell_type": "code",
   "execution_count": 18,
   "metadata": {},
   "outputs": [],
   "source": [
    "#Mandatory feature engineering\n",
    "train_df[\"org\"] = train_df[\"org\"].fillna('org_missing')\n",
    "train_df[\"tld\"] = train_df[\"tld\"].fillna('tld_missing')\n",
    "train_df[\"mail_type\"] = train_df[\"mail_type\"].fillna('mail_type/missing')\n",
    "test_x[\"org\"] = test_x[\"org\"].fillna('org_missing')\n",
    "test_x[\"tld\"] = test_x[\"tld\"].fillna('tld_missing')\n",
    "test_x[\"mail_type\"] = test_x[\"mail_type\"].fillna('mail_type/missing')"
   ]
  },
  {
   "cell_type": "code",
   "execution_count": 19,
   "metadata": {},
   "outputs": [],
   "source": [
    "def fe_mandatory(train_df, test_x):\n",
    "    train_df[\"org\"] = train_df[\"org\"].fillna('org_missing')\n",
    "    train_df[\"tld\"] = train_df[\"tld\"].fillna('tld_missing')\n",
    "    train_df[\"mail_type\"] = train_df[\"mail_type\"].fillna('mt_missing/mt_missing')\n",
    "    test_x[\"org\"] = test_x[\"org\"].fillna('org_missing')\n",
    "    test_x[\"tld\"] = test_x[\"tld\"].fillna('tld_missing')\n",
    "    test_x[\"mail_type\"] = test_x[\"mail_type\"].fillna('mt_missing/mt_missing')\n",
    "    return train_df, test_x"
   ]
  },
  {
   "cell_type": "code",
   "execution_count": 20,
   "metadata": {},
   "outputs": [],
   "source": [
    "#Preprocessing lower case every categorical features\n",
    "def fe_lower_case_strip(train_df, test_x):\n",
    "    \n",
    "    l_cat_var = ['org', 'tld', 'mail_type']\n",
    "    for i in range(len(l_cat_var)):\n",
    "        train_df[l_cat_var[i]] = train_df[l_cat_var[i]].str.lower()\n",
    "        test_x[l_cat_var[i]] = test_x[l_cat_var[i]].str.lower()\n",
    "        train_df[l_cat_var[i]] = train_df[l_cat_var[i]].str.strip()\n",
    "        test_x[l_cat_var[i]] = test_x[l_cat_var[i]].str.strip()\n",
    "    return train_df, test_x"
   ]
  },
  {
   "cell_type": "code",
   "execution_count": 21,
   "metadata": {},
   "outputs": [],
   "source": [
    "## Handle lower case\n",
    "train_df, test_x = fe_lower_case_strip(train_df, test_x)"
   ]
  },
  {
   "cell_type": "code",
   "execution_count": 22,
   "metadata": {
    "scrolled": true
   },
   "outputs": [
    {
     "data": {
      "image/png": "[encoded data removed]",
      "text/plain": [
       "<Figure size 864x360 with 1 Axes>"
      ]
     },
     "metadata": {
      "needs_background": "light"
     },
     "output_type": "display_data"
    }
   ],
   "source": [
    "plt.figure(figsize=(12, 5))\n",
    "sns.countplot(train_df.mail_type)\n",
    "plt.show()"
   ]
  },
  {
   "cell_type": "markdown",
   "metadata": {},
   "source": [
    "### Date Feature"
   ]
  },
  {
   "cell_type": "code",
   "execution_count": 23,
   "metadata": {},
   "outputs": [],
   "source": [
    "#Obtain clean date\n",
    "\n",
    "#1. There are no missing values in the date column, but several formats exist:\n",
    "#(a) Sun, 28 Aug 2016 00:17:44 +0000\n",
    "#(b) 11-MAR-2018 20:40:58\n",
    "#(c) Mon, 8 Apr 2013 09:59:21\n",
    "#(d) 25 Apr 2019 07:13:43 -0400\n",
    "#...\n",
    "#2. There are also incorrect time zones values, '+0580', which I changed to '0530'\n",
    "\n",
    "def change_date_format(X):\n",
    "    X['date'] = X['date'].str.replace(r' \\(.*\\)', '')\n",
    "    X['date'] = X['date'].str.rstrip()\n",
    "    X['date'] = X['date'].str.replace('-0000', '+0000')\n",
    "    X['date'] = X['date'].str.replace('0580', '0530')\n",
    "    X['datetime'] = X['date'].apply(dateparser.parse, languages=['en'])\n",
    "    return X\n",
    "\n",
    "def date_feature_engineering(df):\n",
    "    df['year'] = df['datetime'].apply(lambda x:x.year)\n",
    "    df['month'] = df['datetime'].apply(lambda x:x.month)\n",
    "    df['day'] = df['datetime'].apply(lambda x:x.day)\n",
    "    df['hour'] = df['datetime'].apply(lambda x:x.hour)\n",
    "    df['minute'] = df['datetime'].apply(lambda x:x.minute)\n",
    "    df['second'] = df['datetime'].apply(lambda x:x.second)\n",
    "    df['weekday'] = df['datetime'].apply(lambda x:x.weekday())\n",
    "    df['timezone'] = df['datetime'].apply(lambda x:x.tzname())\n",
    "    return df"
   ]
  },
  {
   "cell_type": "code",
   "execution_count": 24,
   "metadata": {},
   "outputs": [],
   "source": [
    "#Preproccesinf for date formating\n",
    "def fe_date_preprocess(train_df, test_x):\n",
    "    train_df = change_date_format(train_df)\n",
    "    test_x  = change_date_format(test_x)\n",
    "    train_df = date_feature_engineering(train_df)\n",
    "    test_x  = date_feature_engineering(test_x)\n",
    "    \n",
    "    train_df.drop(['date'], axis=1, inplace=True)\n",
    "    train_df.drop(['datetime'], axis=1, inplace=True)\n",
    "\n",
    "    test_x.drop(['date'], axis=1, inplace=True)\n",
    "    test_x.drop(['datetime'], axis=1, inplace=True)\n",
    "    \n",
    "    return train_df, test_x"
   ]
  },
  {
   "cell_type": "markdown",
   "metadata": {},
   "source": [
    "## Binary features\n",
    "- salutations\n",
    "- designation\n",
    "- bcced"
   ]
  },
  {
   "cell_type": "code",
   "execution_count": 25,
   "metadata": {},
   "outputs": [],
   "source": [
    "l_bin_var = ['salutations', 'designation', 'bcced']"
   ]
  },
  {
   "cell_type": "code",
   "execution_count": 26,
   "metadata": {},
   "outputs": [
    {
     "data": {
      "image/png": "[encoded data removed]",
      "text/plain": [
       "<Figure size 1440x720 with 6 Axes>"
      ]
     },
     "metadata": {
      "needs_background": "light"
     },
     "output_type": "display_data"
    }
   ],
   "source": [
    "fig, axes = plt.subplots(3, 2, figsize=(20, 10))\n",
    "for i in range(len(l_bin_var)):\n",
    "    axes[i, 0].hist(train_x[l_bin_var[i]])\n",
    "    title = 'training for ' + l_bin_var[i]\n",
    "    axes[i, 0].set_title(title)\n",
    "\n",
    "    axes[i, 1].hist(test_x[l_bin_var[i]])\n",
    "    title = 'testing for ' + l_bin_var[i]\n",
    "    axes[i, 1].set_title(title)\n",
    "    \n",
    "plt.show()"
   ]
  },
  {
   "cell_type": "markdown",
   "metadata": {},
   "source": [
    "### <font color='red'> Commentaries : </font>\n",
    "- We see that bcced feature always is equal to 0 in training and testing dataset\n",
    "- Let's check the other binary features"
   ]
  },
  {
   "cell_type": "code",
   "execution_count": 27,
   "metadata": {
    "scrolled": true
   },
   "outputs": [
    {
     "data": {
      "image/png": "[encoded data removed]",
      "text/plain": [
       "<Figure size 864x216 with 4 Axes>"
      ]
     },
     "metadata": {
      "needs_background": "light"
     },
     "output_type": "display_data"
    }
   ],
   "source": [
    "g = sns.FacetGrid(train_df, col=\"label\")\n",
    "g = g.map(plt.hist, \"salutations\", bins=10)"
   ]
  },
  {
   "cell_type": "code",
   "execution_count": 28,
   "metadata": {},
   "outputs": [
    {
     "data": {
      "text/html": [
       "<div>\n",
       "<style scoped>\n",
       "    .dataframe tbody tr th:only-of-type {\n",
       "        vertical-align: middle;\n",
       "    }\n",
       "\n",
       "    .dataframe tbody tr th {\n",
       "        vertical-align: top;\n",
       "    }\n",
       "\n",
       "    .dataframe thead th {\n",
       "        text-align: right;\n",
       "    }\n",
       "</style>\n",
       "<table border=\"1\" class=\"dataframe\">\n",
       "  <thead>\n",
       "    <tr style=\"text-align: right;\">\n",
       "      <th>salutations</th>\n",
       "      <th>0</th>\n",
       "      <th>1</th>\n",
       "    </tr>\n",
       "    <tr>\n",
       "      <th>label</th>\n",
       "      <th></th>\n",
       "      <th></th>\n",
       "    </tr>\n",
       "  </thead>\n",
       "  <tbody>\n",
       "    <tr>\n",
       "      <th>0</th>\n",
       "      <td>6959</td>\n",
       "      <td>3502</td>\n",
       "    </tr>\n",
       "    <tr>\n",
       "      <th>1</th>\n",
       "      <td>2604</td>\n",
       "      <td>975</td>\n",
       "    </tr>\n",
       "    <tr>\n",
       "      <th>2</th>\n",
       "      <td>1512</td>\n",
       "      <td>3362</td>\n",
       "    </tr>\n",
       "    <tr>\n",
       "      <th>3</th>\n",
       "      <td>4410</td>\n",
       "      <td>1516</td>\n",
       "    </tr>\n",
       "  </tbody>\n",
       "</table>\n",
       "</div>"
      ],
      "text/plain": [
       "salutations     0     1\n",
       "label                  \n",
       "0            6959  3502\n",
       "1            2604   975\n",
       "2            1512  3362\n",
       "3            4410  1516"
      ]
     },
     "execution_count": 28,
     "metadata": {},
     "output_type": "execute_result"
    }
   ],
   "source": [
    "crosstab_salutations = pd.crosstab(train_df['label'], train_df['salutations'])\n",
    "crosstab_salutations"
   ]
  },
  {
   "cell_type": "code",
   "execution_count": 29,
   "metadata": {},
   "outputs": [
    {
     "name": "stdout",
     "output_type": "stream",
     "text": [
      "Chi Square value is  2647.8630985862555\n",
      "p-value value is  0.0\n",
      "Degree of freedom value is  3\n"
     ]
    }
   ],
   "source": [
    "stats_salutations = stats.chi2_contingency(crosstab_salutations)\n",
    "print('Chi Square value is ', stats_salutations[0])\n",
    "print('p-value value is ', stats_salutations[1])\n",
    "print('Degree of freedom value is ', stats_salutations[2])"
   ]
  },
  {
   "cell_type": "code",
   "execution_count": 30,
   "metadata": {
    "scrolled": true
   },
   "outputs": [
    {
     "data": {
      "image/png": "[encoded data removed]",
      "text/plain": [
       "<Figure size 864x216 with 4 Axes>"
      ]
     },
     "metadata": {
      "needs_background": "light"
     },
     "output_type": "display_data"
    }
   ],
   "source": [
    "g = sns.FacetGrid(train_df, col=\"label\")\n",
    "g = g.map(plt.hist, \"designation\", bins=10)"
   ]
  },
  {
   "cell_type": "code",
   "execution_count": 31,
   "metadata": {
    "scrolled": true
   },
   "outputs": [
    {
     "data": {
      "text/html": [
       "<div>\n",
       "<style scoped>\n",
       "    .dataframe tbody tr th:only-of-type {\n",
       "        vertical-align: middle;\n",
       "    }\n",
       "\n",
       "    .dataframe tbody tr th {\n",
       "        vertical-align: top;\n",
       "    }\n",
       "\n",
       "    .dataframe thead th {\n",
       "        text-align: right;\n",
       "    }\n",
       "</style>\n",
       "<table border=\"1\" class=\"dataframe\">\n",
       "  <thead>\n",
       "    <tr style=\"text-align: right;\">\n",
       "      <th>designation</th>\n",
       "      <th>0</th>\n",
       "      <th>1</th>\n",
       "    </tr>\n",
       "    <tr>\n",
       "      <th>label</th>\n",
       "      <th></th>\n",
       "      <th></th>\n",
       "    </tr>\n",
       "  </thead>\n",
       "  <tbody>\n",
       "    <tr>\n",
       "      <th>0</th>\n",
       "      <td>9640</td>\n",
       "      <td>821</td>\n",
       "    </tr>\n",
       "    <tr>\n",
       "      <th>1</th>\n",
       "      <td>2711</td>\n",
       "      <td>868</td>\n",
       "    </tr>\n",
       "    <tr>\n",
       "      <th>2</th>\n",
       "      <td>4406</td>\n",
       "      <td>468</td>\n",
       "    </tr>\n",
       "    <tr>\n",
       "      <th>3</th>\n",
       "      <td>5388</td>\n",
       "      <td>538</td>\n",
       "    </tr>\n",
       "  </tbody>\n",
       "</table>\n",
       "</div>"
      ],
      "text/plain": [
       "designation     0    1\n",
       "label                 \n",
       "0            9640  821\n",
       "1            2711  868\n",
       "2            4406  468\n",
       "3            5388  538"
      ]
     },
     "execution_count": 31,
     "metadata": {},
     "output_type": "execute_result"
    }
   ],
   "source": [
    "crosstab_designation = pd.crosstab(train_df['label'], train_df['designation'])\n",
    "crosstab_designation"
   ]
  },
  {
   "cell_type": "code",
   "execution_count": 32,
   "metadata": {
    "scrolled": false
   },
   "outputs": [
    {
     "name": "stdout",
     "output_type": "stream",
     "text": [
      "Chi Square value is  789.2005567404859\n",
      "p-value value is  9.513921284832808e-171\n",
      "Degree of freedom value is  3\n"
     ]
    }
   ],
   "source": [
    "stats_designation = stats.chi2_contingency(crosstab_designation)\n",
    "print('Chi Square value is ', stats_designation[0])\n",
    "print('p-value value is ', stats_designation[1])\n",
    "print('Degree of freedom value is ', stats_designation[2])"
   ]
  },
  {
   "cell_type": "markdown",
   "metadata": {},
   "source": [
    "### <font color='red'> Commentaries : </font>\n",
    "Both salutations and designation are correlated with the label"
   ]
  },
  {
   "cell_type": "markdown",
   "metadata": {},
   "source": [
    "## Continious features\n",
    "- ccs\n",
    "- images\n",
    "- urls\n",
    "- chars_in_subject\n",
    "- chars_in_body\n",
    "\n",
    "Check distribution of these variables"
   ]
  },
  {
   "cell_type": "code",
   "execution_count": 33,
   "metadata": {},
   "outputs": [],
   "source": [
    "l_cont_var = ['ccs', 'images', 'urls', 'chars_in_subject', 'chars_in_body']"
   ]
  },
  {
   "cell_type": "markdown",
   "metadata": {},
   "source": [
    "Distribution of continious variables for the <b> training </b> set and <b> testing </b> set"
   ]
  },
  {
   "cell_type": "code",
   "execution_count": 34,
   "metadata": {},
   "outputs": [
    {
     "data": {
      "image/png": "[encoded data removed]",
      "text/plain": [
       "<Figure size 1440x720 with 6 Axes>"
      ]
     },
     "metadata": {
      "needs_background": "light"
     },
     "output_type": "display_data"
    }
   ],
   "source": [
    "fig, axes = plt.subplots(2, 3, figsize=(20, 10))\n",
    "axes = axes.ravel()\n",
    "for i in range(len(l_cont_var)):\n",
    "    axes[i].set_title(l_cont_var[i])\n",
    "    sns.kdeplot(train_df[l_cont_var[i]], shade=True, ax=axes[i], color=\"b\", label='training', legend=True)\n",
    "    sns.kdeplot(test_x[l_cont_var[i]], shade=True, ax=axes[i], color=\"r\", label='testing', legend=True)\n",
    "plt.tight_layout()    "
   ]
  },
  {
   "cell_type": "code",
   "execution_count": 35,
   "metadata": {},
   "outputs": [
    {
     "name": "stderr",
     "output_type": "stream",
     "text": [
      "C:\\Users\\Camille\\Anaconda3\\lib\\site-packages\\statsmodels\\nonparametric\\kde.py:487: RuntimeWarning: invalid value encountered in true_divide\n",
      "  binned = fast_linbin(X, a, b, gridsize) / (delta * nobs)\n",
      "C:\\Users\\Camille\\Anaconda3\\lib\\site-packages\\statsmodels\\nonparametric\\kdetools.py:34: RuntimeWarning: invalid value encountered in double_scalars\n",
      "  FAC1 = 2*(np.pi*bw/RANGE)**2\n"
     ]
    },
    {
     "data": {
      "image/png": "[encoded data removed]",
      "text/plain": [
       "<Figure size 720x1008 with 5 Axes>"
      ]
     },
     "metadata": {
      "needs_background": "light"
     },
     "output_type": "display_data"
    }
   ],
   "source": [
    "plt.figure(figsize = (10, 14))\n",
    "# iterate through the new features\n",
    "for i, feature in enumerate(l_cont_var):\n",
    "    \n",
    "    # create a new subplot for each source\n",
    "    plt.subplot(5, 1, i + 1)\n",
    "    # plot repaid loans\n",
    "    sns.kdeplot(train_df.loc[train_df['label'] == 0, feature], label = 'target == 0')\n",
    "    sns.kdeplot(train_df.loc[train_df['label'] == 1, feature], label = 'target == 1')\n",
    "    sns.kdeplot(train_df.loc[train_df['label'] == 2, feature], label = 'target == 2')\n",
    "    sns.kdeplot(train_df.loc[train_df['label'] == 3, feature], label = 'target == 3')\n",
    "    \n",
    "    # Label the plots\n",
    "    plt.xlabel('%s' % feature) \n",
    "    \n",
    "plt.tight_layout(h_pad = 2.5)"
   ]
  },
  {
   "cell_type": "markdown",
   "metadata": {},
   "source": [
    "If we normalized our data"
   ]
  },
  {
   "cell_type": "code",
   "execution_count": 36,
   "metadata": {
    "scrolled": false
   },
   "outputs": [
    {
     "data": {
      "image/png": "[encoded data removed]",
      "text/plain": [
       "<Figure size 1440x720 with 6 Axes>"
      ]
     },
     "metadata": {
      "needs_background": "light"
     },
     "output_type": "display_data"
    }
   ],
   "source": [
    "min_max_scaler_train = MinMaxScaler()\n",
    "train_df_norm = min_max_scaler_train.fit_transform(train_df[l_cont_var])\n",
    "train_df_norm = pd.DataFrame(train_df_norm, columns=l_cont_var)\n",
    "\n",
    "min_max_scaler_test = MinMaxScaler()\n",
    "test_x_norm = min_max_scaler_test.fit_transform(test_x[l_cont_var])\n",
    "test_x_norm = pd.DataFrame(test_x_norm, columns=l_cont_var)\n",
    "\n",
    "fig, axes = plt.subplots(2, 3, figsize=(20, 10))\n",
    "axes = axes.ravel()\n",
    "for i in range(len(l_cont_var)):\n",
    "    axes[i].set_title(l_cont_var[i])\n",
    "    sns.kdeplot(train_df_norm[l_cont_var[i]], shade=True, ax=axes[i], color=\"b\", label='training', legend=True)\n",
    "    sns.kdeplot(test_x_norm[l_cont_var[i]], shade=True, ax=axes[i], color=\"r\", label='testing', legend=True)\n",
    "plt.tight_layout() "
   ]
  },
  {
   "cell_type": "markdown",
   "metadata": {},
   "source": [
    "### <font color='red'> Commentaries : </font>\n",
    "- css: distributions are not exactly similar, especialy for the tail\n",
    "- images: distribution are quite similar\n",
    "- urls: distribution are differents, needs to be analyse\n",
    "- chars_in_subjects: distribution are the same!\n",
    "- chars_in_body: a lot of peaks but similar <br>\n",
    "<br>\n",
    "\n",
    "__Globaly, distribution are the same, we can comute our model without more feature engineering on these features__"
   ]
  },
  {
   "cell_type": "markdown",
   "metadata": {},
   "source": [
    "### Categorical features"
   ]
  },
  {
   "cell_type": "code",
   "execution_count": 37,
   "metadata": {},
   "outputs": [],
   "source": [
    "l_cat_var = ['org', 'tld', 'mail_type']"
   ]
  },
  {
   "cell_type": "code",
   "execution_count": 38,
   "metadata": {
    "scrolled": true
   },
   "outputs": [
    {
     "name": "stdout",
     "output_type": "stream",
     "text": [
      "TRAINING : Distinct categories for  org  are  649\n",
      "TRAINING : Distinct categories for  tld  are  188\n",
      "TRAINING : Distinct categories for  mail_type  are  7\n"
     ]
    }
   ],
   "source": [
    "for i in range(len(l_cat_var)):\n",
    "    print('TRAINING : Distinct categories for ', l_cat_var[i], ' are ', train_df[l_cat_var[i]].nunique())"
   ]
  },
  {
   "cell_type": "code",
   "execution_count": 39,
   "metadata": {},
   "outputs": [
    {
     "name": "stdout",
     "output_type": "stream",
     "text": [
      "TESTING : Distinct categories for  org  are  474\n",
      "TESTING : Distinct categories for  tld  are  141\n",
      "TESTING : Distinct categories for  mail_type  are  6\n"
     ]
    }
   ],
   "source": [
    "l_cat_var = ['org', 'tld', 'mail_type']\n",
    "for i in range(len(l_cat_var)):\n",
    "    print('TESTING : Distinct categories for ', l_cat_var[i], ' are ', test_x[l_cat_var[i]].nunique())"
   ]
  },
  {
   "cell_type": "code",
   "execution_count": 40,
   "metadata": {},
   "outputs": [],
   "source": [
    "def intersection(lst1, lst2): \n",
    "    return list(set(lst1) & set(lst2))\n",
    "\n",
    "def sym_diff(lst1, lst2):\n",
    "    return set(lst1).symmetric_difference(set(lst2))"
   ]
  },
  {
   "cell_type": "code",
   "execution_count": 41,
   "metadata": {},
   "outputs": [
    {
     "name": "stdout",
     "output_type": "stream",
     "text": [
      "Size of intersection for  org  is  409\n",
      "Size of symm_diff for  org  is  305  \n",
      "\n",
      "Size of intersection for  tld  is  123\n",
      "Size of symm_diff for  tld  is  83  \n",
      "\n",
      "Size of intersection for  mail_type  is  6\n",
      "Size of symm_diff for  mail_type  is  1  \n",
      "\n"
     ]
    }
   ],
   "source": [
    "l_cat_var = ['org', 'tld', 'mail_type']\n",
    "for i in range(len(l_cat_var)):\n",
    "    intersect_list = intersection(test_x[l_cat_var[i]].unique(), train_df[l_cat_var[i]].unique())\n",
    "    diff_list = sym_diff(test_x[l_cat_var[i]].unique(), train_df[l_cat_var[i]].unique())\n",
    "    print('Size of intersection for ', l_cat_var[i], ' is ', len(intersect_list))\n",
    "    print('Size of symm_diff for ', l_cat_var[i], ' is ', len(diff_list), ' \\n')"
   ]
  },
  {
   "cell_type": "markdown",
   "metadata": {},
   "source": [
    "To be included in the org_encoding function and tld_encoding function"
   ]
  },
  {
   "cell_type": "code",
   "execution_count": 42,
   "metadata": {},
   "outputs": [],
   "source": [
    "def diff_cat_values(train_df, test_x):\n",
    "    diff_list = sym_diff(test_x['org'].unique(), train_df['org'].unique())\n",
    "    train_df['org_others'] = np.where(train_df['org'].isin(diff_list), 1, 0)\n",
    "    test_x['org_others'] = np.where(test_x['org'].isin(diff_list), 1, 0)\n",
    "\n",
    "    diff_list = sym_diff(test_x['tld'].unique(), train_df['tld'].unique())\n",
    "    train_df['tld_others'] = np.where(train_df['tld'].isin(diff_list), 1, 0)\n",
    "    test_x['tld_others'] = np.where(test_x['tld'].isin(diff_list), 1, 0)\n",
    "    \n",
    "    return train_df, test_x"
   ]
  },
  {
   "cell_type": "markdown",
   "metadata": {},
   "source": [
    "Not relevant: Set only common values for these features"
   ]
  },
  {
   "cell_type": "code",
   "execution_count": 43,
   "metadata": {
    "scrolled": false
   },
   "outputs": [],
   "source": [
    "#l_cat_var = ['org', 'tld', 'mail_type']\n",
    "#for i in range(len(l_cat_var)):\n",
    "#    intersect_list = intersection(test_x[l_cat_var[i]].unique(), train_x[l_cat_var[i]].unique())\n",
    "#    print('Initial size of train for ', l_cat_var[i], ' is ', train_x.shape[0])\n",
    "#    print('Initial size of test for ', l_cat_var[i], ' is ', test_x.shape[0])\n",
    "#    final_train_size = train_df[train_df[l_cat_var[i]].isin(intersect_list)].shape[0]\n",
    "#    loss_train = round((final_train_size - train_df.shape[0])*100 / train_df.shape[0], 2)\n",
    "#    print('Size of intersection for train', train_df[train_df[l_cat_var[i]].isin(intersect_list)].shape[0])\n",
    "#    print('Train Loss of ', loss_train, '%')\n",
    "#    final_test_size = test_x[test_x[l_cat_var[i]].isin(intersect_list)].shape[0]\n",
    "#    loss_test = round((final_test_size - test_x.shape[0])*100 / test_x.shape[0], 2)\n",
    "#    print('Size of intersection for test', test_x[test_x[l_cat_var[i]].isin(intersect_list)].shape[0])\n",
    "#    print('Test Loss of ', loss_test, '%', ' \\n')"
   ]
  },
  {
   "cell_type": "code",
   "execution_count": 45,
   "metadata": {},
   "outputs": [],
   "source": [
    "#Preprocessing to filter common values for multi-class features\n",
    "#def common_values(train_df, test_x):\n",
    "#    l_cat_var = ['org', 'tld', 'mail_type']\n",
    "#    for i in range(len(l_cat_var)):\n",
    "#        intersect_list = intersection(test_x[l_cat_var[i]].unique(), train_df[l_cat_var[i]].unique())\n",
    "#        train_df = train_df[train_df[l_cat_var[i]].isin(intersect_list)]\n",
    "#        test_x = test_x[test_x[l_cat_var[i]].isin(intersect_list)]\n",
    "#    return train_df, test_x"
   ]
  },
  {
   "cell_type": "code",
   "execution_count": 46,
   "metadata": {},
   "outputs": [],
   "source": [
    "#train_df, test_x = common_values(train_df, test_x)"
   ]
  },
  {
   "cell_type": "markdown",
   "metadata": {},
   "source": [
    "__Crosstab of mail_type__"
   ]
  },
  {
   "cell_type": "code",
   "execution_count": 47,
   "metadata": {
    "scrolled": true
   },
   "outputs": [
    {
     "data": {
      "text/html": [
       "<div>\n",
       "<style scoped>\n",
       "    .dataframe tbody tr th:only-of-type {\n",
       "        vertical-align: middle;\n",
       "    }\n",
       "\n",
       "    .dataframe tbody tr th {\n",
       "        vertical-align: top;\n",
       "    }\n",
       "\n",
       "    .dataframe thead th {\n",
       "        text-align: right;\n",
       "    }\n",
       "</style>\n",
       "<table border=\"1\" class=\"dataframe\">\n",
       "  <thead>\n",
       "    <tr style=\"text-align: right;\">\n",
       "      <th>label</th>\n",
       "      <th>0</th>\n",
       "      <th>1</th>\n",
       "      <th>2</th>\n",
       "      <th>3</th>\n",
       "    </tr>\n",
       "    <tr>\n",
       "      <th>mail_type</th>\n",
       "      <th></th>\n",
       "      <th></th>\n",
       "      <th></th>\n",
       "      <th></th>\n",
       "    </tr>\n",
       "  </thead>\n",
       "  <tbody>\n",
       "    <tr>\n",
       "      <th>mail_type/missing</th>\n",
       "      <td>71</td>\n",
       "      <td>0</td>\n",
       "      <td>0</td>\n",
       "      <td>0</td>\n",
       "    </tr>\n",
       "    <tr>\n",
       "      <th>multipart/alternative</th>\n",
       "      <td>7231</td>\n",
       "      <td>3407</td>\n",
       "      <td>3657</td>\n",
       "      <td>4301</td>\n",
       "    </tr>\n",
       "    <tr>\n",
       "      <th>multipart/idm</th>\n",
       "      <td>1</td>\n",
       "      <td>0</td>\n",
       "      <td>0</td>\n",
       "      <td>0</td>\n",
       "    </tr>\n",
       "    <tr>\n",
       "      <th>multipart/mixed</th>\n",
       "      <td>444</td>\n",
       "      <td>123</td>\n",
       "      <td>618</td>\n",
       "      <td>453</td>\n",
       "    </tr>\n",
       "    <tr>\n",
       "      <th>multipart/related</th>\n",
       "      <td>129</td>\n",
       "      <td>0</td>\n",
       "      <td>360</td>\n",
       "      <td>20</td>\n",
       "    </tr>\n",
       "    <tr>\n",
       "      <th>text/html</th>\n",
       "      <td>1983</td>\n",
       "      <td>45</td>\n",
       "      <td>101</td>\n",
       "      <td>1152</td>\n",
       "    </tr>\n",
       "    <tr>\n",
       "      <th>text/plain</th>\n",
       "      <td>602</td>\n",
       "      <td>4</td>\n",
       "      <td>138</td>\n",
       "      <td>0</td>\n",
       "    </tr>\n",
       "  </tbody>\n",
       "</table>\n",
       "</div>"
      ],
      "text/plain": [
       "label                     0     1     2     3\n",
       "mail_type                                    \n",
       "mail_type/missing        71     0     0     0\n",
       "multipart/alternative  7231  3407  3657  4301\n",
       "multipart/idm             1     0     0     0\n",
       "multipart/mixed         444   123   618   453\n",
       "multipart/related       129     0   360    20\n",
       "text/html              1983    45   101  1152\n",
       "text/plain              602     4   138     0"
      ]
     },
     "execution_count": 47,
     "metadata": {},
     "output_type": "execute_result"
    }
   ],
   "source": [
    "pd.crosstab(train_df['mail_type'], train_df['label'])"
   ]
  },
  {
   "cell_type": "markdown",
   "metadata": {},
   "source": [
    "__Crosstab of org__"
   ]
  },
  {
   "cell_type": "code",
   "execution_count": 48,
   "metadata": {},
   "outputs": [
    {
     "data": {
      "text/html": [
       "<div>\n",
       "<style scoped>\n",
       "    .dataframe tbody tr th:only-of-type {\n",
       "        vertical-align: middle;\n",
       "    }\n",
       "\n",
       "    .dataframe tbody tr th {\n",
       "        vertical-align: top;\n",
       "    }\n",
       "\n",
       "    .dataframe thead th {\n",
       "        text-align: right;\n",
       "    }\n",
       "</style>\n",
       "<table border=\"1\" class=\"dataframe\">\n",
       "  <thead>\n",
       "    <tr style=\"text-align: right;\">\n",
       "      <th>label</th>\n",
       "      <th>0</th>\n",
       "      <th>1</th>\n",
       "      <th>2</th>\n",
       "      <th>3</th>\n",
       "      <th>Total</th>\n",
       "    </tr>\n",
       "    <tr>\n",
       "      <th>org</th>\n",
       "      <th></th>\n",
       "      <th></th>\n",
       "      <th></th>\n",
       "      <th></th>\n",
       "      <th></th>\n",
       "    </tr>\n",
       "  </thead>\n",
       "  <tbody>\n",
       "    <tr>\n",
       "      <th>mysql</th>\n",
       "      <td>1</td>\n",
       "      <td>0</td>\n",
       "      <td>0</td>\n",
       "      <td>0</td>\n",
       "      <td>1</td>\n",
       "    </tr>\n",
       "    <tr>\n",
       "      <th>mx2</th>\n",
       "      <td>1</td>\n",
       "      <td>0</td>\n",
       "      <td>0</td>\n",
       "      <td>0</td>\n",
       "      <td>1</td>\n",
       "    </tr>\n",
       "    <tr>\n",
       "      <th>mailer1</th>\n",
       "      <td>1</td>\n",
       "      <td>0</td>\n",
       "      <td>0</td>\n",
       "      <td>0</td>\n",
       "      <td>1</td>\n",
       "    </tr>\n",
       "    <tr>\n",
       "      <th>murraystate</th>\n",
       "      <td>0</td>\n",
       "      <td>0</td>\n",
       "      <td>0</td>\n",
       "      <td>1</td>\n",
       "      <td>1</td>\n",
       "    </tr>\n",
       "    <tr>\n",
       "      <th>mpi-sb</th>\n",
       "      <td>1</td>\n",
       "      <td>0</td>\n",
       "      <td>0</td>\n",
       "      <td>0</td>\n",
       "      <td>1</td>\n",
       "    </tr>\n",
       "    <tr>\n",
       "      <th>bbnl</th>\n",
       "      <td>1</td>\n",
       "      <td>0</td>\n",
       "      <td>0</td>\n",
       "      <td>0</td>\n",
       "      <td>1</td>\n",
       "    </tr>\n",
       "    <tr>\n",
       "      <th>moneygram</th>\n",
       "      <td>1</td>\n",
       "      <td>0</td>\n",
       "      <td>0</td>\n",
       "      <td>0</td>\n",
       "      <td>1</td>\n",
       "    </tr>\n",
       "    <tr>\n",
       "      <th>minglebox</th>\n",
       "      <td>1</td>\n",
       "      <td>0</td>\n",
       "      <td>0</td>\n",
       "      <td>0</td>\n",
       "      <td>1</td>\n",
       "    </tr>\n",
       "    <tr>\n",
       "      <th>mega</th>\n",
       "      <td>1</td>\n",
       "      <td>0</td>\n",
       "      <td>0</td>\n",
       "      <td>0</td>\n",
       "      <td>1</td>\n",
       "    </tr>\n",
       "    <tr>\n",
       "      <th>myopportunity</th>\n",
       "      <td>0</td>\n",
       "      <td>0</td>\n",
       "      <td>0</td>\n",
       "      <td>1</td>\n",
       "      <td>1</td>\n",
       "    </tr>\n",
       "  </tbody>\n",
       "</table>\n",
       "</div>"
      ],
      "text/plain": [
       "label          0  1  2  3  Total\n",
       "org                             \n",
       "mysql          1  0  0  0      1\n",
       "mx2            1  0  0  0      1\n",
       "mailer1        1  0  0  0      1\n",
       "murraystate    0  0  0  1      1\n",
       "mpi-sb         1  0  0  0      1\n",
       "bbnl           1  0  0  0      1\n",
       "moneygram      1  0  0  0      1\n",
       "minglebox      1  0  0  0      1\n",
       "mega           1  0  0  0      1\n",
       "myopportunity  0  0  0  1      1"
      ]
     },
     "execution_count": 48,
     "metadata": {},
     "output_type": "execute_result"
    }
   ],
   "source": [
    "crosstab_org = pd.crosstab(train_df['org'], train_df['label'], margins=True, margins_name=\"Total\")\n",
    "crosstab_org.sort_values(['Total'], ascending=False).tail(10)"
   ]
  },
  {
   "cell_type": "markdown",
   "metadata": {},
   "source": [
    "__Crosstab of tdl__"
   ]
  },
  {
   "cell_type": "code",
   "execution_count": 49,
   "metadata": {
    "scrolled": false
   },
   "outputs": [
    {
     "data": {
      "text/html": [
       "<div>\n",
       "<style scoped>\n",
       "    .dataframe tbody tr th:only-of-type {\n",
       "        vertical-align: middle;\n",
       "    }\n",
       "\n",
       "    .dataframe tbody tr th {\n",
       "        vertical-align: top;\n",
       "    }\n",
       "\n",
       "    .dataframe thead th {\n",
       "        text-align: right;\n",
       "    }\n",
       "</style>\n",
       "<table border=\"1\" class=\"dataframe\">\n",
       "  <thead>\n",
       "    <tr style=\"text-align: right;\">\n",
       "      <th>label</th>\n",
       "      <th>0</th>\n",
       "      <th>1</th>\n",
       "      <th>2</th>\n",
       "      <th>3</th>\n",
       "      <th>Total</th>\n",
       "    </tr>\n",
       "    <tr>\n",
       "      <th>tld</th>\n",
       "      <th></th>\n",
       "      <th></th>\n",
       "      <th></th>\n",
       "      <th></th>\n",
       "      <th></th>\n",
       "    </tr>\n",
       "  </thead>\n",
       "  <tbody>\n",
       "    <tr>\n",
       "      <th>play4free.com</th>\n",
       "      <td>1</td>\n",
       "      <td>0</td>\n",
       "      <td>0</td>\n",
       "      <td>0</td>\n",
       "      <td>1</td>\n",
       "    </tr>\n",
       "    <tr>\n",
       "      <th>esa.int</th>\n",
       "      <td>1</td>\n",
       "      <td>0</td>\n",
       "      <td>0</td>\n",
       "      <td>0</td>\n",
       "      <td>1</td>\n",
       "    </tr>\n",
       "    <tr>\n",
       "      <th>email.amazon.com</th>\n",
       "      <td>1</td>\n",
       "      <td>0</td>\n",
       "      <td>0</td>\n",
       "      <td>0</td>\n",
       "      <td>1</td>\n",
       "    </tr>\n",
       "    <tr>\n",
       "      <th>ecp.fr</th>\n",
       "      <td>0</td>\n",
       "      <td>0</td>\n",
       "      <td>1</td>\n",
       "      <td>0</td>\n",
       "      <td>1</td>\n",
       "    </tr>\n",
       "    <tr>\n",
       "      <th>sap.stampmail.in</th>\n",
       "      <td>1</td>\n",
       "      <td>0</td>\n",
       "      <td>0</td>\n",
       "      <td>0</td>\n",
       "      <td>1</td>\n",
       "    </tr>\n",
       "    <tr>\n",
       "      <th>scientific-direct.net</th>\n",
       "      <td>0</td>\n",
       "      <td>0</td>\n",
       "      <td>0</td>\n",
       "      <td>1</td>\n",
       "      <td>1</td>\n",
       "    </tr>\n",
       "    <tr>\n",
       "      <th>drdo.in</th>\n",
       "      <td>1</td>\n",
       "      <td>0</td>\n",
       "      <td>0</td>\n",
       "      <td>0</td>\n",
       "      <td>1</td>\n",
       "    </tr>\n",
       "    <tr>\n",
       "      <th>me</th>\n",
       "      <td>1</td>\n",
       "      <td>0</td>\n",
       "      <td>0</td>\n",
       "      <td>0</td>\n",
       "      <td>1</td>\n",
       "    </tr>\n",
       "    <tr>\n",
       "      <th>de</th>\n",
       "      <td>0</td>\n",
       "      <td>0</td>\n",
       "      <td>0</td>\n",
       "      <td>1</td>\n",
       "      <td>1</td>\n",
       "    </tr>\n",
       "    <tr>\n",
       "      <th>33mail.com</th>\n",
       "      <td>1</td>\n",
       "      <td>0</td>\n",
       "      <td>0</td>\n",
       "      <td>0</td>\n",
       "      <td>1</td>\n",
       "    </tr>\n",
       "  </tbody>\n",
       "</table>\n",
       "</div>"
      ],
      "text/plain": [
       "label                  0  1  2  3  Total\n",
       "tld                                     \n",
       "play4free.com          1  0  0  0      1\n",
       "esa.int                1  0  0  0      1\n",
       "email.amazon.com       1  0  0  0      1\n",
       "ecp.fr                 0  0  1  0      1\n",
       "sap.stampmail.in       1  0  0  0      1\n",
       "scientific-direct.net  0  0  0  1      1\n",
       "drdo.in                1  0  0  0      1\n",
       "me                     1  0  0  0      1\n",
       "de                     0  0  0  1      1\n",
       "33mail.com             1  0  0  0      1"
      ]
     },
     "execution_count": 49,
     "metadata": {},
     "output_type": "execute_result"
    }
   ],
   "source": [
    "crosstab_tld = pd.crosstab(train_df['tld'], train_df['label'], margins=True, margins_name=\"Total\")\n",
    "crosstab_tld.sort_values(['Total'], ascending=False).tail(10)"
   ]
  },
  {
   "cell_type": "markdown",
   "metadata": {},
   "source": [
    "Let's check the vlaues for these features that are only for a unique label"
   ]
  },
  {
   "cell_type": "code",
   "execution_count": 50,
   "metadata": {},
   "outputs": [
    {
     "data": {
      "text/plain": [
       "649"
      ]
     },
     "execution_count": 50,
     "metadata": {},
     "output_type": "execute_result"
    }
   ],
   "source": [
    "train_df.org.nunique()"
   ]
  },
  {
   "cell_type": "code",
   "execution_count": 51,
   "metadata": {},
   "outputs": [
    {
     "data": {
      "text/html": [
       "<div>\n",
       "<style scoped>\n",
       "    .dataframe tbody tr th:only-of-type {\n",
       "        vertical-align: middle;\n",
       "    }\n",
       "\n",
       "    .dataframe tbody tr th {\n",
       "        vertical-align: top;\n",
       "    }\n",
       "\n",
       "    .dataframe thead th {\n",
       "        text-align: right;\n",
       "    }\n",
       "</style>\n",
       "<table border=\"1\" class=\"dataframe\">\n",
       "  <thead>\n",
       "    <tr style=\"text-align: right;\">\n",
       "      <th></th>\n",
       "      <th>org</th>\n",
       "      <th>tld</th>\n",
       "    </tr>\n",
       "  </thead>\n",
       "  <tbody>\n",
       "    <tr>\n",
       "      <th>0</th>\n",
       "      <td>amazon</td>\n",
       "      <td>in</td>\n",
       "    </tr>\n",
       "    <tr>\n",
       "      <th>1</th>\n",
       "      <td>linkedin</td>\n",
       "      <td>com</td>\n",
       "    </tr>\n",
       "    <tr>\n",
       "      <th>2</th>\n",
       "      <td>quora</td>\n",
       "      <td>com</td>\n",
       "    </tr>\n",
       "    <tr>\n",
       "      <th>3</th>\n",
       "      <td>iiitd</td>\n",
       "      <td>ac.in</td>\n",
       "    </tr>\n",
       "    <tr>\n",
       "      <th>4</th>\n",
       "      <td>mail</td>\n",
       "      <td>paypal.com</td>\n",
       "    </tr>\n",
       "    <tr>\n",
       "      <th>5</th>\n",
       "      <td>twitter</td>\n",
       "      <td>com</td>\n",
       "    </tr>\n",
       "    <tr>\n",
       "      <th>6</th>\n",
       "      <td>iiitd</td>\n",
       "      <td>ac.in</td>\n",
       "    </tr>\n",
       "    <tr>\n",
       "      <th>7</th>\n",
       "      <td>nvidia</td>\n",
       "      <td>com</td>\n",
       "    </tr>\n",
       "    <tr>\n",
       "      <th>8</th>\n",
       "      <td>ieee</td>\n",
       "      <td>org</td>\n",
       "    </tr>\n",
       "    <tr>\n",
       "      <th>9</th>\n",
       "      <td>crazydomains</td>\n",
       "      <td>in</td>\n",
       "    </tr>\n",
       "  </tbody>\n",
       "</table>\n",
       "</div>"
      ],
      "text/plain": [
       "            org         tld\n",
       "0        amazon          in\n",
       "1      linkedin         com\n",
       "2         quora         com\n",
       "3         iiitd       ac.in\n",
       "4          mail  paypal.com\n",
       "5       twitter         com\n",
       "6         iiitd       ac.in\n",
       "7        nvidia         com\n",
       "8          ieee         org\n",
       "9  crazydomains          in"
      ]
     },
     "execution_count": 51,
     "metadata": {},
     "output_type": "execute_result"
    }
   ],
   "source": [
    "train_df[['org', 'tld']].head(10)"
   ]
  },
  {
   "cell_type": "markdown",
   "metadata": {},
   "source": [
    "__org__"
   ]
  },
  {
   "cell_type": "code",
   "execution_count": 52,
   "metadata": {
    "scrolled": false
   },
   "outputs": [
    {
     "name": "stdout",
     "output_type": "stream",
     "text": [
      "Label 0 : 381\n",
      "Label 1 : 8\n",
      "Label 2 : 13\n",
      "Label 3 : 80\n"
     ]
    }
   ],
   "source": [
    "#Label 0\n",
    "l_label_0 = crosstab_org[(crosstab_org.loc[:,1] == 0) & (crosstab_org.loc[:,2] == 0) & (crosstab_org.loc[:,3] == 0)].index\n",
    "print('Label 0 :', len(l_label_0))\n",
    "#Label 1\n",
    "l_label_1 = crosstab_org[(crosstab_org.loc[:,0] == 0) & (crosstab_org.loc[:,2] == 0) & (crosstab_org.loc[:,3] == 0)].index\n",
    "print('Label 1 :', len(l_label_1))\n",
    "#Label 2\n",
    "l_label_2 = crosstab_org[(crosstab_org.loc[:,1] == 0) & (crosstab_org.loc[:,0] == 0) & (crosstab_org.loc[:,3] == 0)].index\n",
    "print('Label 2 :', len(l_label_2))\n",
    "#Label 3\n",
    "l_label_3 = crosstab_org[(crosstab_org.loc[:,1] == 0) & (crosstab_org.loc[:,2] == 0) & (crosstab_org.loc[:,0] == 0)].index\n",
    "print('Label 3 :', len(l_label_3))"
   ]
  },
  {
   "cell_type": "markdown",
   "metadata": {},
   "source": [
    "_Le probleme c'est que si un nom de domaine est peu discriminant alors il sera dans la meme feature que les noms de domaines très discriminant (même impact). Cela peut donner une mauvaise indication à l'algo_ <br>\n",
    "A voir si on peut améliorer cela"
   ]
  },
  {
   "cell_type": "code",
   "execution_count": 53,
   "metadata": {},
   "outputs": [],
   "source": [
    "def fe_org_encoding(train_df, test_x, threshold=5):\n",
    "    \n",
    "    ###Doing categories for values that only appear for a unique label at least 5 times\n",
    "    crosstab_org = pd.crosstab(train_df['org'], train_df['label'].astype(int), margins=True, margins_name=\"Total\")\n",
    "    \n",
    "    l_label_0 = crosstab_org[(crosstab_org.loc[:,1] == 0) & (crosstab_org.loc[:,2] == 0) & \n",
    "                             (crosstab_org.loc[:,3] == 0) & (crosstab_org.loc[:,0] <= threshold)].index\n",
    "    train_df['org_label_0'] = np.where(train_df['org'].isin(l_label_0), 1, 0)\n",
    "    test_x['org_label_0'] = np.where(test_x['org'].isin(l_label_0), 1, 0)\n",
    "\n",
    "    l_label_1 = crosstab_org[(crosstab_org.loc[:,0] == 0) & (crosstab_org.loc[:,2] == 0) & \n",
    "                             (crosstab_org.loc[:,3] == 0) & (crosstab_org.loc[:,1] <= threshold)].index\n",
    "    train_df['org_label_1'] = np.where(train_df['org'].isin(l_label_0), 1, 0)\n",
    "    test_x['org_label_1'] = np.where(test_x['org'].isin(l_label_0), 1, 0)\n",
    "    \n",
    "    l_label_2 = crosstab_org[(crosstab_org.loc[:,1] == 0) & (crosstab_org.loc[:,0] == 0) & \n",
    "                             (crosstab_org.loc[:,3] == 0) & (crosstab_org.loc[:,2] <= threshold)].index\n",
    "    train_df['org_label_2'] = np.where(train_df['org'].isin(l_label_0), 1, 0)\n",
    "    test_x['org_label_2'] = np.where(test_x['org'].isin(l_label_0), 1, 0)\n",
    "    \n",
    "    l_label_3 = crosstab_org[(crosstab_org.loc[:,1] == 0) & (crosstab_org.loc[:,2] == 0) & \n",
    "                             (crosstab_org.loc[:,0] == 0) & (crosstab_org.loc[:,3] <= threshold)].index\n",
    "    train_df['org_label_3'] = np.where(train_df['org'].isin(l_label_0), 1, 0)\n",
    "    test_x['org_label_3'] = np.where(test_x['org'].isin(l_label_0), 1, 0)\n",
    "    \n",
    "    ###Doing an other_feature do gather values that only appear in test or in train\n",
    "    diff_list = sym_diff(test_x['org'].unique(), train_df['org'].unique())\n",
    "    train_df['org_others'] = np.where(train_df['org'].isin(diff_list), 1, 0)\n",
    "    test_x['org_others'] = np.where(test_x['org'].isin(diff_list), 1, 0)\n",
    "    \n",
    "    ###Dummification of the other values    \n",
    "    l_org_dummification = set(train_df.org.unique()) - set(l_label_0) - set(l_label_1) - set(l_label_2) - set(l_label_3) - set(diff_list)    \n",
    "    l_org_dummification = ['org_' + s for s in l_org_dummification]\n",
    "    train_df_dummies_org = pd.get_dummies(train_df['org'], prefix='org')\n",
    "    train_df_dummies_org = train_df_dummies_org[l_org_dummification]\n",
    "    train_df = pd.concat([train_df, train_df_dummies_org],axis=1)\n",
    "    train_df.drop(['org'],axis=1, inplace=True)\n",
    "    \n",
    "    test_x_dummies_org = pd.get_dummies(test_x['org'], prefix='org')\n",
    "    test_x_dummies_org = test_x_dummies_org[l_org_dummification]\n",
    "    test_x = pd.concat([test_x, test_x_dummies_org],axis=1)\n",
    "    test_x.drop(['org'],axis=1, inplace=True)\n",
    "    \n",
    "    return train_df, test_x"
   ]
  },
  {
   "cell_type": "markdown",
   "metadata": {},
   "source": [
    "__tld__"
   ]
  },
  {
   "cell_type": "code",
   "execution_count": 54,
   "metadata": {
    "scrolled": true
   },
   "outputs": [
    {
     "name": "stdout",
     "output_type": "stream",
     "text": [
      "Label 0 : 86\n",
      "Label 1 : 4\n",
      "Label 2 : 5\n",
      "Label 3 : 33\n"
     ]
    }
   ],
   "source": [
    "#Label 0\n",
    "l_label_0 = crosstab_tld[(crosstab_tld.loc[:,1] == 0) & (crosstab_tld.loc[:,2] == 0) & (crosstab_tld.loc[:,3] == 0)].index\n",
    "print('Label 0 :', len(l_label_0))\n",
    "#Label 1\n",
    "l_label_1 = crosstab_tld[(crosstab_tld.loc[:,0] == 0) & (crosstab_tld.loc[:,2] == 0) & (crosstab_tld.loc[:,3] == 0)].index\n",
    "print('Label 1 :', len(l_label_1))\n",
    "#Label 2\n",
    "l_label_2 = crosstab_tld[(crosstab_tld.loc[:,1] == 0) & (crosstab_tld.loc[:,0] == 0) & (crosstab_tld.loc[:,3] == 0)].index\n",
    "print('Label 2 :', len(l_label_2))\n",
    "#Label 3\n",
    "l_label_3 = crosstab_tld[(crosstab_tld.loc[:,1] == 0) & (crosstab_tld.loc[:,2] == 0) & (crosstab_tld.loc[:,0] == 0)].index\n",
    "print('Label 3 :', len(l_label_3))"
   ]
  },
  {
   "cell_type": "code",
   "execution_count": 55,
   "metadata": {},
   "outputs": [],
   "source": [
    "def fe_tld_encoding(train_df, test_x, threshold=5):\n",
    "    crosstab_tld = pd.crosstab(train_df['tld'], train_df['label'].astype(int), margins=True, margins_name=\"Total\")\n",
    "    \n",
    "    l_label_0 = crosstab_tld[(crosstab_tld.loc[:,1] == 0) & (crosstab_tld.loc[:,2] == 0) & \n",
    "                             (crosstab_tld.loc[:,3] == 0) & (crosstab_tld.loc[:,0] <= threshold)].index\n",
    "    train_df['tld_label_0'] = np.where(train_df['tld'].isin(l_label_0), 1, 0)\n",
    "    test_x['tld_label_0'] = np.where(test_x['tld'].isin(l_label_0), 1, 0)\n",
    "\n",
    "    l_label_1 = crosstab_tld[(crosstab_tld.loc[:,0] == 0) & (crosstab_tld.loc[:,2] == 0) & \n",
    "                             (crosstab_tld.loc[:,3] == 0) & (crosstab_tld.loc[:,1] <= threshold)].index\n",
    "    train_df['tld_label_1'] = np.where(train_df['tld'].isin(l_label_0), 1, 0)\n",
    "    test_x['tld_label_1'] = np.where(test_x['tld'].isin(l_label_0), 1, 0)\n",
    "    \n",
    "    l_label_2 = crosstab_tld[(crosstab_tld.loc[:,1] == 0) & (crosstab_tld.loc[:,0] == 0) & \n",
    "                             (crosstab_tld.loc[:,3] == 0) & (crosstab_tld.loc[:,2] <= threshold)].index\n",
    "    train_df['tld_label_2'] = np.where(train_df['tld'].isin(l_label_0), 1, 0)\n",
    "    test_x['tld_label_2'] = np.where(test_x['tld'].isin(l_label_0), 1, 0)\n",
    "    \n",
    "    l_label_3 = crosstab_tld[(crosstab_tld.loc[:,1] == 0) & (crosstab_tld.loc[:,2] == 0) & \n",
    "                             (crosstab_tld.loc[:,0] == 0) & (crosstab_tld.loc[:,3] <= threshold)].index\n",
    "    train_df['tld_label_3'] = np.where(train_df['tld'].isin(l_label_0), 1, 0)\n",
    "    test_x['tld_label_3'] = np.where(test_x['tld'].isin(l_label_0), 1, 0)\n",
    "    \n",
    "    ###Doing an other_feature do gather values that only appear in test or in train\n",
    "    diff_list = sym_diff(test_x['tld'].unique(), train_df['tld'].unique())\n",
    "    train_df['tld_others'] = np.where(train_df['tld'].isin(diff_list), 1, 0)\n",
    "    test_x['tld_others'] = np.where(test_x['tld'].isin(diff_list), 1, 0)\n",
    "    \n",
    "    ###Dummification of the other values    \n",
    "    l_tld_dummification = set(train_df.tld.unique()) - set(l_label_0) - set(l_label_1) - set(l_label_2) - set(l_label_3) - set(diff_list)\n",
    "    l_tld_dummification = ['tld_' + s for s in l_tld_dummification]\n",
    "    \n",
    "    train_df_dummies_tld = pd.get_dummies(train_df['tld'], prefix='tld')\n",
    "    train_df_dummies_tld = train_df_dummies_tld[l_tld_dummification]\n",
    "    train_df = pd.concat([train_df, train_df_dummies_tld], axis=1)\n",
    "    train_df.drop(['tld'], axis=1, inplace=True)\n",
    "    \n",
    "    test_x_dummies_tld = pd.get_dummies(test_x['tld'], prefix='tld')\n",
    "    test_x_dummies_tld = test_x_dummies_tld[l_tld_dummification]\n",
    "    test_x = pd.concat([test_x, test_x_dummies_tld], axis=1)\n",
    "    test_x.drop(['tld'], axis=1, inplace=True)\n",
    "    \n",
    "    return train_df, test_x"
   ]
  },
  {
   "cell_type": "code",
   "execution_count": 56,
   "metadata": {},
   "outputs": [],
   "source": [
    "def fe_encoding_org_baseline(train_df, test_x):\n",
    "    \n",
    "    n = len(train_df)\n",
    "    \n",
    "    temp = pd.concat([train_df['org'], test_x['org']], axis=0)\n",
    "    temp_with_dummies = pd.get_dummies(temp, drop_first=True)\n",
    "    train_df = pd.concat([train_df, temp_with_dummies[:n]], axis=1)\n",
    "    test_x = pd.concat([test_x, temp_with_dummies[n:]], axis=1)\n",
    "\n",
    "    return train_df, test_x"
   ]
  },
  {
   "cell_type": "code",
   "execution_count": 57,
   "metadata": {},
   "outputs": [],
   "source": [
    "def fe_encoding_tld_baseline(train_df, test_x):\n",
    "    \n",
    "    n = len(train_df)\n",
    "    \n",
    "    temp = pd.concat([train_df['tld'], test_x['tld']], axis=0)\n",
    "    temp_with_dummies = pd.get_dummies(temp, drop_first=True)\n",
    "    train_df = pd.concat([train_df, temp_with_dummies[:n]], axis=1)\n",
    "    test_x = pd.concat([test_x, temp_with_dummies[n:]], axis=1)\n",
    "\n",
    "    return train_df, test_x"
   ]
  },
  {
   "cell_type": "markdown",
   "metadata": {},
   "source": [
    "One-hot Encoding on mail_type"
   ]
  },
  {
   "cell_type": "code",
   "execution_count": 58,
   "metadata": {},
   "outputs": [],
   "source": [
    "def fe_mail_type(train_df, test_x):\n",
    "    \n",
    "    n = len(train_df)\n",
    "    \n",
    "    temp = pd.concat([train_df['mail_type'], test_x['mail_type']], axis=0)\n",
    "    temp_with_dummies = pd.get_dummies(temp, drop_first=True, prefix='mt')\n",
    "    \n",
    "    train_df_dummies = temp_with_dummies[:n]\n",
    "    train_df = pd.concat([train_df, train_df_dummies], axis=1)\n",
    "    train_df.drop(['mail_type'], axis=1, inplace=True)\n",
    "    \n",
    "    test_x_dummies = temp_with_dummies[n:]\n",
    "    test_x = pd.concat([test_x, test_x_dummies], axis=1)\n",
    "    test_x.drop(['mail_type'], axis=1, inplace=True)\n",
    "\n",
    "    return train_df, test_x"
   ]
  },
  {
   "cell_type": "code",
   "execution_count": 59,
   "metadata": {},
   "outputs": [],
   "source": [
    "def get_tld(x):\n",
    "    if type(x) != list:\n",
    "        return np.nan\n",
    "    if x[-1] == 'in' and len(x) == 2 and x[-2] in ['ac', 'co']:\n",
    "        return x[-2] + '.' + 'in'\n",
    "    else:\n",
    "        return x[-1]\n",
    "def get_org(x):\n",
    "    if type(x) != list:\n",
    "        return np.nan\n",
    "    if len(x) == 1:\n",
    "        return np.nan\n",
    "    if x[-1] == 'in' and x[-2] in ['ac', 'co'] and len(x) == 3:\n",
    "        return x[-3]   \n",
    "    if x[-1] == 'in' and x[-2] in ['ac', 'co'] and len(x) == 2:\n",
    "        return np.nan   \n",
    "    return x[-2]"
   ]
  },
  {
   "cell_type": "code",
   "execution_count": 60,
   "metadata": {},
   "outputs": [],
   "source": [
    "def fe_correcting_org_tld(train_df, test_x):\n",
    "    #Encode labels to numerical values\n",
    "    n = len(train_df)\n",
    "    y_train = train_df.label\n",
    "    temp = pd.concat([train_df, test_x], axis=0, sort=False).drop(['label'], axis=1)\n",
    "\n",
    "    #Correct the 'org' and 'tld' columns and lowercase them\n",
    "    split_res = temp['tld'].str.split('.')\n",
    "    true_tld = split_res.map(get_tld)\n",
    "    true_org = split_res.map(get_org)\n",
    "    temp['tld'] = true_tld.fillna(temp['tld']).str.lower()\n",
    "    temp['org'] = true_org.fillna(temp['org']).str.lower()\n",
    "    \n",
    "    train_df = temp[:n]\n",
    "    train_df = pd.concat([train_df, y_train], axis=1)\n",
    "    test_x = temp[n:]\n",
    "    \n",
    "    return train_df, test_x\n",
    "    "
   ]
  },
  {
   "cell_type": "code",
   "execution_count": 61,
   "metadata": {},
   "outputs": [],
   "source": [
    "def fe_split_mail(train_df, test_x):\n",
    "\n",
    "    train_df['mail_type'] = train_df['mail_type'].str.strip()\n",
    "    train_df['mail_type_1'] = train_df['mail_type'].str.split('/',expand=True)[0]\n",
    "    train_df['mail_type_2'] = train_df['mail_type'].str.split('/',expand=True)[1]\n",
    "    \n",
    "    test_x['mail_type'] = test_x['mail_type'].str.strip()\n",
    "    test_x['mail_type_1'] = test_x['mail_type'].str.split('/',expand=True)[0]\n",
    "    test_x['mail_type_2'] = test_x['mail_type'].str.split('/',expand=True)[1]\n",
    "\n",
    "    return train_df, test_x"
   ]
  },
  {
   "cell_type": "code",
   "execution_count": 50,
   "metadata": {},
   "outputs": [],
   "source": [
    "def fe_mail_typeS_encoding(train_df, test_x):\n",
    "    \n",
    "    n = len(train_df)\n",
    "    temp = pd.concat([train_df[['mail_type', 'mail_type_1', 'mail_type_2']], \n",
    "                      test_x[['mail_type', 'mail_type_1', 'mail_type_2']]], axis=0)\n",
    "\n",
    "    temp_with_dummies = pd.get_dummies(temp, drop_first=True, prefix='mt')\n",
    "\n",
    "    train_df_dummies = temp_with_dummies[:n]\n",
    "    train_df = pd.concat([train_df, train_df_dummies], axis=1)\n",
    "    train_df.drop(['mail_type', 'mail_type_1', 'mail_type_2'], axis=1, inplace=True)\n",
    "    \n",
    "    test_x_dummies = temp_with_dummies[n:]\n",
    "    test_x = pd.concat([test_x, test_x_dummies], axis=1)\n",
    "    test_x.drop(['mail_type', 'mail_type_1', 'mail_type_2'], axis=1, inplace=True)\n",
    "    \n",
    "    return train_df, test_x"
   ]
  },
  {
   "cell_type": "markdown",
   "metadata": {},
   "source": [
    "### <font color='red'> Commentaries : </font>\n",
    "- Needs to be analysed, perhaps make categories of values that discriminate the target"
   ]
  },
  {
   "cell_type": "code",
   "execution_count": 62,
   "metadata": {},
   "outputs": [],
   "source": [
    "def fe_frequency(train_df, test_x):\n",
    "    \n",
    "    n = len(train_df)\n",
    "    \n",
    "    catogorical = ['mail_type','mail_type_1', 'mail_type_2', 'org', 'tld']\n",
    "    temp = pd.concat([train_df, test_x], axis=0, sort=False)\n",
    "\n",
    "    for col in catogorical:\n",
    "        encoding = temp.groupby(col).size()/len(temp)\n",
    "        temp[col + '_freq'] = temp[col].map(encoding)\n",
    "        \n",
    "    train_df = temp[:n]\n",
    "    test_x = temp[n:]\n",
    "\n",
    "    return train_df, test_x"
   ]
  },
  {
   "cell_type": "code",
   "execution_count": 120,
   "metadata": {},
   "outputs": [],
   "source": [
    "def fe_drop_duplicates(train_df, test_x):\n",
    "    \n",
    "    n = len(train_df)\n",
    "    \n",
    "    temp = pd.concat([train_df, test_x], axis=0)\n",
    "    #Drop features that have value 1 for only one row\n",
    "    t1 = temp[:n].sum()\n",
    "    t2 = temp[n:].sum()\n",
    "    temp = temp.drop(set(t2[t2==0].index) | set(t1[t1==0].index), axis=1)\n",
    "\n",
    "    #Drop duplicate columns in the training set\n",
    "    col_non_dup = (temp[:n].T.drop_duplicates().T).columns\n",
    "    temp = temp[col_non_dup]\n",
    "    train_df = temp[:n]\n",
    "    test_x = temp[n:]\n",
    "    \n",
    "    return train_df, test_x"
   ]
  },
  {
   "cell_type": "markdown",
   "metadata": {},
   "source": [
    "# Feature Engineering"
   ]
  },
  {
   "cell_type": "code",
   "execution_count": 63,
   "metadata": {},
   "outputs": [],
   "source": [
    "# Read csvs\n",
    "train_df = pd.read_csv('train.csv', index_col=0)\n",
    "train_x = train_df[['date', 'org', 'tld', 'ccs', 'bcced', 'mail_type', 'images', 'urls',\n",
    "       'salutations', 'designation', 'chars_in_subject', 'chars_in_body',]]\n",
    "train_y = train_df[['label']]\n",
    "test_x = pd.read_csv('test.csv', index_col=0)"
   ]
  },
  {
   "cell_type": "code",
   "execution_count": 64,
   "metadata": {},
   "outputs": [],
   "source": [
    "train_df_0, test_x_0 = fe_mandatory(train_df, test_x)"
   ]
  },
  {
   "cell_type": "code",
   "execution_count": 65,
   "metadata": {},
   "outputs": [],
   "source": [
    "train_df_0, test_x_0 = fe_lower_case_strip(train_df_0, test_x_0)"
   ]
  },
  {
   "cell_type": "code",
   "execution_count": 66,
   "metadata": {},
   "outputs": [],
   "source": [
    "train_df_0, test_x_0 = fe_date_preprocess(train_df_0, test_x_0)"
   ]
  },
  {
   "cell_type": "code",
   "execution_count": 67,
   "metadata": {},
   "outputs": [],
   "source": [
    "train_df_0, test_x_0 = fe_correcting_org_tld(train_df_0, test_x_0)"
   ]
  },
  {
   "cell_type": "code",
   "execution_count": 68,
   "metadata": {},
   "outputs": [],
   "source": [
    "train_df_0, test_x_0 = fe_split_mail(train_df_0, test_x_0)"
   ]
  },
  {
   "cell_type": "code",
   "execution_count": 69,
   "metadata": {},
   "outputs": [],
   "source": [
    "train_df_0, test_x_0 = fe_frequency(train_df_0, test_x_0)"
   ]
  },
  {
   "cell_type": "code",
   "execution_count": 70,
   "metadata": {},
   "outputs": [
    {
     "ename": "NameError",
     "evalue": "name 'fe_mail_typeS_encoding' is not defined",
     "output_type": "error",
     "traceback": [
      "\u001b[1;31m---------------------------------------------------------------------------\u001b[0m",
      "\u001b[1;31mNameError\u001b[0m                                 Traceback (most recent call last)",
      "\u001b[1;32m<ipython-input-70-092ac6244dc4>\u001b[0m in \u001b[0;36m<module>\u001b[1;34m\u001b[0m\n\u001b[1;32m----> 1\u001b[1;33m \u001b[0mtrain_df_0\u001b[0m\u001b[1;33m,\u001b[0m \u001b[0mtest_x_0\u001b[0m \u001b[1;33m=\u001b[0m \u001b[0mfe_mail_typeS_encoding\u001b[0m\u001b[1;33m(\u001b[0m\u001b[0mtrain_df_0\u001b[0m\u001b[1;33m,\u001b[0m \u001b[0mtest_x_0\u001b[0m\u001b[1;33m)\u001b[0m\u001b[1;33m\u001b[0m\u001b[1;33m\u001b[0m\u001b[0m\n\u001b[0m",
      "\u001b[1;31mNameError\u001b[0m: name 'fe_mail_typeS_encoding' is not defined"
     ]
    }
   ],
   "source": [
    "train_df_0, test_x_0 = fe_mail_typeS_encoding(train_df_0, test_x_0)"
   ]
  },
  {
   "cell_type": "code",
   "execution_count": 71,
   "metadata": {},
   "outputs": [],
   "source": [
    "train_df_ao, test_x_ao = fe_org_encoding(train_df_0, test_x_0, threshold=30)"
   ]
  },
  {
   "cell_type": "code",
   "execution_count": 72,
   "metadata": {},
   "outputs": [],
   "source": [
    "train_df_ao, test_x_ao = fe_tld_encoding(train_df_ao, test_x_ao)"
   ]
  },
  {
   "cell_type": "code",
   "execution_count": 73,
   "metadata": {},
   "outputs": [
    {
     "ename": "NameError",
     "evalue": "name 'fe_drop_duplicates' is not defined",
     "output_type": "error",
     "traceback": [
      "\u001b[1;31m---------------------------------------------------------------------------\u001b[0m",
      "\u001b[1;31mNameError\u001b[0m                                 Traceback (most recent call last)",
      "\u001b[1;32m<ipython-input-73-1244f5bcab20>\u001b[0m in \u001b[0;36m<module>\u001b[1;34m\u001b[0m\n\u001b[1;32m----> 1\u001b[1;33m \u001b[0mtrain_df_ao\u001b[0m\u001b[1;33m,\u001b[0m \u001b[0mtest_x_ao\u001b[0m \u001b[1;33m=\u001b[0m \u001b[0mfe_drop_duplicates\u001b[0m\u001b[1;33m(\u001b[0m\u001b[0mtrain_df_ao\u001b[0m\u001b[1;33m,\u001b[0m \u001b[0mtest_x_ao\u001b[0m\u001b[1;33m)\u001b[0m\u001b[1;33m\u001b[0m\u001b[1;33m\u001b[0m\u001b[0m\n\u001b[0m",
      "\u001b[1;31mNameError\u001b[0m: name 'fe_drop_duplicates' is not defined"
     ]
    }
   ],
   "source": [
    "train_df_ao, test_x_ao = fe_drop_duplicates(train_df_ao, test_x_ao)"
   ]
  },
  {
   "cell_type": "code",
   "execution_count": 74,
   "metadata": {},
   "outputs": [],
   "source": [
    "train_df_r, test_x_r = fe_encoding_org_baseline(train_df_0, test_x_0)"
   ]
  },
  {
   "cell_type": "code",
   "execution_count": 75,
   "metadata": {},
   "outputs": [],
   "source": [
    "train_df_r, test_x_r = fe_encoding_tld_baseline(train_df_r, test_x_r)"
   ]
  },
  {
   "cell_type": "code",
   "execution_count": 76,
   "metadata": {},
   "outputs": [
    {
     "ename": "NameError",
     "evalue": "name 'fe_drop_duplicates' is not defined",
     "output_type": "error",
     "traceback": [
      "\u001b[1;31m---------------------------------------------------------------------------\u001b[0m",
      "\u001b[1;31mNameError\u001b[0m                                 Traceback (most recent call last)",
      "\u001b[1;32m<ipython-input-76-d28e8a715b58>\u001b[0m in \u001b[0;36m<module>\u001b[1;34m\u001b[0m\n\u001b[1;32m----> 1\u001b[1;33m \u001b[0mtrain_df_r\u001b[0m\u001b[1;33m,\u001b[0m \u001b[0mtest_x_r\u001b[0m \u001b[1;33m=\u001b[0m \u001b[0mfe_drop_duplicates\u001b[0m\u001b[1;33m(\u001b[0m\u001b[0mtrain_df_r\u001b[0m\u001b[1;33m,\u001b[0m \u001b[0mtest_x_r\u001b[0m\u001b[1;33m)\u001b[0m\u001b[1;33m\u001b[0m\u001b[1;33m\u001b[0m\u001b[0m\n\u001b[0m",
      "\u001b[1;31mNameError\u001b[0m: name 'fe_drop_duplicates' is not defined"
     ]
    }
   ],
   "source": [
    "train_df_r, test_x_r = fe_drop_duplicates(train_df_r, test_x_r)"
   ]
  },
  {
   "cell_type": "code",
   "execution_count": 82,
   "metadata": {},
   "outputs": [],
   "source": [
    "col_drop=['timezone']\n",
    "X_train_ao = train_df_ao.drop(col_drop, axis=1).copy()\n",
    "X_test_ao = test_x_ao.drop(col_drop, axis=1).copy()\n",
    "y_train = train_df.label"
   ]
  },
  {
   "cell_type": "markdown",
   "metadata": {},
   "source": [
    "# Models"
   ]
  },
  {
   "cell_type": "markdown",
   "metadata": {},
   "source": [
    "Define score in GridSearchCV"
   ]
  },
  {
   "cell_type": "markdown",
   "metadata": {},
   "source": [
    "### Random Forest"
   ]
  },
  {
   "cell_type": "code",
   "execution_count": 78,
   "metadata": {},
   "outputs": [
    {
     "ename": "NameError",
     "evalue": "name 'X_train_r' is not defined",
     "output_type": "error",
     "traceback": [
      "\u001b[1;31m---------------------------------------------------------------------------\u001b[0m",
      "\u001b[1;31mNameError\u001b[0m                                 Traceback (most recent call last)",
      "\u001b[1;32m<ipython-input-78-96a125d7ca31>\u001b[0m in \u001b[0;36m<module>\u001b[1;34m\u001b[0m\n\u001b[1;32m----> 1\u001b[1;33m \u001b[0mX_train_r\u001b[0m\u001b[1;33m.\u001b[0m\u001b[0mshape\u001b[0m\u001b[1;33m\u001b[0m\u001b[1;33m\u001b[0m\u001b[0m\n\u001b[0m",
      "\u001b[1;31mNameError\u001b[0m: name 'X_train_r' is not defined"
     ]
    }
   ],
   "source": [
    "X_train_r.shape"
   ]
  },
  {
   "cell_type": "code",
   "execution_count": 79,
   "metadata": {},
   "outputs": [
    {
     "ename": "KeyError",
     "evalue": "'l_label_0'",
     "output_type": "error",
     "traceback": [
      "\u001b[1;31m---------------------------------------------------------------------------\u001b[0m",
      "\u001b[1;31mKeyError\u001b[0m                                  Traceback (most recent call last)",
      "\u001b[1;32m~\\Anaconda3\\lib\\site-packages\\pandas\\core\\indexes\\base.py\u001b[0m in \u001b[0;36mget_loc\u001b[1;34m(self, key, method, tolerance)\u001b[0m\n\u001b[0;32m   2656\u001b[0m             \u001b[1;32mtry\u001b[0m\u001b[1;33m:\u001b[0m\u001b[1;33m\u001b[0m\u001b[1;33m\u001b[0m\u001b[0m\n\u001b[1;32m-> 2657\u001b[1;33m                 \u001b[1;32mreturn\u001b[0m \u001b[0mself\u001b[0m\u001b[1;33m.\u001b[0m\u001b[0m_engine\u001b[0m\u001b[1;33m.\u001b[0m\u001b[0mget_loc\u001b[0m\u001b[1;33m(\u001b[0m\u001b[0mkey\u001b[0m\u001b[1;33m)\u001b[0m\u001b[1;33m\u001b[0m\u001b[1;33m\u001b[0m\u001b[0m\n\u001b[0m\u001b[0;32m   2658\u001b[0m             \u001b[1;32mexcept\u001b[0m \u001b[0mKeyError\u001b[0m\u001b[1;33m:\u001b[0m\u001b[1;33m\u001b[0m\u001b[1;33m\u001b[0m\u001b[0m\n",
      "\u001b[1;32mpandas/_libs/index.pyx\u001b[0m in \u001b[0;36mpandas._libs.index.IndexEngine.get_loc\u001b[1;34m()\u001b[0m\n",
      "\u001b[1;32mpandas/_libs/index.pyx\u001b[0m in \u001b[0;36mpandas._libs.index.IndexEngine.get_loc\u001b[1;34m()\u001b[0m\n",
      "\u001b[1;32mpandas/_libs/hashtable_class_helper.pxi\u001b[0m in \u001b[0;36mpandas._libs.hashtable.PyObjectHashTable.get_item\u001b[1;34m()\u001b[0m\n",
      "\u001b[1;32mpandas/_libs/hashtable_class_helper.pxi\u001b[0m in \u001b[0;36mpandas._libs.hashtable.PyObjectHashTable.get_item\u001b[1;34m()\u001b[0m\n",
      "\u001b[1;31mKeyError\u001b[0m: 'l_label_0'",
      "\nDuring handling of the above exception, another exception occurred:\n",
      "\u001b[1;31mKeyError\u001b[0m                                  Traceback (most recent call last)",
      "\u001b[1;32m<ipython-input-79-bd29142625cd>\u001b[0m in \u001b[0;36m<module>\u001b[1;34m\u001b[0m\n\u001b[1;32m----> 1\u001b[1;33m \u001b[0mX_train_ao\u001b[0m\u001b[1;33m[\u001b[0m\u001b[1;34m'l_label_0'\u001b[0m\u001b[1;33m]\u001b[0m\u001b[1;33m\u001b[0m\u001b[1;33m\u001b[0m\u001b[0m\n\u001b[0m",
      "\u001b[1;32m~\\Anaconda3\\lib\\site-packages\\pandas\\core\\frame.py\u001b[0m in \u001b[0;36m__getitem__\u001b[1;34m(self, key)\u001b[0m\n\u001b[0;32m   2925\u001b[0m             \u001b[1;32mif\u001b[0m \u001b[0mself\u001b[0m\u001b[1;33m.\u001b[0m\u001b[0mcolumns\u001b[0m\u001b[1;33m.\u001b[0m\u001b[0mnlevels\u001b[0m \u001b[1;33m>\u001b[0m \u001b[1;36m1\u001b[0m\u001b[1;33m:\u001b[0m\u001b[1;33m\u001b[0m\u001b[1;33m\u001b[0m\u001b[0m\n\u001b[0;32m   2926\u001b[0m                 \u001b[1;32mreturn\u001b[0m \u001b[0mself\u001b[0m\u001b[1;33m.\u001b[0m\u001b[0m_getitem_multilevel\u001b[0m\u001b[1;33m(\u001b[0m\u001b[0mkey\u001b[0m\u001b[1;33m)\u001b[0m\u001b[1;33m\u001b[0m\u001b[1;33m\u001b[0m\u001b[0m\n\u001b[1;32m-> 2927\u001b[1;33m             \u001b[0mindexer\u001b[0m \u001b[1;33m=\u001b[0m \u001b[0mself\u001b[0m\u001b[1;33m.\u001b[0m\u001b[0mcolumns\u001b[0m\u001b[1;33m.\u001b[0m\u001b[0mget_loc\u001b[0m\u001b[1;33m(\u001b[0m\u001b[0mkey\u001b[0m\u001b[1;33m)\u001b[0m\u001b[1;33m\u001b[0m\u001b[1;33m\u001b[0m\u001b[0m\n\u001b[0m\u001b[0;32m   2928\u001b[0m             \u001b[1;32mif\u001b[0m \u001b[0mis_integer\u001b[0m\u001b[1;33m(\u001b[0m\u001b[0mindexer\u001b[0m\u001b[1;33m)\u001b[0m\u001b[1;33m:\u001b[0m\u001b[1;33m\u001b[0m\u001b[1;33m\u001b[0m\u001b[0m\n\u001b[0;32m   2929\u001b[0m                 \u001b[0mindexer\u001b[0m \u001b[1;33m=\u001b[0m \u001b[1;33m[\u001b[0m\u001b[0mindexer\u001b[0m\u001b[1;33m]\u001b[0m\u001b[1;33m\u001b[0m\u001b[1;33m\u001b[0m\u001b[0m\n",
      "\u001b[1;32m~\\Anaconda3\\lib\\site-packages\\pandas\\core\\indexes\\base.py\u001b[0m in \u001b[0;36mget_loc\u001b[1;34m(self, key, method, tolerance)\u001b[0m\n\u001b[0;32m   2657\u001b[0m                 \u001b[1;32mreturn\u001b[0m \u001b[0mself\u001b[0m\u001b[1;33m.\u001b[0m\u001b[0m_engine\u001b[0m\u001b[1;33m.\u001b[0m\u001b[0mget_loc\u001b[0m\u001b[1;33m(\u001b[0m\u001b[0mkey\u001b[0m\u001b[1;33m)\u001b[0m\u001b[1;33m\u001b[0m\u001b[1;33m\u001b[0m\u001b[0m\n\u001b[0;32m   2658\u001b[0m             \u001b[1;32mexcept\u001b[0m \u001b[0mKeyError\u001b[0m\u001b[1;33m:\u001b[0m\u001b[1;33m\u001b[0m\u001b[1;33m\u001b[0m\u001b[0m\n\u001b[1;32m-> 2659\u001b[1;33m                 \u001b[1;32mreturn\u001b[0m \u001b[0mself\u001b[0m\u001b[1;33m.\u001b[0m\u001b[0m_engine\u001b[0m\u001b[1;33m.\u001b[0m\u001b[0mget_loc\u001b[0m\u001b[1;33m(\u001b[0m\u001b[0mself\u001b[0m\u001b[1;33m.\u001b[0m\u001b[0m_maybe_cast_indexer\u001b[0m\u001b[1;33m(\u001b[0m\u001b[0mkey\u001b[0m\u001b[1;33m)\u001b[0m\u001b[1;33m)\u001b[0m\u001b[1;33m\u001b[0m\u001b[1;33m\u001b[0m\u001b[0m\n\u001b[0m\u001b[0;32m   2660\u001b[0m         \u001b[0mindexer\u001b[0m \u001b[1;33m=\u001b[0m \u001b[0mself\u001b[0m\u001b[1;33m.\u001b[0m\u001b[0mget_indexer\u001b[0m\u001b[1;33m(\u001b[0m\u001b[1;33m[\u001b[0m\u001b[0mkey\u001b[0m\u001b[1;33m]\u001b[0m\u001b[1;33m,\u001b[0m \u001b[0mmethod\u001b[0m\u001b[1;33m=\u001b[0m\u001b[0mmethod\u001b[0m\u001b[1;33m,\u001b[0m \u001b[0mtolerance\u001b[0m\u001b[1;33m=\u001b[0m\u001b[0mtolerance\u001b[0m\u001b[1;33m)\u001b[0m\u001b[1;33m\u001b[0m\u001b[1;33m\u001b[0m\u001b[0m\n\u001b[0;32m   2661\u001b[0m         \u001b[1;32mif\u001b[0m \u001b[0mindexer\u001b[0m\u001b[1;33m.\u001b[0m\u001b[0mndim\u001b[0m \u001b[1;33m>\u001b[0m \u001b[1;36m1\u001b[0m \u001b[1;32mor\u001b[0m \u001b[0mindexer\u001b[0m\u001b[1;33m.\u001b[0m\u001b[0msize\u001b[0m \u001b[1;33m>\u001b[0m \u001b[1;36m1\u001b[0m\u001b[1;33m:\u001b[0m\u001b[1;33m\u001b[0m\u001b[1;33m\u001b[0m\u001b[0m\n",
      "\u001b[1;32mpandas/_libs/index.pyx\u001b[0m in \u001b[0;36mpandas._libs.index.IndexEngine.get_loc\u001b[1;34m()\u001b[0m\n",
      "\u001b[1;32mpandas/_libs/index.pyx\u001b[0m in \u001b[0;36mpandas._libs.index.IndexEngine.get_loc\u001b[1;34m()\u001b[0m\n",
      "\u001b[1;32mpandas/_libs/hashtable_class_helper.pxi\u001b[0m in \u001b[0;36mpandas._libs.hashtable.PyObjectHashTable.get_item\u001b[1;34m()\u001b[0m\n",
      "\u001b[1;32mpandas/_libs/hashtable_class_helper.pxi\u001b[0m in \u001b[0;36mpandas._libs.hashtable.PyObjectHashTable.get_item\u001b[1;34m()\u001b[0m\n",
      "\u001b[1;31mKeyError\u001b[0m: 'l_label_0'"
     ]
    }
   ],
   "source": [
    "X_train_ao['l_label_0']"
   ]
  },
  {
   "cell_type": "code",
   "execution_count": 231,
   "metadata": {},
   "outputs": [],
   "source": [
    "#threshold = 10 for org\n",
    "model = RandomForestClassifier(n_estimators = 250, class_weight='balanced', max_features = 100)\n",
    "\n",
    "#print(cross_validate(model, X_train_ao, y_train, cv=5, scoring='f1_macro', return_train_score=True))"
   ]
  },
  {
   "cell_type": "code",
   "execution_count": 248,
   "metadata": {},
   "outputs": [],
   "source": [
    "model.fit(X_train_ao, y_train)\n",
    "y_test = model.predict(X_test_ao).astype(int)\n",
    "res = pd.DataFrame({'ID': np.arange(len(y_test)),\n",
    "                    'label': y_test})\n",
    "res.to_csv('submission_ao_3.csv', index=False)"
   ]
  },
  {
   "cell_type": "code",
   "execution_count": 101,
   "metadata": {},
   "outputs": [
    {
     "data": {
      "text/plain": [
       "org_freq             0.309858\n",
       "org_iiitd            0.086914\n",
       "year                 0.061847\n",
       "urls                 0.060719\n",
       "chars_in_body        0.047368\n",
       "                       ...   \n",
       "org_marmalademail    0.000000\n",
       "org_mbajunction      0.000000\n",
       "org_000webhost       0.000000\n",
       "org_dhingana         0.000000\n",
       "org_timespoints      0.000000\n",
       "Length: 300, dtype: float64"
      ]
     },
     "execution_count": 101,
     "metadata": {},
     "output_type": "execute_result"
    }
   ],
   "source": [
    "feature_imp = pd.Series(model.feature_importances_, index=X_train_1.columns).sort_values(ascending=False)\n",
    "feature_imp"
   ]
  },
  {
   "cell_type": "code",
   "execution_count": 102,
   "metadata": {
    "collapsed": true
   },
   "outputs": [
    {
     "name": "stderr",
     "output_type": "stream",
     "text": [
      "No handles with labels found to put in legend.\n"
     ]
    },
    {
     "data": {
      "image/png": "[encoded data removed]",
      "text/plain": [
       "<Figure size 1080x1440 with 1 Axes>"
      ]
     },
     "metadata": {
      "needs_background": "light"
     },
     "output_type": "display_data"
    }
   ],
   "source": [
    "plt.figure(figsize=(15,20))\n",
    "sns.barplot(x=feature_imp[:10], y=feature_imp.index[:10])\n",
    "# Add labels to your graph\n",
    "plt.xlabel('Feature Importance Score')\n",
    "plt.ylabel('Features')\n",
    "plt.title(\"Visualizing Important Features\")\n",
    "plt.legend()\n",
    "plt.show()"
   ]
  },
  {
   "cell_type": "code",
   "execution_count": 192,
   "metadata": {},
   "outputs": [
    {
     "name": "stdout",
     "output_type": "stream",
     "text": [
      "Fitting 3 folds for each of 432 candidates, totalling 1296 fits\n"
     ]
    },
    {
     "name": "stderr",
     "output_type": "stream",
     "text": [
      "[Parallel(n_jobs=-1)]: Using backend LokyBackend with 4 concurrent workers.\n",
      "[Parallel(n_jobs=-1)]: Done  33 tasks      | elapsed:   24.5s\n",
      "[Parallel(n_jobs=-1)]: Done 154 tasks      | elapsed:  1.8min\n",
      "[Parallel(n_jobs=-1)]: Done 357 tasks      | elapsed:  4.5min\n",
      "[Parallel(n_jobs=-1)]: Done 640 tasks      | elapsed:  8.8min\n"
     ]
    },
    {
     "ename": "ValueError",
     "evalue": "class_weight must be dict, 'balanced', or None, got: [{0: 1, 1: 5}, {0: 1, 1: 1}, {0: 1, 1: 1}, {0: 1, 1: 1}]",
     "output_type": "error",
     "traceback": [
      "\u001b[0;31m---------------------------------------------------------------------------\u001b[0m",
      "\u001b[0;31m_RemoteTraceback\u001b[0m                          Traceback (most recent call last)",
      "\u001b[0;31m_RemoteTraceback\u001b[0m: \n\"\"\"\nTraceback (most recent call last):\n  File \"/Users/antoineohleyer/miniconda3/envs/ipseite/lib/python3.7/site-packages/joblib/externals/loky/process_executor.py\", line 418, in _process_worker\n    r = call_item()\n  File \"/Users/antoineohleyer/miniconda3/envs/ipseite/lib/python3.7/site-packages/joblib/externals/loky/process_executor.py\", line 272, in __call__\n    return self.fn(*self.args, **self.kwargs)\n  File \"/Users/antoineohleyer/miniconda3/envs/ipseite/lib/python3.7/site-packages/joblib/_parallel_backends.py\", line 600, in __call__\n    return self.func(*args, **kwargs)\n  File \"/Users/antoineohleyer/miniconda3/envs/ipseite/lib/python3.7/site-packages/joblib/parallel.py\", line 256, in __call__\n    for func, args, kwargs in self.items]\n  File \"/Users/antoineohleyer/miniconda3/envs/ipseite/lib/python3.7/site-packages/joblib/parallel.py\", line 256, in <listcomp>\n    for func, args, kwargs in self.items]\n  File \"/Users/antoineohleyer/miniconda3/envs/ipseite/lib/python3.7/site-packages/sklearn/model_selection/_validation.py\", line 514, in _fit_and_score\n    estimator.fit(X_train, y_train, **fit_params)\n  File \"/Users/antoineohleyer/miniconda3/envs/ipseite/lib/python3.7/site-packages/sklearn/ensemble/forest.py\", line 275, in fit\n    y, expanded_class_weight = self._validate_y_class_weight(y)\n  File \"/Users/antoineohleyer/miniconda3/envs/ipseite/lib/python3.7/site-packages/sklearn/ensemble/forest.py\", line 521, in _validate_y_class_weight\n    y_original)\n  File \"/Users/antoineohleyer/miniconda3/envs/ipseite/lib/python3.7/site-packages/sklearn/utils/class_weight.py\", line 163, in compute_sample_weight\n    y_full)\n  File \"/Users/antoineohleyer/miniconda3/envs/ipseite/lib/python3.7/site-packages/sklearn/utils/class_weight.py\", line 61, in compute_class_weight\n    \" got: %r\" % class_weight)\nValueError: class_weight must be dict, 'balanced', or None, got: [{0: 1, 1: 5}, {0: 1, 1: 1}, {0: 1, 1: 1}, {0: 1, 1: 1}]\n\"\"\"",
      "\nThe above exception was the direct cause of the following exception:\n",
      "\u001b[0;31mValueError\u001b[0m                                Traceback (most recent call last)",
      "\u001b[0;32m<ipython-input-192-4c444fe6bacd>\u001b[0m in \u001b[0;36m<module>\u001b[0;34m\u001b[0m\n\u001b[1;32m     16\u001b[0m \u001b[0;34m\u001b[0m\u001b[0m\n\u001b[1;32m     17\u001b[0m \u001b[0;31m#Fit the grid search to the data\u001b[0m\u001b[0;34m\u001b[0m\u001b[0;34m\u001b[0m\u001b[0;34m\u001b[0m\u001b[0m\n\u001b[0;32m---> 18\u001b[0;31m \u001b[0mgrid_search\u001b[0m\u001b[0;34m.\u001b[0m\u001b[0mfit\u001b[0m\u001b[0;34m(\u001b[0m\u001b[0mX_train_ao\u001b[0m\u001b[0;34m,\u001b[0m \u001b[0my_train\u001b[0m\u001b[0;34m)\u001b[0m\u001b[0;34m\u001b[0m\u001b[0;34m\u001b[0m\u001b[0m\n\u001b[0m\u001b[1;32m     19\u001b[0m \u001b[0;31m#grid_search.best_params_\u001b[0m\u001b[0;34m\u001b[0m\u001b[0;34m\u001b[0m\u001b[0;34m\u001b[0m\u001b[0m\n",
      "\u001b[0;32m~/miniconda3/envs/ipseite/lib/python3.7/site-packages/sklearn/model_selection/_search.py\u001b[0m in \u001b[0;36mfit\u001b[0;34m(self, X, y, groups, **fit_params)\u001b[0m\n\u001b[1;32m    685\u001b[0m                 \u001b[0;32mreturn\u001b[0m \u001b[0mresults\u001b[0m\u001b[0;34m\u001b[0m\u001b[0;34m\u001b[0m\u001b[0m\n\u001b[1;32m    686\u001b[0m \u001b[0;34m\u001b[0m\u001b[0m\n\u001b[0;32m--> 687\u001b[0;31m             \u001b[0mself\u001b[0m\u001b[0;34m.\u001b[0m\u001b[0m_run_search\u001b[0m\u001b[0;34m(\u001b[0m\u001b[0mevaluate_candidates\u001b[0m\u001b[0;34m)\u001b[0m\u001b[0;34m\u001b[0m\u001b[0;34m\u001b[0m\u001b[0m\n\u001b[0m\u001b[1;32m    688\u001b[0m \u001b[0;34m\u001b[0m\u001b[0m\n\u001b[1;32m    689\u001b[0m         \u001b[0;31m# For multi-metric evaluation, store the best_index_, best_params_ and\u001b[0m\u001b[0;34m\u001b[0m\u001b[0;34m\u001b[0m\u001b[0;34m\u001b[0m\u001b[0m\n",
      "\u001b[0;32m~/miniconda3/envs/ipseite/lib/python3.7/site-packages/sklearn/model_selection/_search.py\u001b[0m in \u001b[0;36m_run_search\u001b[0;34m(self, evaluate_candidates)\u001b[0m\n\u001b[1;32m   1146\u001b[0m     \u001b[0;32mdef\u001b[0m \u001b[0m_run_search\u001b[0m\u001b[0;34m(\u001b[0m\u001b[0mself\u001b[0m\u001b[0;34m,\u001b[0m \u001b[0mevaluate_candidates\u001b[0m\u001b[0;34m)\u001b[0m\u001b[0;34m:\u001b[0m\u001b[0;34m\u001b[0m\u001b[0;34m\u001b[0m\u001b[0m\n\u001b[1;32m   1147\u001b[0m         \u001b[0;34m\"\"\"Search all candidates in param_grid\"\"\"\u001b[0m\u001b[0;34m\u001b[0m\u001b[0;34m\u001b[0m\u001b[0m\n\u001b[0;32m-> 1148\u001b[0;31m         \u001b[0mevaluate_candidates\u001b[0m\u001b[0;34m(\u001b[0m\u001b[0mParameterGrid\u001b[0m\u001b[0;34m(\u001b[0m\u001b[0mself\u001b[0m\u001b[0;34m.\u001b[0m\u001b[0mparam_grid\u001b[0m\u001b[0;34m)\u001b[0m\u001b[0;34m)\u001b[0m\u001b[0;34m\u001b[0m\u001b[0;34m\u001b[0m\u001b[0m\n\u001b[0m\u001b[1;32m   1149\u001b[0m \u001b[0;34m\u001b[0m\u001b[0m\n\u001b[1;32m   1150\u001b[0m \u001b[0;34m\u001b[0m\u001b[0m\n",
      "\u001b[0;32m~/miniconda3/envs/ipseite/lib/python3.7/site-packages/sklearn/model_selection/_search.py\u001b[0m in \u001b[0;36mevaluate_candidates\u001b[0;34m(candidate_params)\u001b[0m\n\u001b[1;32m    664\u001b[0m                                \u001b[0;32mfor\u001b[0m \u001b[0mparameters\u001b[0m\u001b[0;34m,\u001b[0m \u001b[0;34m(\u001b[0m\u001b[0mtrain\u001b[0m\u001b[0;34m,\u001b[0m \u001b[0mtest\u001b[0m\u001b[0;34m)\u001b[0m\u001b[0;34m\u001b[0m\u001b[0;34m\u001b[0m\u001b[0m\n\u001b[1;32m    665\u001b[0m                                in product(candidate_params,\n\u001b[0;32m--> 666\u001b[0;31m                                           cv.split(X, y, groups)))\n\u001b[0m\u001b[1;32m    667\u001b[0m \u001b[0;34m\u001b[0m\u001b[0m\n\u001b[1;32m    668\u001b[0m                 \u001b[0;32mif\u001b[0m \u001b[0mlen\u001b[0m\u001b[0;34m(\u001b[0m\u001b[0mout\u001b[0m\u001b[0;34m)\u001b[0m \u001b[0;34m<\u001b[0m \u001b[0;36m1\u001b[0m\u001b[0;34m:\u001b[0m\u001b[0;34m\u001b[0m\u001b[0;34m\u001b[0m\u001b[0m\n",
      "\u001b[0;32m~/miniconda3/envs/ipseite/lib/python3.7/site-packages/joblib/parallel.py\u001b[0m in \u001b[0;36m__call__\u001b[0;34m(self, iterable)\u001b[0m\n\u001b[1;32m   1014\u001b[0m \u001b[0;34m\u001b[0m\u001b[0m\n\u001b[1;32m   1015\u001b[0m             \u001b[0;32mwith\u001b[0m \u001b[0mself\u001b[0m\u001b[0;34m.\u001b[0m\u001b[0m_backend\u001b[0m\u001b[0;34m.\u001b[0m\u001b[0mretrieval_context\u001b[0m\u001b[0;34m(\u001b[0m\u001b[0;34m)\u001b[0m\u001b[0;34m:\u001b[0m\u001b[0;34m\u001b[0m\u001b[0;34m\u001b[0m\u001b[0m\n\u001b[0;32m-> 1016\u001b[0;31m                 \u001b[0mself\u001b[0m\u001b[0;34m.\u001b[0m\u001b[0mretrieve\u001b[0m\u001b[0;34m(\u001b[0m\u001b[0;34m)\u001b[0m\u001b[0;34m\u001b[0m\u001b[0;34m\u001b[0m\u001b[0m\n\u001b[0m\u001b[1;32m   1017\u001b[0m             \u001b[0;31m# Make sure that we get a last message telling us we are done\u001b[0m\u001b[0;34m\u001b[0m\u001b[0;34m\u001b[0m\u001b[0;34m\u001b[0m\u001b[0m\n\u001b[1;32m   1018\u001b[0m             \u001b[0melapsed_time\u001b[0m \u001b[0;34m=\u001b[0m \u001b[0mtime\u001b[0m\u001b[0;34m.\u001b[0m\u001b[0mtime\u001b[0m\u001b[0;34m(\u001b[0m\u001b[0;34m)\u001b[0m \u001b[0;34m-\u001b[0m \u001b[0mself\u001b[0m\u001b[0;34m.\u001b[0m\u001b[0m_start_time\u001b[0m\u001b[0;34m\u001b[0m\u001b[0;34m\u001b[0m\u001b[0m\n",
      "\u001b[0;32m~/miniconda3/envs/ipseite/lib/python3.7/site-packages/joblib/parallel.py\u001b[0m in \u001b[0;36mretrieve\u001b[0;34m(self)\u001b[0m\n\u001b[1;32m    906\u001b[0m             \u001b[0;32mtry\u001b[0m\u001b[0;34m:\u001b[0m\u001b[0;34m\u001b[0m\u001b[0;34m\u001b[0m\u001b[0m\n\u001b[1;32m    907\u001b[0m                 \u001b[0;32mif\u001b[0m \u001b[0mgetattr\u001b[0m\u001b[0;34m(\u001b[0m\u001b[0mself\u001b[0m\u001b[0;34m.\u001b[0m\u001b[0m_backend\u001b[0m\u001b[0;34m,\u001b[0m \u001b[0;34m'supports_timeout'\u001b[0m\u001b[0;34m,\u001b[0m \u001b[0;32mFalse\u001b[0m\u001b[0;34m)\u001b[0m\u001b[0;34m:\u001b[0m\u001b[0;34m\u001b[0m\u001b[0;34m\u001b[0m\u001b[0m\n\u001b[0;32m--> 908\u001b[0;31m                     \u001b[0mself\u001b[0m\u001b[0;34m.\u001b[0m\u001b[0m_output\u001b[0m\u001b[0;34m.\u001b[0m\u001b[0mextend\u001b[0m\u001b[0;34m(\u001b[0m\u001b[0mjob\u001b[0m\u001b[0;34m.\u001b[0m\u001b[0mget\u001b[0m\u001b[0;34m(\u001b[0m\u001b[0mtimeout\u001b[0m\u001b[0;34m=\u001b[0m\u001b[0mself\u001b[0m\u001b[0;34m.\u001b[0m\u001b[0mtimeout\u001b[0m\u001b[0;34m)\u001b[0m\u001b[0;34m)\u001b[0m\u001b[0;34m\u001b[0m\u001b[0;34m\u001b[0m\u001b[0m\n\u001b[0m\u001b[1;32m    909\u001b[0m                 \u001b[0;32melse\u001b[0m\u001b[0;34m:\u001b[0m\u001b[0;34m\u001b[0m\u001b[0;34m\u001b[0m\u001b[0m\n\u001b[1;32m    910\u001b[0m                     \u001b[0mself\u001b[0m\u001b[0;34m.\u001b[0m\u001b[0m_output\u001b[0m\u001b[0;34m.\u001b[0m\u001b[0mextend\u001b[0m\u001b[0;34m(\u001b[0m\u001b[0mjob\u001b[0m\u001b[0;34m.\u001b[0m\u001b[0mget\u001b[0m\u001b[0;34m(\u001b[0m\u001b[0;34m)\u001b[0m\u001b[0;34m)\u001b[0m\u001b[0;34m\u001b[0m\u001b[0;34m\u001b[0m\u001b[0m\n",
      "\u001b[0;32m~/miniconda3/envs/ipseite/lib/python3.7/site-packages/joblib/_parallel_backends.py\u001b[0m in \u001b[0;36mwrap_future_result\u001b[0;34m(future, timeout)\u001b[0m\n\u001b[1;32m    552\u001b[0m         AsyncResults.get from multiprocessing.\"\"\"\n\u001b[1;32m    553\u001b[0m         \u001b[0;32mtry\u001b[0m\u001b[0;34m:\u001b[0m\u001b[0;34m\u001b[0m\u001b[0;34m\u001b[0m\u001b[0m\n\u001b[0;32m--> 554\u001b[0;31m             \u001b[0;32mreturn\u001b[0m \u001b[0mfuture\u001b[0m\u001b[0;34m.\u001b[0m\u001b[0mresult\u001b[0m\u001b[0;34m(\u001b[0m\u001b[0mtimeout\u001b[0m\u001b[0;34m=\u001b[0m\u001b[0mtimeout\u001b[0m\u001b[0;34m)\u001b[0m\u001b[0;34m\u001b[0m\u001b[0;34m\u001b[0m\u001b[0m\n\u001b[0m\u001b[1;32m    555\u001b[0m         \u001b[0;32mexcept\u001b[0m \u001b[0mLokyTimeoutError\u001b[0m\u001b[0;34m:\u001b[0m\u001b[0;34m\u001b[0m\u001b[0;34m\u001b[0m\u001b[0m\n\u001b[1;32m    556\u001b[0m             \u001b[0;32mraise\u001b[0m \u001b[0mTimeoutError\u001b[0m\u001b[0;34m(\u001b[0m\u001b[0;34m)\u001b[0m\u001b[0;34m\u001b[0m\u001b[0;34m\u001b[0m\u001b[0m\n",
      "\u001b[0;32m~/miniconda3/envs/ipseite/lib/python3.7/concurrent/futures/_base.py\u001b[0m in \u001b[0;36mresult\u001b[0;34m(self, timeout)\u001b[0m\n\u001b[1;32m    426\u001b[0m                 \u001b[0;32mraise\u001b[0m \u001b[0mCancelledError\u001b[0m\u001b[0;34m(\u001b[0m\u001b[0;34m)\u001b[0m\u001b[0;34m\u001b[0m\u001b[0;34m\u001b[0m\u001b[0m\n\u001b[1;32m    427\u001b[0m             \u001b[0;32melif\u001b[0m \u001b[0mself\u001b[0m\u001b[0;34m.\u001b[0m\u001b[0m_state\u001b[0m \u001b[0;34m==\u001b[0m \u001b[0mFINISHED\u001b[0m\u001b[0;34m:\u001b[0m\u001b[0;34m\u001b[0m\u001b[0;34m\u001b[0m\u001b[0m\n\u001b[0;32m--> 428\u001b[0;31m                 \u001b[0;32mreturn\u001b[0m \u001b[0mself\u001b[0m\u001b[0;34m.\u001b[0m\u001b[0m__get_result\u001b[0m\u001b[0;34m(\u001b[0m\u001b[0;34m)\u001b[0m\u001b[0;34m\u001b[0m\u001b[0;34m\u001b[0m\u001b[0m\n\u001b[0m\u001b[1;32m    429\u001b[0m \u001b[0;34m\u001b[0m\u001b[0m\n\u001b[1;32m    430\u001b[0m             \u001b[0mself\u001b[0m\u001b[0;34m.\u001b[0m\u001b[0m_condition\u001b[0m\u001b[0;34m.\u001b[0m\u001b[0mwait\u001b[0m\u001b[0;34m(\u001b[0m\u001b[0mtimeout\u001b[0m\u001b[0;34m)\u001b[0m\u001b[0;34m\u001b[0m\u001b[0;34m\u001b[0m\u001b[0m\n",
      "\u001b[0;32m~/miniconda3/envs/ipseite/lib/python3.7/concurrent/futures/_base.py\u001b[0m in \u001b[0;36m__get_result\u001b[0;34m(self)\u001b[0m\n\u001b[1;32m    382\u001b[0m     \u001b[0;32mdef\u001b[0m \u001b[0m__get_result\u001b[0m\u001b[0;34m(\u001b[0m\u001b[0mself\u001b[0m\u001b[0;34m)\u001b[0m\u001b[0;34m:\u001b[0m\u001b[0;34m\u001b[0m\u001b[0;34m\u001b[0m\u001b[0m\n\u001b[1;32m    383\u001b[0m         \u001b[0;32mif\u001b[0m \u001b[0mself\u001b[0m\u001b[0;34m.\u001b[0m\u001b[0m_exception\u001b[0m\u001b[0;34m:\u001b[0m\u001b[0;34m\u001b[0m\u001b[0;34m\u001b[0m\u001b[0m\n\u001b[0;32m--> 384\u001b[0;31m             \u001b[0;32mraise\u001b[0m \u001b[0mself\u001b[0m\u001b[0;34m.\u001b[0m\u001b[0m_exception\u001b[0m\u001b[0;34m\u001b[0m\u001b[0;34m\u001b[0m\u001b[0m\n\u001b[0m\u001b[1;32m    385\u001b[0m         \u001b[0;32melse\u001b[0m\u001b[0;34m:\u001b[0m\u001b[0;34m\u001b[0m\u001b[0;34m\u001b[0m\u001b[0m\n\u001b[1;32m    386\u001b[0m             \u001b[0;32mreturn\u001b[0m \u001b[0mself\u001b[0m\u001b[0;34m.\u001b[0m\u001b[0m_result\u001b[0m\u001b[0;34m\u001b[0m\u001b[0;34m\u001b[0m\u001b[0m\n",
      "\u001b[0;31mValueError\u001b[0m: class_weight must be dict, 'balanced', or None, got: [{0: 1, 1: 5}, {0: 1, 1: 1}, {0: 1, 1: 1}, {0: 1, 1: 1}]"
     ]
    }
   ],
   "source": [
    "# Create the parameter grid based on the results of random search \n",
    "param_grid = {\n",
    "    'bootstrap': [True],\n",
    "    'max_depth': [80, 100, 120],\n",
    "    'max_features': [2, 3],\n",
    "    'min_samples_leaf': [3, 4, 5],\n",
    "    'min_samples_split': [8, 10, 12],\n",
    "    'n_estimators': [50, 100, 200, 300],\n",
    "    'class_weight' : ['balanced', {0: 1, 1: 5}, {0: 1, 1: 1}, {0: 1, 1: 1}, {0: 1, 1: 1}]\n",
    "}\n",
    "# Create a based model\n",
    "rf = RandomForestClassifier()\n",
    "# Instantiate the grid search model\n",
    "grid_search = GridSearchCV(estimator = rf, param_grid = param_grid, \n",
    "                          cv = 3, n_jobs = -1, verbose = 2)\n",
    "\n",
    "#Fit the grid search to the data\n",
    "grid_search.fit(X_train_ao, y_train)\n",
    "#grid_search.best_params_"
   ]
  },
  {
   "cell_type": "code",
   "execution_count": 154,
   "metadata": {},
   "outputs": [],
   "source": [
    "model = RandomForestClassifier()\n",
    "\n",
    "model.fit(X_train, y_train)\n",
    "y_pred = model.predict(X_test)\n",
    "\n",
    "df_pred = pd.DataFrame({'ID': np.arange(len(y_test)),\n",
    "                    'label': y_test})\n",
    "df_pred.to_csv('test_submission_5.csv', index=False)"
   ]
  },
  {
   "cell_type": "markdown",
   "metadata": {},
   "source": [
    "## Boosting"
   ]
  },
  {
   "cell_type": "code",
   "execution_count": 85,
   "metadata": {},
   "outputs": [
    {
     "ename": "ValueError",
     "evalue": "could not convert string to float: 'multipart/alternative'",
     "output_type": "error",
     "traceback": [
      "\u001b[1;31m---------------------------------------------------------------------------\u001b[0m",
      "\u001b[1;31m_RemoteTraceback\u001b[0m                          Traceback (most recent call last)",
      "\u001b[1;31m_RemoteTraceback\u001b[0m: \n\"\"\"\nTraceback (most recent call last):\n  File \"C:\\Users\\Camille\\Anaconda3\\lib\\site-packages\\joblib\\externals\\loky\\process_executor.py\", line 418, in _process_worker\n    r = call_item()\n  File \"C:\\Users\\Camille\\Anaconda3\\lib\\site-packages\\joblib\\externals\\loky\\process_executor.py\", line 272, in __call__\n    return self.fn(*self.args, **self.kwargs)\n  File \"C:\\Users\\Camille\\Anaconda3\\lib\\site-packages\\joblib\\_parallel_backends.py\", line 567, in __call__\n    return self.func(*args, **kwargs)\n  File \"C:\\Users\\Camille\\Anaconda3\\lib\\site-packages\\joblib\\parallel.py\", line 225, in __call__\n    for func, args, kwargs in self.items]\n  File \"C:\\Users\\Camille\\Anaconda3\\lib\\site-packages\\joblib\\parallel.py\", line 225, in <listcomp>\n    for func, args, kwargs in self.items]\n  File \"C:\\Users\\Camille\\Anaconda3\\lib\\site-packages\\sklearn\\model_selection\\_validation.py\", line 514, in _fit_and_score\n    estimator.fit(X_train, y_train, **fit_params)\n  File \"C:\\Users\\Camille\\Anaconda3\\lib\\site-packages\\sklearn\\ensemble\\gradient_boosting.py\", line 1437, in fit\n    X = check_array(X, accept_sparse=['csr', 'csc', 'coo'], dtype=DTYPE)\n  File \"C:\\Users\\Camille\\Anaconda3\\lib\\site-packages\\sklearn\\utils\\validation.py\", line 496, in check_array\n    array = np.asarray(array, dtype=dtype, order=order)\n  File \"C:\\Users\\Camille\\Anaconda3\\lib\\site-packages\\numpy\\core\\numeric.py\", line 538, in asarray\n    return array(a, dtype, copy=False, order=order)\nValueError: could not convert string to float: 'multipart/alternative'\n\"\"\"",
      "\nThe above exception was the direct cause of the following exception:\n",
      "\u001b[1;31mValueError\u001b[0m                                Traceback (most recent call last)",
      "\u001b[1;32m<ipython-input-85-613a066f3a26>\u001b[0m in \u001b[0;36m<module>\u001b[1;34m\u001b[0m\n\u001b[0;32m     13\u001b[0m \u001b[0mclf\u001b[0m \u001b[1;33m=\u001b[0m \u001b[0mGridSearchCV\u001b[0m\u001b[1;33m(\u001b[0m\u001b[0mGradientBoostingClassifier\u001b[0m\u001b[1;33m(\u001b[0m\u001b[1;33m)\u001b[0m\u001b[1;33m,\u001b[0m \u001b[0mparameters\u001b[0m\u001b[1;33m,\u001b[0m \u001b[0mcv\u001b[0m\u001b[1;33m=\u001b[0m\u001b[1;36m10\u001b[0m\u001b[1;33m,\u001b[0m \u001b[0mn_jobs\u001b[0m\u001b[1;33m=\u001b[0m\u001b[1;33m-\u001b[0m\u001b[1;36m1\u001b[0m\u001b[1;33m)\u001b[0m\u001b[1;33m\u001b[0m\u001b[1;33m\u001b[0m\u001b[0m\n\u001b[0;32m     14\u001b[0m \u001b[1;33m\u001b[0m\u001b[0m\n\u001b[1;32m---> 15\u001b[1;33m \u001b[0mclf\u001b[0m\u001b[1;33m.\u001b[0m\u001b[0mfit\u001b[0m\u001b[1;33m(\u001b[0m\u001b[0mX_train_ao\u001b[0m\u001b[1;33m,\u001b[0m \u001b[0my_train\u001b[0m\u001b[1;33m)\u001b[0m\u001b[1;33m\u001b[0m\u001b[1;33m\u001b[0m\u001b[0m\n\u001b[0m\u001b[0;32m     16\u001b[0m \u001b[0mprint\u001b[0m\u001b[1;33m(\u001b[0m\u001b[0mclf\u001b[0m\u001b[1;33m.\u001b[0m\u001b[0mscore\u001b[0m\u001b[1;33m(\u001b[0m\u001b[0mX_train_ao\u001b[0m\u001b[1;33m,\u001b[0m \u001b[0my_train\u001b[0m\u001b[1;33m)\u001b[0m\u001b[1;33m)\u001b[0m\u001b[1;33m\u001b[0m\u001b[1;33m\u001b[0m\u001b[0m\n\u001b[0;32m     17\u001b[0m \u001b[1;31m#print(clf.best_params_)\u001b[0m\u001b[1;33m\u001b[0m\u001b[1;33m\u001b[0m\u001b[1;33m\u001b[0m\u001b[0m\n",
      "\u001b[1;32m~\\Anaconda3\\lib\\site-packages\\sklearn\\model_selection\\_search.py\u001b[0m in \u001b[0;36mfit\u001b[1;34m(self, X, y, groups, **fit_params)\u001b[0m\n\u001b[0;32m    685\u001b[0m                 \u001b[1;32mreturn\u001b[0m \u001b[0mresults\u001b[0m\u001b[1;33m\u001b[0m\u001b[1;33m\u001b[0m\u001b[0m\n\u001b[0;32m    686\u001b[0m \u001b[1;33m\u001b[0m\u001b[0m\n\u001b[1;32m--> 687\u001b[1;33m             \u001b[0mself\u001b[0m\u001b[1;33m.\u001b[0m\u001b[0m_run_search\u001b[0m\u001b[1;33m(\u001b[0m\u001b[0mevaluate_candidates\u001b[0m\u001b[1;33m)\u001b[0m\u001b[1;33m\u001b[0m\u001b[1;33m\u001b[0m\u001b[0m\n\u001b[0m\u001b[0;32m    688\u001b[0m \u001b[1;33m\u001b[0m\u001b[0m\n\u001b[0;32m    689\u001b[0m         \u001b[1;31m# For multi-metric evaluation, store the best_index_, best_params_ and\u001b[0m\u001b[1;33m\u001b[0m\u001b[1;33m\u001b[0m\u001b[1;33m\u001b[0m\u001b[0m\n",
      "\u001b[1;32m~\\Anaconda3\\lib\\site-packages\\sklearn\\model_selection\\_search.py\u001b[0m in \u001b[0;36m_run_search\u001b[1;34m(self, evaluate_candidates)\u001b[0m\n\u001b[0;32m   1146\u001b[0m     \u001b[1;32mdef\u001b[0m \u001b[0m_run_search\u001b[0m\u001b[1;33m(\u001b[0m\u001b[0mself\u001b[0m\u001b[1;33m,\u001b[0m \u001b[0mevaluate_candidates\u001b[0m\u001b[1;33m)\u001b[0m\u001b[1;33m:\u001b[0m\u001b[1;33m\u001b[0m\u001b[1;33m\u001b[0m\u001b[0m\n\u001b[0;32m   1147\u001b[0m         \u001b[1;34m\"\"\"Search all candidates in param_grid\"\"\"\u001b[0m\u001b[1;33m\u001b[0m\u001b[1;33m\u001b[0m\u001b[0m\n\u001b[1;32m-> 1148\u001b[1;33m         \u001b[0mevaluate_candidates\u001b[0m\u001b[1;33m(\u001b[0m\u001b[0mParameterGrid\u001b[0m\u001b[1;33m(\u001b[0m\u001b[0mself\u001b[0m\u001b[1;33m.\u001b[0m\u001b[0mparam_grid\u001b[0m\u001b[1;33m)\u001b[0m\u001b[1;33m)\u001b[0m\u001b[1;33m\u001b[0m\u001b[1;33m\u001b[0m\u001b[0m\n\u001b[0m\u001b[0;32m   1149\u001b[0m \u001b[1;33m\u001b[0m\u001b[0m\n\u001b[0;32m   1150\u001b[0m \u001b[1;33m\u001b[0m\u001b[0m\n",
      "\u001b[1;32m~\\Anaconda3\\lib\\site-packages\\sklearn\\model_selection\\_search.py\u001b[0m in \u001b[0;36mevaluate_candidates\u001b[1;34m(candidate_params)\u001b[0m\n\u001b[0;32m    664\u001b[0m                                \u001b[1;32mfor\u001b[0m \u001b[0mparameters\u001b[0m\u001b[1;33m,\u001b[0m \u001b[1;33m(\u001b[0m\u001b[0mtrain\u001b[0m\u001b[1;33m,\u001b[0m \u001b[0mtest\u001b[0m\u001b[1;33m)\u001b[0m\u001b[1;33m\u001b[0m\u001b[1;33m\u001b[0m\u001b[0m\n\u001b[0;32m    665\u001b[0m                                in product(candidate_params,\n\u001b[1;32m--> 666\u001b[1;33m                                           cv.split(X, y, groups)))\n\u001b[0m\u001b[0;32m    667\u001b[0m \u001b[1;33m\u001b[0m\u001b[0m\n\u001b[0;32m    668\u001b[0m                 \u001b[1;32mif\u001b[0m \u001b[0mlen\u001b[0m\u001b[1;33m(\u001b[0m\u001b[0mout\u001b[0m\u001b[1;33m)\u001b[0m \u001b[1;33m<\u001b[0m \u001b[1;36m1\u001b[0m\u001b[1;33m:\u001b[0m\u001b[1;33m\u001b[0m\u001b[1;33m\u001b[0m\u001b[0m\n",
      "\u001b[1;32m~\\Anaconda3\\lib\\site-packages\\joblib\\parallel.py\u001b[0m in \u001b[0;36m__call__\u001b[1;34m(self, iterable)\u001b[0m\n\u001b[0;32m    932\u001b[0m \u001b[1;33m\u001b[0m\u001b[0m\n\u001b[0;32m    933\u001b[0m             \u001b[1;32mwith\u001b[0m \u001b[0mself\u001b[0m\u001b[1;33m.\u001b[0m\u001b[0m_backend\u001b[0m\u001b[1;33m.\u001b[0m\u001b[0mretrieval_context\u001b[0m\u001b[1;33m(\u001b[0m\u001b[1;33m)\u001b[0m\u001b[1;33m:\u001b[0m\u001b[1;33m\u001b[0m\u001b[1;33m\u001b[0m\u001b[0m\n\u001b[1;32m--> 934\u001b[1;33m                 \u001b[0mself\u001b[0m\u001b[1;33m.\u001b[0m\u001b[0mretrieve\u001b[0m\u001b[1;33m(\u001b[0m\u001b[1;33m)\u001b[0m\u001b[1;33m\u001b[0m\u001b[1;33m\u001b[0m\u001b[0m\n\u001b[0m\u001b[0;32m    935\u001b[0m             \u001b[1;31m# Make sure that we get a last message telling us we are done\u001b[0m\u001b[1;33m\u001b[0m\u001b[1;33m\u001b[0m\u001b[1;33m\u001b[0m\u001b[0m\n\u001b[0;32m    936\u001b[0m             \u001b[0melapsed_time\u001b[0m \u001b[1;33m=\u001b[0m \u001b[0mtime\u001b[0m\u001b[1;33m.\u001b[0m\u001b[0mtime\u001b[0m\u001b[1;33m(\u001b[0m\u001b[1;33m)\u001b[0m \u001b[1;33m-\u001b[0m \u001b[0mself\u001b[0m\u001b[1;33m.\u001b[0m\u001b[0m_start_time\u001b[0m\u001b[1;33m\u001b[0m\u001b[1;33m\u001b[0m\u001b[0m\n",
      "\u001b[1;32m~\\Anaconda3\\lib\\site-packages\\joblib\\parallel.py\u001b[0m in \u001b[0;36mretrieve\u001b[1;34m(self)\u001b[0m\n\u001b[0;32m    831\u001b[0m             \u001b[1;32mtry\u001b[0m\u001b[1;33m:\u001b[0m\u001b[1;33m\u001b[0m\u001b[1;33m\u001b[0m\u001b[0m\n\u001b[0;32m    832\u001b[0m                 \u001b[1;32mif\u001b[0m \u001b[0mgetattr\u001b[0m\u001b[1;33m(\u001b[0m\u001b[0mself\u001b[0m\u001b[1;33m.\u001b[0m\u001b[0m_backend\u001b[0m\u001b[1;33m,\u001b[0m \u001b[1;34m'supports_timeout'\u001b[0m\u001b[1;33m,\u001b[0m \u001b[1;32mFalse\u001b[0m\u001b[1;33m)\u001b[0m\u001b[1;33m:\u001b[0m\u001b[1;33m\u001b[0m\u001b[1;33m\u001b[0m\u001b[0m\n\u001b[1;32m--> 833\u001b[1;33m                     \u001b[0mself\u001b[0m\u001b[1;33m.\u001b[0m\u001b[0m_output\u001b[0m\u001b[1;33m.\u001b[0m\u001b[0mextend\u001b[0m\u001b[1;33m(\u001b[0m\u001b[0mjob\u001b[0m\u001b[1;33m.\u001b[0m\u001b[0mget\u001b[0m\u001b[1;33m(\u001b[0m\u001b[0mtimeout\u001b[0m\u001b[1;33m=\u001b[0m\u001b[0mself\u001b[0m\u001b[1;33m.\u001b[0m\u001b[0mtimeout\u001b[0m\u001b[1;33m)\u001b[0m\u001b[1;33m)\u001b[0m\u001b[1;33m\u001b[0m\u001b[1;33m\u001b[0m\u001b[0m\n\u001b[0m\u001b[0;32m    834\u001b[0m                 \u001b[1;32melse\u001b[0m\u001b[1;33m:\u001b[0m\u001b[1;33m\u001b[0m\u001b[1;33m\u001b[0m\u001b[0m\n\u001b[0;32m    835\u001b[0m                     \u001b[0mself\u001b[0m\u001b[1;33m.\u001b[0m\u001b[0m_output\u001b[0m\u001b[1;33m.\u001b[0m\u001b[0mextend\u001b[0m\u001b[1;33m(\u001b[0m\u001b[0mjob\u001b[0m\u001b[1;33m.\u001b[0m\u001b[0mget\u001b[0m\u001b[1;33m(\u001b[0m\u001b[1;33m)\u001b[0m\u001b[1;33m)\u001b[0m\u001b[1;33m\u001b[0m\u001b[1;33m\u001b[0m\u001b[0m\n",
      "\u001b[1;32m~\\Anaconda3\\lib\\site-packages\\joblib\\_parallel_backends.py\u001b[0m in \u001b[0;36mwrap_future_result\u001b[1;34m(future, timeout)\u001b[0m\n\u001b[0;32m    519\u001b[0m         AsyncResults.get from multiprocessing.\"\"\"\n\u001b[0;32m    520\u001b[0m         \u001b[1;32mtry\u001b[0m\u001b[1;33m:\u001b[0m\u001b[1;33m\u001b[0m\u001b[1;33m\u001b[0m\u001b[0m\n\u001b[1;32m--> 521\u001b[1;33m             \u001b[1;32mreturn\u001b[0m \u001b[0mfuture\u001b[0m\u001b[1;33m.\u001b[0m\u001b[0mresult\u001b[0m\u001b[1;33m(\u001b[0m\u001b[0mtimeout\u001b[0m\u001b[1;33m=\u001b[0m\u001b[0mtimeout\u001b[0m\u001b[1;33m)\u001b[0m\u001b[1;33m\u001b[0m\u001b[1;33m\u001b[0m\u001b[0m\n\u001b[0m\u001b[0;32m    522\u001b[0m         \u001b[1;32mexcept\u001b[0m \u001b[0mLokyTimeoutError\u001b[0m\u001b[1;33m:\u001b[0m\u001b[1;33m\u001b[0m\u001b[1;33m\u001b[0m\u001b[0m\n\u001b[0;32m    523\u001b[0m             \u001b[1;32mraise\u001b[0m \u001b[0mTimeoutError\u001b[0m\u001b[1;33m(\u001b[0m\u001b[1;33m)\u001b[0m\u001b[1;33m\u001b[0m\u001b[1;33m\u001b[0m\u001b[0m\n",
      "\u001b[1;32m~\\Anaconda3\\lib\\concurrent\\futures\\_base.py\u001b[0m in \u001b[0;36mresult\u001b[1;34m(self, timeout)\u001b[0m\n\u001b[0;32m    430\u001b[0m                 \u001b[1;32mraise\u001b[0m \u001b[0mCancelledError\u001b[0m\u001b[1;33m(\u001b[0m\u001b[1;33m)\u001b[0m\u001b[1;33m\u001b[0m\u001b[1;33m\u001b[0m\u001b[0m\n\u001b[0;32m    431\u001b[0m             \u001b[1;32melif\u001b[0m \u001b[0mself\u001b[0m\u001b[1;33m.\u001b[0m\u001b[0m_state\u001b[0m \u001b[1;33m==\u001b[0m \u001b[0mFINISHED\u001b[0m\u001b[1;33m:\u001b[0m\u001b[1;33m\u001b[0m\u001b[1;33m\u001b[0m\u001b[0m\n\u001b[1;32m--> 432\u001b[1;33m                 \u001b[1;32mreturn\u001b[0m \u001b[0mself\u001b[0m\u001b[1;33m.\u001b[0m\u001b[0m__get_result\u001b[0m\u001b[1;33m(\u001b[0m\u001b[1;33m)\u001b[0m\u001b[1;33m\u001b[0m\u001b[1;33m\u001b[0m\u001b[0m\n\u001b[0m\u001b[0;32m    433\u001b[0m             \u001b[1;32melse\u001b[0m\u001b[1;33m:\u001b[0m\u001b[1;33m\u001b[0m\u001b[1;33m\u001b[0m\u001b[0m\n\u001b[0;32m    434\u001b[0m                 \u001b[1;32mraise\u001b[0m \u001b[0mTimeoutError\u001b[0m\u001b[1;33m(\u001b[0m\u001b[1;33m)\u001b[0m\u001b[1;33m\u001b[0m\u001b[1;33m\u001b[0m\u001b[0m\n",
      "\u001b[1;32m~\\Anaconda3\\lib\\concurrent\\futures\\_base.py\u001b[0m in \u001b[0;36m__get_result\u001b[1;34m(self)\u001b[0m\n\u001b[0;32m    382\u001b[0m     \u001b[1;32mdef\u001b[0m \u001b[0m__get_result\u001b[0m\u001b[1;33m(\u001b[0m\u001b[0mself\u001b[0m\u001b[1;33m)\u001b[0m\u001b[1;33m:\u001b[0m\u001b[1;33m\u001b[0m\u001b[1;33m\u001b[0m\u001b[0m\n\u001b[0;32m    383\u001b[0m         \u001b[1;32mif\u001b[0m \u001b[0mself\u001b[0m\u001b[1;33m.\u001b[0m\u001b[0m_exception\u001b[0m\u001b[1;33m:\u001b[0m\u001b[1;33m\u001b[0m\u001b[1;33m\u001b[0m\u001b[0m\n\u001b[1;32m--> 384\u001b[1;33m             \u001b[1;32mraise\u001b[0m \u001b[0mself\u001b[0m\u001b[1;33m.\u001b[0m\u001b[0m_exception\u001b[0m\u001b[1;33m\u001b[0m\u001b[1;33m\u001b[0m\u001b[0m\n\u001b[0m\u001b[0;32m    385\u001b[0m         \u001b[1;32melse\u001b[0m\u001b[1;33m:\u001b[0m\u001b[1;33m\u001b[0m\u001b[1;33m\u001b[0m\u001b[0m\n\u001b[0;32m    386\u001b[0m             \u001b[1;32mreturn\u001b[0m \u001b[0mself\u001b[0m\u001b[1;33m.\u001b[0m\u001b[0m_result\u001b[0m\u001b[1;33m\u001b[0m\u001b[1;33m\u001b[0m\u001b[0m\n",
      "\u001b[1;31mValueError\u001b[0m: could not convert string to float: 'multipart/alternative'"
     ]
    }
   ],
   "source": [
    "parameters = {\n",
    "    \"loss\":[\"deviance\"],\n",
    "    \"learning_rate\": [0.01, 0.025, 0.05, 0.075, 0.1, 0.15, 0.2],\n",
    "    \"min_samples_split\": np.linspace(0.1, 0.5, 12),\n",
    "    \"min_samples_leaf\": np.linspace(0.1, 0.5, 12),\n",
    "    \"max_depth\":[3,5,8],\n",
    "    \"max_features\":[\"log2\",\"sqrt\"],\n",
    "    \"criterion\": [\"friedman_mse\",  \"mae\"],\n",
    "    \"subsample\":[0.5, 0.618, 0.8, 0.85, 0.9, 0.95, 1.0],\n",
    "    \"n_estimators\":[10]\n",
    "    }\n",
    "\n",
    "clf = GridSearchCV(GradientBoostingClassifier(), parameters, cv=10, n_jobs=-1)\n",
    "\n",
    "clf.fit(X_train_ao, y_train)\n",
    "print(clf.score(X_train_ao, y_train))\n",
    "#print(clf.best_params_)"
   ]
  },
  {
   "cell_type": "code",
   "execution_count": null,
   "metadata": {},
   "outputs": [],
   "source": [
    "model = GradientBoostingClassifier()\n",
    "\n",
    "model.fit(X_train, y_train)\n",
    "\n",
    "y_pred = model.predict(X_test)\n",
    "\n",
    "df_pred = pd.DataFrame({'ID': np.arange(len(y_test)),\n",
    "                    'label': y_test})\n",
    "df_pred.to_csv('test_submission_5.csv', index=False)"
   ]
  },
  {
   "cell_type": "markdown",
   "metadata": {},
   "source": [
    "## Neural Networks"
   ]
  },
  {
   "cell_type": "code",
   "execution_count": 63,
   "metadata": {},
   "outputs": [],
   "source": [
    "import numpy as np\n",
    "import matplotlib.pyplot as plt\n",
    "import pandas as pd\n",
    "from sklearn.impute import SimpleImputer\n",
    "from sklearn.decomposition import PCA\n",
    "\n",
    "import tensorflow as tf\n",
    "from tensorflow.keras.models import Sequential\n",
    "from tensorflow.keras.layers import Dense\n",
    "from tensorflow.keras.layers import BatchNormalization\n",
    "from tensorflow.keras.optimizers import Adam\n",
    "from tensorflow.keras import regularizers"
   ]
  },
  {
   "cell_type": "code",
   "execution_count": 126,
   "metadata": {},
   "outputs": [],
   "source": [
    "def define_model_rnn(in_dim=150,units_1=450,units_2=50,units_3=200,learning_rate=0.0002):\n",
    "\n",
    "    model = Sequential()\n",
    "    model.add(Dense(units=units_1, activation='relu', input_dim=in_dim,kernel_regularizer=regularizers.l1(0.001),bias_regularizer=regularizers.l2(0.03)))\n",
    "    model.add(Dense(units=units_2, activation='relu', input_dim=units_1,kernel_regularizer=regularizers.l1(0.001),bias_regularizer=regularizers.l2(0.03)))\n",
    "    model.add(Dense(units=units_3, activation='relu', input_dim=units_2,kernel_regularizer=regularizers.l1(0.001),bias_regularizer=regularizers.l2(0.03)))\n",
    "    model.add(Dense(units=4, activation='softmax',input_dim=units_3))\n",
    "      \n",
    "    opt = Adam(lr=learning_rate)\n",
    "    \n",
    "    model.compile(loss='sparse_categorical_crossentropy',\n",
    "              optimizer=opt,\n",
    "              metrics=['accuracy'])\n",
    "\n",
    "    return model"
   ]
  },
  {
   "cell_type": "code",
   "execution_count": 127,
   "metadata": {},
   "outputs": [],
   "source": [
    "def fit_predict_rnn(model, X_train, X_test, Y_train):\n",
    "    \n",
    "    model.fit(X_train, Y_train, epochs=8, batch_size=40)\n",
    "    classes = model.predict(X_test)\n",
    "    \n",
    "    y_pred = [np.argmax(classes[i]) for i in range (len(classes))]\n",
    "    y_pred = np.array(y_pred)\n",
    "    \n",
    "    return model, y_pred"
   ]
  },
  {
   "cell_type": "code",
   "execution_count": 132,
   "metadata": {},
   "outputs": [],
   "source": [
    "def feature_engineering_rnn(X_train, X_test):  \n",
    "\n",
    "    pca = PCA(n_components = 150)\n",
    "    X_train = pca.fit_transform(X_train)\n",
    "    X_test = pca.transform(X_test)\n",
    "\n",
    "    return X_train, X_test"
   ]
  },
  {
   "cell_type": "code",
   "execution_count": 129,
   "metadata": {},
   "outputs": [],
   "source": [
    "#think about class weight\n",
    "def rnn(X_train,X_test,y_train,model_learning_rate=0.0002,weight_1=20.):\n",
    "\n",
    "    #X_train = X_train.values\n",
    "    #X_test = X_test.values\n",
    "    y_train = y_train.values.ravel()\n",
    "    \n",
    "    model = define_model_rnn(learning_rate=model_learning_rate)\n",
    "    \n",
    "    #class_w = {0: 1.,\n",
    "    #            1: weight_1}\n",
    "    \n",
    "    _,y_pred = fit_predict_rnn(model,X_train,X_test,y_train)\n",
    "    \n",
    "    return y_pred"
   ]
  },
  {
   "cell_type": "code",
   "execution_count": 130,
   "metadata": {
    "scrolled": true
   },
   "outputs": [
    {
     "data": {
      "text/plain": [
       "array([[ 0,  0,  0, ...,  0,  0,  0],\n",
       "       [ 0,  0, 15, ...,  0,  0,  0],\n",
       "       [ 0,  0, 12, ...,  0,  0,  0],\n",
       "       ...,\n",
       "       [ 0,  0,  4, ...,  0,  0,  0],\n",
       "       [ 4,  0,  0, ...,  0,  0,  0],\n",
       "       [ 0,  0,  2, ...,  0,  0,  0]])"
      ]
     },
     "execution_count": 130,
     "metadata": {},
     "output_type": "execute_result"
    }
   ],
   "source": [
    "X_train = train_df_0.drop(['label'], axis=1).copy()\n",
    "\n",
    "X_train.values"
   ]
  },
  {
   "cell_type": "code",
   "execution_count": 131,
   "metadata": {},
   "outputs": [
    {
     "name": "stdout",
     "output_type": "stream",
     "text": [
      "[[ 0  0  0 ...  0  0  0]\n",
      " [ 0  0 15 ...  0  0  0]\n",
      " [ 0  0 12 ...  0  0  0]\n",
      " ...\n",
      " [ 0  0  4 ...  0  0  0]\n",
      " [ 4  0  0 ...  0  0  0]\n",
      " [ 0  0  2 ...  0  0  0]]\n",
      "[[-1.22755229e+05 -3.21466737e+01 -5.21534635e+01 ...  1.01005711e-03\n",
      "   1.87219358e-03  3.50940137e-03]\n",
      " [-8.73152289e+04  5.49972232e+00  1.29627127e+00 ... -6.48487169e-04\n",
      "  -1.46102910e-03  7.35573290e-05]\n",
      " [-2.19892288e+04  7.06584242e+01  7.07574017e+00 ...  6.60076155e-04\n",
      "   4.63470552e-04  1.72277388e-03]\n",
      " ...\n",
      " [-9.95772289e+04 -1.75229053e+01  2.41997001e+01 ...  8.78828450e-04\n",
      "   4.16522269e-03 -1.33088942e-03]\n",
      " [-1.22005229e+05 -3.56328781e+01 -3.14202629e+01 ... -1.35497060e-03\n",
      "  -1.44207874e-03 -9.09873242e-04]\n",
      " [-1.16300229e+05 -2.34830823e+01  1.08569154e+01 ... -1.24883792e-02\n",
      "   1.61761067e-02 -1.83365825e-03]]\n",
      "Train on 24840 samples\n",
      "Epoch 1/8\n",
      "24840/24840 [==============================] - 9s 370us/sample - loss: 158.0854 - accuracy: 0.3351\n",
      "Epoch 2/8\n",
      "24840/24840 [==============================] - 7s 277us/sample - loss: 168.6047 - accuracy: 0.3646\n",
      "Epoch 3/8\n",
      "24840/24840 [==============================] - 7s 282us/sample - loss: 89.9949 - accuracy: 0.3951\n",
      "Epoch 4/8\n",
      "24840/24840 [==============================] - 8s 317us/sample - loss: 62.8595 - accuracy: 0.3967\n",
      "Epoch 5/8\n",
      "24840/24840 [==============================] - 8s 324us/sample - loss: 69.6749 - accuracy: 0.4167\n",
      "Epoch 6/8\n",
      "24840/24840 [==============================] - 8s 302us/sample - loss: 121.8915 - accuracy: 0.4195\n",
      "Epoch 7/8\n",
      "24840/24840 [==============================] - 7s 281us/sample - loss: 46.5773 - accuracy: 0.4257\n",
      "Epoch 8/8\n",
      "24840/24840 [==============================] - 7s 288us/sample - loss: 51.5924 - accuracy: 0.3875\n"
     ]
    }
   ],
   "source": [
    "X_train = train_df_0.drop(['label'], axis=1).copy()\n",
    "X_test = test_x_0.copy()\n",
    "y_train = train_df.label\n",
    "\n",
    "X_train, X_test = feature_engineering_rnn(X_train, X_test)\n",
    "\n",
    "y_pred = rnn(X_train,X_test,y_train)"
   ]
  },
  {
   "cell_type": "code",
   "execution_count": 122,
   "metadata": {},
   "outputs": [],
   "source": [
    "res = pd.DataFrame({'ID': np.arange(len(y_test)),\n",
    "                    'label': y_pred})\n",
    "res.to_csv('test_submission_3.csv', index=False)"
   ]
  },
  {
   "cell_type": "code",
   "execution_count": null,
   "metadata": {},
   "outputs": [],
   "source": [
    "# instantiate labelencoder object\n",
    "le = LabelEncoder()\n",
    "# apply le on categorical feature columns\n",
    "train_x[['org']] = train_x[['org']].apply(lambda col: le.fit_transform(col))"
   ]
  },
  {
   "cell_type": "code",
   "execution_count": null,
   "metadata": {},
   "outputs": [],
   "source": [
    "feat_enc_org = OneHotEncoder()\n",
    "feat_enc_org.fit(train_x[['org']])\n",
    "train_x_featurized = feat_enc_org.transform(train_x[['org']])"
   ]
  },
  {
   "cell_type": "code",
   "execution_count": null,
   "metadata": {},
   "outputs": [],
   "source": [
    "## Do one hot encoding of categorical feature\n",
    "feat_enc = OneHotEncoder()\n",
    "feat_enc.fit(train_x)\n",
    "train_x_featurized = feat_enc.transform(train_x)\n",
    "test_x_featurized = feat_enc.transform(test_x)\n",
    "\n",
    "## Train a simple KNN classifier using featurized data\n",
    "neigh = KNeighborsClassifier(n_neighbors=3)\n",
    "neigh.fit(train_x_featurized, train_y)\n",
    "pred_y = neigh.predict(test_x_featurized)"
   ]
  },
  {
   "cell_type": "code",
   "execution_count": null,
   "metadata": {},
   "outputs": [],
   "source": [
    "pred_df = pd.DataFrame(pred_y, columns=['label'])\n",
    "pred_df.to_csv(\"knn_sample_submission.csv\", index=True, index_label='Id')"
   ]
  }
 ],
 "metadata": {
  "kernelspec": {
   "display_name": "Python 3",
   "language": "python",
   "name": "python3"
  },
  "language_info": {
   "codemirror_mode": {
    "name": "ipython",
    "version": 3
   },
   "file_extension": ".py",
   "mimetype": "text/x-python",
   "name": "python",
   "nbconvert_exporter": "python",
   "pygments_lexer": "ipython3",
   "version": "3.7.6"
  }
 },
 "nbformat": 4,
 "nbformat_minor": 2
}
